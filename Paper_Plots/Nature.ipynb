{
 "cells": [
  {
   "cell_type": "markdown",
   "id": "d0b4e973",
   "metadata": {},
   "source": [
    "Code to generate the plots used in the Nature Energy Submission"
   ]
  },
  {
   "cell_type": "code",
   "execution_count": 2,
   "id": "8afdf462",
   "metadata": {},
   "outputs": [],
   "source": [
    "# Directory manipulation for relative notebook imports\n",
    "import os, sys\n",
    "dir2 = os.path.abspath('')\n",
    "dir1 = os.path.dirname(dir2)\n",
    "if not dir1 in sys.path: sys.path.append(dir1)\n",
    "\n",
    "# Relative import for relevant methods\n",
    "from Visualization.plot_util import *\n",
    "from Data.data_load_util import *"
   ]
  },
  {
   "cell_type": "code",
   "execution_count": 17,
   "id": "2638aec1",
   "metadata": {},
   "outputs": [],
   "source": [
    "zips_df, state_df, pos_df = make_dataset(granularity='both', remove_outliers=False, load_dir_prefix='../Data/')"
   ]
  },
  {
   "cell_type": "code",
   "execution_count": 16,
   "id": "22667e5c",
   "metadata": {},
   "outputs": [
    {
     "data": {
      "text/plain": [
       "777     49549.518233\n",
       "778     27984.417216\n",
       "779     57677.558075\n",
       "780     54844.298286\n",
       "781    113396.815126\n",
       "782     22860.665436\n",
       "783     37422.904626\n",
       "784     29854.518555\n",
       "785     62666.072770\n",
       "786     43782.233601\n",
       "787     69494.820704\n",
       "788     27069.688869\n",
       "789    117209.316798\n",
       "790    113336.329155\n",
       "791     55531.750314\n",
       "792     33511.838247\n",
       "793     18229.519814\n",
       "794     59675.830333\n",
       "795     45431.396606\n",
       "796     36788.352274\n",
       "797     45705.597789\n",
       "798     59322.203872\n",
       "799    164248.548793\n",
       "800     65318.073212\n",
       "801     42222.696933\n",
       "802     15411.418910\n",
       "803     12533.928346\n",
       "804     56193.346848\n",
       "805     80547.234111\n",
       "806     19092.396307\n",
       "807      7116.164980\n",
       "808     68744.809677\n",
       "809     55520.036080\n",
       "810     14766.293630\n",
       "Name: carbon_offset_metric_tons, dtype: float64"
      ]
     },
     "execution_count": 16,
     "metadata": {},
     "output_type": "execute_result"
    }
   ],
   "source": [
    "zips_df[zips_df['state_name'] == 'Delaware']['carbon_offset_metric_tons']"
   ]
  },
  {
   "cell_type": "code",
   "execution_count": 18,
   "id": "d8ff10b4",
   "metadata": {},
   "outputs": [
    {
     "name": "stdout",
     "output_type": "stream",
     "text": [
      "0      3.490065\n",
      "1      3.466444\n",
      "2      4.995974\n",
      "3      3.182246\n",
      "4      4.425221\n",
      "5      5.931141\n",
      "6      2.237032\n",
      "7           NaN\n",
      "8      2.826583\n",
      "9      3.058994\n",
      "10     2.480430\n",
      "11     3.883663\n",
      "12     4.406594\n",
      "13     4.663824\n",
      "14     4.272757\n",
      "15     4.622169\n",
      "16     4.222398\n",
      "17     4.472738\n",
      "18     2.848862\n",
      "19          NaN\n",
      "20     2.053470\n",
      "21     5.105371\n",
      "22     5.294330\n",
      "23     3.102404\n",
      "24     5.035965\n",
      "25    11.606709\n",
      "26     4.092085\n",
      "27     4.429035\n",
      "28     1.844936\n",
      "29     1.976536\n",
      "30     5.241593\n",
      "31     1.602776\n",
      "32     1.972746\n",
      "33     4.328133\n",
      "34     6.088410\n",
      "35     5.033662\n",
      "36     2.351284\n",
      "37          NaN\n",
      "38     1.723654\n",
      "39     2.010317\n",
      "40     4.138392\n",
      "41     2.768631\n",
      "42     3.648035\n",
      "43     9.313779\n",
      "44     3.190386\n",
      "45     0.280237\n",
      "46     3.527678\n",
      "47     1.153038\n",
      "48     5.389832\n",
      "49     3.804052\n",
      "Name: carbon_offset_metric_tons, dtype: float64\n"
     ]
    },
    {
     "data": {
      "text/plain": [
       "0            Alabama\n",
       "1             Alaska\n",
       "2            Arizona\n",
       "3           Arkansas\n",
       "4         California\n",
       "5           Colorado\n",
       "6        Connecticut\n",
       "7           Delaware\n",
       "8            Florida\n",
       "9            Georgia\n",
       "10            Hawaii\n",
       "11             Idaho\n",
       "12          Illinois\n",
       "13           Indiana\n",
       "14              Iowa\n",
       "15            Kansas\n",
       "16          Kentucky\n",
       "17         Louisiana\n",
       "18             Maine\n",
       "19          Maryland\n",
       "20     Massachusetts\n",
       "21          Michigan\n",
       "22         Minnesota\n",
       "23       Mississippi\n",
       "24          Missouri\n",
       "25           Montana\n",
       "26          Nebraska\n",
       "27            Nevada\n",
       "28     New Hampshire\n",
       "29        New Jersey\n",
       "30        New Mexico\n",
       "31          New York\n",
       "32    North Carolina\n",
       "33      North Dakota\n",
       "34              Ohio\n",
       "35          Oklahoma\n",
       "36            Oregon\n",
       "37      Pennsylvania\n",
       "38      Rhode Island\n",
       "39    South Carolina\n",
       "40      South Dakota\n",
       "41         Tennessee\n",
       "42             Texas\n",
       "43              Utah\n",
       "44           Vermont\n",
       "45          Virginia\n",
       "46        Washington\n",
       "47     West Virginia\n",
       "48         Wisconsin\n",
       "49           Wyoming\n",
       "Name: State, dtype: object"
      ]
     },
     "execution_count": 18,
     "metadata": {},
     "output_type": "execute_result"
    }
   ],
   "source": [
    "print(state_df['carbon_offset_metric_tons'])\n",
    "state_df['State']"
   ]
  },
  {
   "cell_type": "code",
   "execution_count": null,
   "id": "03991e03",
   "metadata": {},
   "outputs": [],
   "source": [
    "plot_state_map(state_df, key='carbon_offset_metric_tons', fill_color='Blues', legend_name=\"Carbon Offset Metric Tons\", save_dir_prefix=\"../Visualization/\")"
   ]
  },
  {
   "cell_type": "code",
   "execution_count": null,
   "id": "9bee3e49",
   "metadata": {},
   "outputs": [],
   "source": []
  }
 ],
 "metadata": {
  "kernelspec": {
   "display_name": "Python 3",
   "language": "python",
   "name": "python3"
  },
  "language_info": {
   "codemirror_mode": {
    "name": "ipython",
    "version": 3
   },
   "file_extension": ".py",
   "mimetype": "text/x-python",
   "name": "python",
   "nbconvert_exporter": "python",
   "pygments_lexer": "ipython3",
   "version": "3.10.1"
  }
 },
 "nbformat": 4,
 "nbformat_minor": 5
}
