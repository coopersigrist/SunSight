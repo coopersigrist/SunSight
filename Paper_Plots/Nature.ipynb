{
 "cells": [
  {
   "cell_type": "markdown",
   "id": "d0b4e973",
   "metadata": {},
   "source": [
    "Code to generate the plots used in the Nature Energy Submission"
   ]
  },
  {
   "cell_type": "code",
   "execution_count": 1,
   "id": "8afdf462",
   "metadata": {},
   "outputs": [],
   "source": [
    "# Directory manipulation for relative notebook imports\n",
    "import os, sys\n",
    "dir2 = os.path.abspath('')\n",
    "dir1 = os.path.dirname(dir2)\n",
    "if not dir1 in sys.path: sys.path.append(dir1)\n",
    "\n",
    "# Relative import for relevant methods\n",
    "from Visualization.plot_util import *\n",
    "from Data.data_load_util import *"
   ]
  },
  {
   "cell_type": "code",
   "execution_count": 2,
   "id": "2638aec1",
   "metadata": {},
   "outputs": [],
   "source": [
    "zips_df, state_df, pos_df = make_dataset(granularity='both', remove_outliers=False, load_dir_prefix='../Data/')"
   ]
  },
  {
   "cell_type": "code",
   "execution_count": null,
   "id": "d8ff10b4",
   "metadata": {},
   "outputs": [],
   "source": [
    "state_df['carbon_offset_metric_tons']"
   ]
  },
  {
   "cell_type": "code",
   "execution_count": null,
   "id": "03991e03",
   "metadata": {},
   "outputs": [],
   "source": [
    "plot_state_map(state_df, key='carbon_offset_metric_tons', fill_color='Blues', legend_name=\"Carbon Offset Metric Tons\", save_dir_prefix=\"../Visualization/\")"
   ]
  },
  {
   "cell_type": "code",
   "execution_count": null,
   "id": "9bee3e49",
   "metadata": {},
   "outputs": [],
   "source": []
  }
 ],
 "metadata": {
  "kernelspec": {
   "display_name": "Python 3",
   "language": "python",
   "name": "python3"
  },
  "language_info": {
   "codemirror_mode": {
    "name": "ipython",
    "version": 3
   },
   "file_extension": ".py",
   "mimetype": "text/x-python",
   "name": "python",
   "nbconvert_exporter": "python",
   "pygments_lexer": "ipython3",
   "version": "3.10.1"
  }
 },
 "nbformat": 4,
 "nbformat_minor": 5
}
