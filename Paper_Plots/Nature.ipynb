{
 "cells": [
  {
   "cell_type": "markdown",
   "id": "d0b4e973",
   "metadata": {},
   "source": [
    "Code to generate the plots used in the Nature Energy Submission"
   ]
  },
  {
   "cell_type": "code",
   "execution_count": 1,
   "id": "8afdf462",
   "metadata": {},
   "outputs": [],
   "source": [
    "# Directory manipulation for relative notebook imports\n",
    "import os, sys\n",
    "dir2 = os.path.abspath('')\n",
    "dir1 = os.path.dirname(dir2)\n",
    "if not dir1 in sys.path: sys.path.append(dir1)\n",
    "\n",
    "# Relative import for relevant methods\n",
    "from Visualization.plot_util import *\n",
    "from Data.data_load_util import *"
   ]
  },
  {
   "cell_type": "code",
   "execution_count": null,
   "id": "2638aec1",
   "metadata": {},
   "outputs": [],
   "source": [
    "zips_df, state_df, pos_df = make_dataset(granularity='both', remove_outliers=False, load_dir_prefix='../Data/')"
   ]
  },
  {
   "cell_type": "code",
   "execution_count": 3,
   "id": "22667e5c",
   "metadata": {},
   "outputs": [
    {
     "data": {
      "text/plain": [
       "2406    137278.596698\n",
       "2407    153790.038625\n",
       "2408     14086.622802\n",
       "2409      5705.901974\n",
       "2410     49563.041236\n",
       "2411       912.492918\n",
       "2412    137253.021649\n",
       "2413    125462.554055\n",
       "2414    326466.495657\n",
       "2415       329.675185\n",
       "2416     79100.271062\n",
       "2417     58639.140889\n",
       "2418     79739.559649\n",
       "2419     71132.418533\n",
       "2420     75327.124428\n",
       "2421     17708.124905\n",
       "2422     34201.946736\n",
       "2423    128071.859558\n",
       "2424     34824.780250\n",
       "2425     66359.290498\n",
       "2426    138945.416542\n",
       "2427    101676.423141\n",
       "2428       192.004426\n",
       "2429        26.571872\n",
       "2430     39466.479855\n",
       "2431       347.509755\n",
       "2432     11899.342227\n",
       "2433      5929.984198\n",
       "2434      3150.854767\n",
       "2435     25591.099663\n",
       "2436     25392.676876\n",
       "2437     57193.229211\n",
       "2438      3137.967634\n",
       "2439       738.681242\n",
       "Name: carbon_offset_metric_tons, dtype: float64"
      ]
     },
     "execution_count": 3,
     "metadata": {},
     "output_type": "execute_result"
    }
   ],
   "source": [
    "zips_df[zips_df['state_name'] == 'Delaware']['carbon_offset_metric_tons']"
   ]
  },
  {
   "cell_type": "code",
   "execution_count": 18,
   "id": "d8ff10b4",
   "metadata": {},
   "outputs": [
    {
     "name": "stdout",
     "output_type": "stream",
     "text": [
      "0      3.490065\n",
      "1      3.466444\n",
      "2      4.995974\n",
      "3      3.182246\n",
      "4      4.425221\n",
      "5      5.931141\n",
      "6      2.237032\n",
      "7           NaN\n",
      "8      2.826583\n",
      "9      3.058994\n",
      "10     2.480430\n",
      "11     3.883663\n",
      "12     4.406594\n",
      "13     4.663824\n",
      "14     4.272757\n",
      "15     4.622169\n",
      "16     4.222398\n",
      "17     4.472738\n",
      "18     2.848862\n",
      "19          NaN\n",
      "20     2.053470\n",
      "21     5.105371\n",
      "22     5.294330\n",
      "23     3.102404\n",
      "24     5.035965\n",
      "25    11.606709\n",
      "26     4.092085\n",
      "27     4.429035\n",
      "28     1.844936\n",
      "29     1.976536\n",
      "30     5.241593\n",
      "31     1.602776\n",
      "32     1.972746\n",
      "33     4.328133\n",
      "34     6.088410\n",
      "35     5.033662\n",
      "36     2.351284\n",
      "37          NaN\n",
      "38     1.723654\n",
      "39     2.010317\n",
      "40     4.138392\n",
      "41     2.768631\n",
      "42     3.648035\n",
      "43     9.313779\n",
      "44     3.190386\n",
      "45     0.280237\n",
      "46     3.527678\n",
      "47     1.153038\n",
      "48     5.389832\n",
      "49     3.804052\n",
      "Name: carbon_offset_metric_tons, dtype: float64\n"
     ]
    },
    {
     "data": {
      "text/plain": [
       "0            Alabama\n",
       "1             Alaska\n",
       "2            Arizona\n",
       "3           Arkansas\n",
       "4         California\n",
       "5           Colorado\n",
       "6        Connecticut\n",
       "7           Delaware\n",
       "8            Florida\n",
       "9            Georgia\n",
       "10            Hawaii\n",
       "11             Idaho\n",
       "12          Illinois\n",
       "13           Indiana\n",
       "14              Iowa\n",
       "15            Kansas\n",
       "16          Kentucky\n",
       "17         Louisiana\n",
       "18             Maine\n",
       "19          Maryland\n",
       "20     Massachusetts\n",
       "21          Michigan\n",
       "22         Minnesota\n",
       "23       Mississippi\n",
       "24          Missouri\n",
       "25           Montana\n",
       "26          Nebraska\n",
       "27            Nevada\n",
       "28     New Hampshire\n",
       "29        New Jersey\n",
       "30        New Mexico\n",
       "31          New York\n",
       "32    North Carolina\n",
       "33      North Dakota\n",
       "34              Ohio\n",
       "35          Oklahoma\n",
       "36            Oregon\n",
       "37      Pennsylvania\n",
       "38      Rhode Island\n",
       "39    South Carolina\n",
       "40      South Dakota\n",
       "41         Tennessee\n",
       "42             Texas\n",
       "43              Utah\n",
       "44           Vermont\n",
       "45          Virginia\n",
       "46        Washington\n",
       "47     West Virginia\n",
       "48         Wisconsin\n",
       "49           Wyoming\n",
       "Name: State, dtype: object"
      ]
     },
     "execution_count": 18,
     "metadata": {},
     "output_type": "execute_result"
    }
   ],
   "source": [
    "print(state_df['carbon_offset_metric_tons'])\n",
    "state_df['State']"
   ]
  },
  {
   "cell_type": "code",
   "execution_count": null,
   "id": "03991e03",
   "metadata": {},
   "outputs": [],
   "source": [
    "plot_state_map(state_df, key='carbon_offset_metric_tons', fill_color='Blues', legend_name=\"Carbon Offset Metric Tons\", save_dir_prefix=\"../Visualization/\")"
   ]
  },
  {
   "cell_type": "code",
   "execution_count": null,
   "id": "9bee3e49",
   "metadata": {},
   "outputs": [],
   "source": []
  }
 ],
 "metadata": {
  "kernelspec": {
   "display_name": "Python 3",
   "language": "python",
   "name": "python3"
  },
  "language_info": {
   "codemirror_mode": {
    "name": "ipython",
    "version": 3
   },
   "file_extension": ".py",
   "mimetype": "text/x-python",
   "name": "python",
   "nbconvert_exporter": "python",
   "pygments_lexer": "ipython3",
   "version": "3.10.1"
  }
 },
 "nbformat": 4,
 "nbformat_minor": 5
}
