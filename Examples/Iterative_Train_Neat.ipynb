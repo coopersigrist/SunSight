{
 "cells": [
  {
   "cell_type": "code",
   "execution_count": 1,
   "id": "13ba8085",
   "metadata": {},
   "outputs": [],
   "source": [
    "# Directory manipulation for relative notebook imports\n",
    "import os, sys\n",
    "dir2 = os.path.abspath('')\n",
    "dir1 = os.path.dirname(dir2)\n",
    "if not dir1 in sys.path: sys.path.append(dir1)\n",
    "\n",
    "# Relative import for relevant methods\n",
    "from Visualization.plot_util import *\n",
    "from Data.data_load_util import *\n",
    "from Simulation.projections_util import *\n",
    "from Models.Neat.neat_util import *\n"
   ]
  },
  {
   "cell_type": "code",
   "execution_count": 2,
   "id": "bf706c61",
   "metadata": {},
   "outputs": [],
   "source": [
    "#Hyperparams\n",
    "config_path = dir1 + \"\\\\Models\\\\Neat\\\\neat-config\"\n",
    "objectives = create_paper_objectives()\n",
    "weights = [1,1,1,1] #initialize weights\n",
    "num_iter = 10\n",
    "num_panels = 1000000"
   ]
  },
  {
   "cell_type": "code",
   "execution_count": 3,
   "id": "92260f57",
   "metadata": {},
   "outputs": [],
   "source": [
    "zips_df, state_df, pos_df = make_dataset(granularity='both', remove_outliers=False, load_dir_prefix='../Data/')\n",
    "data_manager = DataManager(zips_df, fields=['Median_income', 'carbon_offset_kg_per_panel', 'yearly_sunlight_kwh_kw_threshold_avg', 'panel_utilization', 'black_prop'])\n"
   ]
  },
  {
   "cell_type": "code",
   "execution_count": 4,
   "id": "b8377074",
   "metadata": {},
   "outputs": [
    {
     "name": "stdout",
     "output_type": "stream",
     "text": [
      "Loading from previous simulation...\n"
     ]
    }
   ],
   "source": [
    "#load baseline\n",
    "save_path = \"../Simulation/Projection_Saves/projections_1m.pkl\"\n",
    "# save_path = \"../Simulation/Projection_Saves/projections_10.pkl\"\n",
    "all_projections = create_projections(zips_df, state_df, n_panels=num_panels, load=save_path, save=save_path)\n",
    "baseline_projection = all_projections[1].objective_projections"
   ]
  },
  {
   "cell_type": "code",
   "execution_count": 5,
   "id": "bd68858c",
   "metadata": {},
   "outputs": [
    {
     "name": "stdout",
     "output_type": "stream",
     "text": [
      "loading configuration...\n",
      "creating population...\n",
      "setting reporters...\n",
      "training model...\n",
      "\n",
      " ****** Running generation 0 ****** \n",
      "\n"
     ]
    },
    {
     "name": "stderr",
     "output_type": "stream",
     "text": [
      "100%|██████████| 30/30 [37:15<00:00, 74.53s/it]\n"
     ]
    },
    {
     "name": "stdout",
     "output_type": "stream",
     "text": [
      "Population's average fitness: 0.30000 stdev: 0.45826\n",
      "Best fitness: 1.00000 - size: (1, 6) - species 1 - id 2\n",
      "Average adjusted fitness: 0.300\n",
      "Mean genetic distance 1.259, standard deviation 0.307\n",
      "Population of 30 members in 1 species:\n",
      "   ID   age  size  fitness  adj fit  stag\n",
      "  ====  ===  ====  =======  =======  ====\n",
      "     1    0    30      1.0    0.300     0\n",
      "Total extinctions: 0\n",
      "Generation time: 2235.971 sec\n",
      "\n",
      " ****** Running generation 1 ****** \n",
      "\n"
     ]
    },
    {
     "name": "stderr",
     "output_type": "stream",
     "text": [
      "100%|██████████| 30/30 [16:59<00:00, 33.98s/it]\n"
     ]
    },
    {
     "name": "stdout",
     "output_type": "stream",
     "text": [
      "Population's average fitness: 0.30000 stdev: 0.45826\n",
      "Best fitness: 1.00000 - size: (1, 6) - species 1 - id 38\n",
      "Average adjusted fitness: 0.300\n",
      "Mean genetic distance 1.181, standard deviation 0.449\n",
      "Population of 30 members in 1 species:\n",
      "   ID   age  size  fitness  adj fit  stag\n",
      "  ====  ===  ====  =======  =======  ====\n",
      "     1    1    30      1.0    0.300     1\n",
      "Total extinctions: 0\n",
      "Generation time: 1019.261 sec (1627.616 average)\n",
      "\n",
      " ****** Running generation 2 ****** \n",
      "\n"
     ]
    },
    {
     "name": "stderr",
     "output_type": "stream",
     "text": [
      "100%|██████████| 30/30 [16:58<00:00, 33.96s/it]\n"
     ]
    },
    {
     "name": "stdout",
     "output_type": "stream",
     "text": [
      "Population's average fitness: 0.30000 stdev: 0.45826\n",
      "Best fitness: 1.00000 - size: (1, 6) - species 1 - id 38\n",
      "Average adjusted fitness: 0.300\n",
      "Mean genetic distance 1.309, standard deviation 0.480\n",
      "Population of 30 members in 1 species:\n",
      "   ID   age  size  fitness  adj fit  stag\n",
      "  ====  ===  ====  =======  =======  ====\n",
      "     1    2    30      1.0    0.300     2\n",
      "Total extinctions: 0\n",
      "Generation time: 1018.889 sec (1424.707 average)\n",
      "\n",
      " ****** Running generation 3 ****** \n",
      "\n"
     ]
    },
    {
     "name": "stderr",
     "output_type": "stream",
     "text": [
      "100%|██████████| 30/30 [16:18<00:00, 32.62s/it]\n"
     ]
    },
    {
     "name": "stdout",
     "output_type": "stream",
     "text": [
      "Population's average fitness: 0.30000 stdev: 0.45826\n",
      "Best fitness: 1.00000 - size: (1, 6) - species 1 - id 38\n",
      "Average adjusted fitness: 0.300\n",
      "Mean genetic distance 1.363, standard deviation 0.448\n",
      "Population of 30 members in 1 species:\n",
      "   ID   age  size  fitness  adj fit  stag\n",
      "  ====  ===  ====  =======  =======  ====\n",
      "     1    3    30      1.0    0.300     3\n",
      "Total extinctions: 0\n",
      "Generation time: 978.586 sec (1313.177 average)\n",
      "\n",
      " ****** Running generation 4 ****** \n",
      "\n"
     ]
    },
    {
     "name": "stderr",
     "output_type": "stream",
     "text": [
      "100%|██████████| 30/30 [16:35<00:00, 33.18s/it]\n"
     ]
    },
    {
     "name": "stdout",
     "output_type": "stream",
     "text": [
      "Population's average fitness: 0.30000 stdev: 0.45826\n",
      "Best fitness: 1.00000 - size: (2, 7) - species 1 - id 118\n",
      "Average adjusted fitness: 0.300\n",
      "Mean genetic distance 1.768, standard deviation 0.436\n",
      "Population of 30 members in 1 species:\n",
      "   ID   age  size  fitness  adj fit  stag\n",
      "  ====  ===  ====  =======  =======  ====\n",
      "     1    4    30      1.0    0.300     4\n",
      "Total extinctions: 0\n",
      "Generation time: 995.477 sec (1249.637 average)\n",
      "\n",
      " ****** Running generation 5 ****** \n",
      "\n"
     ]
    },
    {
     "name": "stderr",
     "output_type": "stream",
     "text": [
      "100%|██████████| 30/30 [16:28<00:00, 32.96s/it]\n"
     ]
    },
    {
     "name": "stdout",
     "output_type": "stream",
     "text": [
      "Population's average fitness: 0.30000 stdev: 0.45826\n",
      "Best fitness: 1.00000 - size: (1, 4) - species 1 - id 131\n",
      "Average adjusted fitness: 0.300\n",
      "Mean genetic distance 1.949, standard deviation 0.413\n",
      "Population of 30 members in 1 species:\n",
      "   ID   age  size  fitness  adj fit  stag\n",
      "  ====  ===  ====  =======  =======  ====\n",
      "     1    5    30      1.0    0.300     5\n",
      "Total extinctions: 0\n",
      "Generation time: 988.911 sec (1206.182 average)\n",
      "\n",
      " ****** Running generation 6 ****** \n",
      "\n"
     ]
    },
    {
     "name": "stderr",
     "output_type": "stream",
     "text": [
      "100%|██████████| 30/30 [16:20<00:00, 32.68s/it]\n"
     ]
    },
    {
     "name": "stdout",
     "output_type": "stream",
     "text": [
      "Population's average fitness: 0.30000 stdev: 0.45826\n",
      "Best fitness: 1.00000 - size: (2, 4) - species 1 - id 178\n",
      "Average adjusted fitness: 0.300\n",
      "Mean genetic distance 2.003, standard deviation 0.409\n",
      "Population of 30 members in 1 species:\n",
      "   ID   age  size  fitness  adj fit  stag\n",
      "  ====  ===  ====  =======  =======  ====\n",
      "     1    6    30      1.0    0.300     6\n",
      "Total extinctions: 0\n",
      "Generation time: 980.442 sec (1173.934 average)\n",
      "\n",
      " ****** Running generation 7 ****** \n",
      "\n"
     ]
    },
    {
     "name": "stderr",
     "output_type": "stream",
     "text": [
      "100%|██████████| 30/30 [16:37<00:00, 33.26s/it]\n"
     ]
    },
    {
     "name": "stdout",
     "output_type": "stream",
     "text": [
      "Population's average fitness: 0.30000 stdev: 0.45826\n",
      "Best fitness: 1.00000 - size: (2, 4) - species 1 - id 178\n",
      "Average adjusted fitness: 0.300\n",
      "Mean genetic distance 1.917, standard deviation 0.431\n",
      "Population of 30 members in 1 species:\n",
      "   ID   age  size  fitness  adj fit  stag\n",
      "  ====  ===  ====  =======  =======  ====\n",
      "     1    7    30      1.0    0.300     7\n",
      "Total extinctions: 0\n",
      "Generation time: 997.747 sec (1151.911 average)\n",
      "\n",
      " ****** Running generation 8 ****** \n",
      "\n"
     ]
    },
    {
     "name": "stderr",
     "output_type": "stream",
     "text": [
      "100%|██████████| 30/30 [15:14<00:00, 30.48s/it]\n"
     ]
    },
    {
     "name": "stdout",
     "output_type": "stream",
     "text": [
      "Population's average fitness: 0.30000 stdev: 0.45826\n",
      "Best fitness: 1.00000 - size: (2, 4) - species 1 - id 178\n",
      "Average adjusted fitness: 0.300\n",
      "Mean genetic distance 1.844, standard deviation 0.466\n",
      "Population of 30 members in 1 species:\n",
      "   ID   age  size  fitness  adj fit  stag\n",
      "  ====  ===  ====  =======  =======  ====\n",
      "     1    8    30      1.0    0.300     8\n",
      "Total extinctions: 0\n",
      "Generation time: 914.276 sec (1125.507 average)\n",
      "\n",
      " ****** Running generation 9 ****** \n",
      "\n"
     ]
    },
    {
     "name": "stderr",
     "output_type": "stream",
     "text": [
      "100%|██████████| 30/30 [15:43<00:00, 31.44s/it]\n"
     ]
    },
    {
     "name": "stdout",
     "output_type": "stream",
     "text": [
      "Population's average fitness: 0.30000 stdev: 0.45826\n",
      "Best fitness: 1.00000 - size: (1, 1) - species 1 - id 235\n",
      "Average adjusted fitness: 0.300\n",
      "Mean genetic distance 1.860, standard deviation 0.406\n",
      "Population of 30 members in 1 species:\n",
      "   ID   age  size  fitness  adj fit  stag\n",
      "  ====  ===  ====  =======  =======  ====\n",
      "     1    9    30      1.0    0.300     9\n",
      "Total extinctions: 0\n",
      "Generation time: 943.150 sec (1107.271 average)\n",
      "\n",
      "Best individual in generation 9 meets fitness threshold - complexity: (2, 7)\n",
      "directory name: c:\\Users\\archi\\Documents\\Research\\SunSight\\Models\\Neat\\models\\05-30-25\n",
      "Carbon Offset ratio: 1.277566300695384\n",
      "Energy Potential ratio: 1.223162965147925\n",
      "Racial Equity ratio: 0.872711709693044\n",
      "Income Equity ratio: 1.214931624903318\n",
      "new weights: [1, 1, np.float64(1.145853766934933), 1]\n",
      "loading configuration...\n",
      "creating population...\n",
      "setting reporters...\n",
      "training model...\n",
      "\n",
      " ****** Running generation 0 ****** \n",
      "\n"
     ]
    },
    {
     "name": "stderr",
     "output_type": "stream",
     "text": [
      "100%|██████████| 30/30 [22:30<00:00, 45.03s/it]\n"
     ]
    },
    {
     "name": "stdout",
     "output_type": "stream",
     "text": [
      "Population's average fitness: 0.30000 stdev: 0.45826\n",
      "Best fitness: 1.00000 - size: (1, 6) - species 1 - id 2\n",
      "Average adjusted fitness: 0.300\n",
      "Mean genetic distance 1.408, standard deviation 0.425\n",
      "Population of 30 members in 1 species:\n",
      "   ID   age  size  fitness  adj fit  stag\n",
      "  ====  ===  ====  =======  =======  ====\n",
      "     1    0    30      1.0    0.300     0\n",
      "Total extinctions: 0\n",
      "Generation time: 1350.954 sec\n",
      "\n",
      " ****** Running generation 1 ****** \n",
      "\n"
     ]
    },
    {
     "name": "stderr",
     "output_type": "stream",
     "text": [
      "100%|██████████| 30/30 [19:55<00:00, 39.85s/it]\n"
     ]
    },
    {
     "name": "stdout",
     "output_type": "stream",
     "text": [
      "Population's average fitness: 0.30000 stdev: 0.45826\n",
      "Best fitness: 1.00000 - size: (1, 5) - species 1 - id 35\n",
      "Average adjusted fitness: 0.300\n",
      "Mean genetic distance 1.643, standard deviation 0.458\n",
      "Population of 30 members in 1 species:\n",
      "   ID   age  size  fitness  adj fit  stag\n",
      "  ====  ===  ====  =======  =======  ====\n",
      "     1    1    30      1.0    0.300     1\n",
      "Total extinctions: 0\n",
      "Generation time: 1195.376 sec (1273.165 average)\n",
      "\n",
      " ****** Running generation 2 ****** \n",
      "\n"
     ]
    },
    {
     "name": "stderr",
     "output_type": "stream",
     "text": [
      "100%|██████████| 30/30 [17:21<00:00, 34.71s/it]\n"
     ]
    },
    {
     "name": "stdout",
     "output_type": "stream",
     "text": [
      "Population's average fitness: 0.30000 stdev: 0.45826\n",
      "Best fitness: 1.00000 - size: (1, 5) - species 1 - id 35\n",
      "Average adjusted fitness: 0.300\n",
      "Mean genetic distance 1.923, standard deviation 0.428\n",
      "Population of 30 members in 1 species:\n",
      "   ID   age  size  fitness  adj fit  stag\n",
      "  ====  ===  ====  =======  =======  ====\n",
      "     1    2    30      1.0    0.300     2\n",
      "Total extinctions: 0\n",
      "Generation time: 1041.169 sec (1195.833 average)\n",
      "\n",
      " ****** Running generation 3 ****** \n",
      "\n"
     ]
    },
    {
     "name": "stderr",
     "output_type": "stream",
     "text": [
      "100%|██████████| 30/30 [17:11<00:00, 34.39s/it]\n"
     ]
    },
    {
     "name": "stdout",
     "output_type": "stream",
     "text": [
      "Population's average fitness: 0.30000 stdev: 0.45826\n",
      "Best fitness: 1.00000 - size: (1, 5) - species 1 - id 35\n",
      "Average adjusted fitness: 0.300\n",
      "Mean genetic distance 2.136, standard deviation 0.508\n",
      "Population of 30 members in 1 species:\n",
      "   ID   age  size  fitness  adj fit  stag\n",
      "  ====  ===  ====  =======  =======  ====\n",
      "     1    3    30      1.0    0.300     3\n",
      "Total extinctions: 0\n",
      "Generation time: 1031.743 sec (1154.810 average)\n",
      "\n",
      " ****** Running generation 4 ****** \n",
      "\n"
     ]
    },
    {
     "name": "stderr",
     "output_type": "stream",
     "text": [
      "100%|██████████| 30/30 [16:15<00:00, 32.50s/it]\n"
     ]
    },
    {
     "name": "stdout",
     "output_type": "stream",
     "text": [
      "Population's average fitness: 0.30000 stdev: 0.45826\n",
      "Best fitness: 1.00000 - size: (1, 5) - species 1 - id 35\n",
      "Average adjusted fitness: 0.300\n",
      "Mean genetic distance 1.861, standard deviation 0.575\n",
      "Population of 30 members in 1 species:\n",
      "   ID   age  size  fitness  adj fit  stag\n",
      "  ====  ===  ====  =======  =======  ====\n",
      "     1    4    30      1.0    0.300     4\n",
      "Total extinctions: 0\n",
      "Generation time: 975.028 sec (1118.854 average)\n",
      "\n",
      " ****** Running generation 5 ****** \n",
      "\n"
     ]
    },
    {
     "name": "stderr",
     "output_type": "stream",
     "text": [
      "100%|██████████| 30/30 [17:25<00:00, 34.84s/it]\n"
     ]
    },
    {
     "name": "stdout",
     "output_type": "stream",
     "text": [
      "Population's average fitness: 0.30000 stdev: 0.45826\n",
      "Best fitness: 1.00000 - size: (2, 2) - species 1 - id 148\n",
      "Average adjusted fitness: 0.300\n",
      "Mean genetic distance 2.253, standard deviation 0.557\n",
      "Population of 30 members in 2 species:\n",
      "   ID   age  size  fitness  adj fit  stag\n",
      "  ====  ===  ====  =======  =======  ====\n",
      "     1    5    11      1.0    0.300     5\n",
      "     2    0    19       --       --     0\n",
      "Total extinctions: 0\n",
      "Generation time: 1045.273 sec (1106.590 average)\n",
      "\n",
      " ****** Running generation 6 ****** \n",
      "\n"
     ]
    },
    {
     "name": "stderr",
     "output_type": "stream",
     "text": [
      "100%|██████████| 30/30 [33:08<00:00, 66.27s/it] \n"
     ]
    },
    {
     "name": "stdout",
     "output_type": "stream",
     "text": [
      "Population's average fitness: 0.30000 stdev: 0.45826\n",
      "Best fitness: 1.00000 - size: (1, 1) - species 2 - id 176\n",
      "Average adjusted fitness: 0.275\n",
      "Mean genetic distance 2.306, standard deviation 0.825\n",
      "Population of 30 members in 2 species:\n",
      "   ID   age  size  fitness  adj fit  stag\n",
      "  ====  ===  ====  =======  =======  ====\n",
      "     1    6    10      1.0    0.182     6\n",
      "     2    1    20      1.0    0.368     0\n",
      "Total extinctions: 0\n",
      "Generation time: 1988.162 sec (1232.529 average)\n",
      "\n",
      " ****** Running generation 7 ****** \n",
      "\n"
     ]
    },
    {
     "name": "stderr",
     "output_type": "stream",
     "text": [
      "100%|██████████| 30/30 [27:31<00:00, 55.05s/it]\n"
     ]
    },
    {
     "name": "stdout",
     "output_type": "stream",
     "text": [
      "Population's average fitness: 0.30000 stdev: 0.45826\n",
      "Best fitness: 1.00000 - size: (1, 1) - species 1 - id 179\n",
      "Average adjusted fitness: 0.275\n",
      "Mean genetic distance 2.372, standard deviation 0.803\n",
      "Population of 30 members in 2 species:\n",
      "   ID   age  size  fitness  adj fit  stag\n",
      "  ====  ===  ====  =======  =======  ====\n",
      "     1    7     9      1.0    0.200     7\n",
      "     2    2    21      1.0    0.350     1\n",
      "Total extinctions: 0\n",
      "Generation time: 1651.640 sec (1284.918 average)\n",
      "\n",
      " ****** Running generation 8 ****** \n",
      "\n"
     ]
    },
    {
     "name": "stderr",
     "output_type": "stream",
     "text": [
      "100%|██████████| 30/30 [24:09<00:00, 48.33s/it]\n"
     ]
    },
    {
     "name": "stdout",
     "output_type": "stream",
     "text": [
      "Population's average fitness: 0.30000 stdev: 0.45826\n",
      "Best fitness: 1.00000 - size: (1, 1) - species 1 - id 179\n",
      "Average adjusted fitness: 0.405\n",
      "Mean genetic distance 2.265, standard deviation 0.895\n",
      "Population of 30 members in 2 species:\n",
      "   ID   age  size  fitness  adj fit  stag\n",
      "  ====  ===  ====  =======  =======  ====\n",
      "     1    8    16      1.0    0.667     8\n",
      "     2    3    14      1.0    0.143     2\n",
      "Total extinctions: 0\n",
      "Generation time: 1449.949 sec (1303.255 average)\n",
      "\n",
      " ****** Running generation 9 ****** \n",
      "\n"
     ]
    },
    {
     "name": "stderr",
     "output_type": "stream",
     "text": [
      "100%|██████████| 30/30 [29:52<00:00, 59.75s/it] \n"
     ]
    },
    {
     "name": "stdout",
     "output_type": "stream",
     "text": [
      "Population's average fitness: 0.30000 stdev: 0.45826\n",
      "Best fitness: 1.00000 - size: (1, 1) - species 1 - id 179\n",
      "Average adjusted fitness: 0.286\n",
      "Mean genetic distance 1.948, standard deviation 1.071\n",
      "Population of 30 members in 2 species:\n",
      "   ID   age  size  fitness  adj fit  stag\n",
      "  ====  ===  ====  =======  =======  ====\n",
      "     1    9    21      1.0    0.500     9\n",
      "     2    4     9      1.0    0.071     3\n",
      "Total extinctions: 0\n",
      "Generation time: 1792.583 sec (1352.188 average)\n",
      "\n",
      "Best individual in generation 9 meets fitness threshold - complexity: (1, 5)\n",
      "directory name: c:\\Users\\archi\\Documents\\Research\\SunSight\\Models\\Neat\\models\\05-30-25\n",
      "Carbon Offset ratio: 1.3610748799673091\n",
      "Energy Potential ratio: 1.2072164586384069\n",
      "Racial Equity ratio: 0.7703574278106191\n",
      "Income Equity ratio: 1.5805472604842172\n",
      "new weights: [1, 1, np.float64(1.487431321576903), 1]\n",
      "loading configuration...\n",
      "creating population...\n",
      "setting reporters...\n",
      "training model...\n",
      "\n",
      " ****** Running generation 0 ****** \n",
      "\n"
     ]
    },
    {
     "name": "stderr",
     "output_type": "stream",
     "text": [
      "100%|██████████| 30/30 [21:48<00:00, 43.62s/it]\n"
     ]
    },
    {
     "name": "stdout",
     "output_type": "stream",
     "text": [
      "Population's average fitness: 0.30000 stdev: 0.45826\n",
      "Best fitness: 1.00000 - size: (1, 6) - species 1 - id 1\n",
      "Average adjusted fitness: 0.300\n",
      "Mean genetic distance 0.914, standard deviation 0.397\n",
      "Population of 30 members in 1 species:\n",
      "   ID   age  size  fitness  adj fit  stag\n",
      "  ====  ===  ====  =======  =======  ====\n",
      "     1    0    30      1.0    0.300     0\n",
      "Total extinctions: 0\n",
      "Generation time: 1308.750 sec\n",
      "\n",
      " ****** Running generation 1 ****** \n",
      "\n"
     ]
    },
    {
     "name": "stderr",
     "output_type": "stream",
     "text": [
      "100%|██████████| 30/30 [18:56<00:00, 37.90s/it]\n"
     ]
    },
    {
     "name": "stdout",
     "output_type": "stream",
     "text": [
      "Population's average fitness: 0.30000 stdev: 0.45826\n",
      "Best fitness: 1.00000 - size: (1, 6) - species 1 - id 1\n",
      "Average adjusted fitness: 0.300\n",
      "Mean genetic distance 1.045, standard deviation 0.426\n",
      "Population of 30 members in 1 species:\n",
      "   ID   age  size  fitness  adj fit  stag\n",
      "  ====  ===  ====  =======  =======  ====\n",
      "     1    1    30      1.0    0.300     1\n",
      "Total extinctions: 0\n",
      "Generation time: 1136.897 sec (1222.823 average)\n",
      "\n",
      " ****** Running generation 2 ****** \n",
      "\n"
     ]
    },
    {
     "name": "stderr",
     "output_type": "stream",
     "text": [
      "100%|██████████| 30/30 [21:57<00:00, 43.92s/it]\n"
     ]
    },
    {
     "name": "stdout",
     "output_type": "stream",
     "text": [
      "Population's average fitness: 0.30000 stdev: 0.45826\n",
      "Best fitness: 1.00000 - size: (1, 6) - species 1 - id 61\n",
      "Average adjusted fitness: 0.300\n",
      "Mean genetic distance 1.585, standard deviation 0.412\n",
      "Population of 30 members in 1 species:\n",
      "   ID   age  size  fitness  adj fit  stag\n",
      "  ====  ===  ====  =======  =======  ====\n",
      "     1    2    30      1.0    0.300     2\n",
      "Total extinctions: 0\n",
      "Generation time: 1317.747 sec (1254.465 average)\n",
      "\n",
      " ****** Running generation 3 ****** \n",
      "\n"
     ]
    },
    {
     "name": "stderr",
     "output_type": "stream",
     "text": [
      "100%|██████████| 30/30 [19:12<00:00, 38.41s/it]\n"
     ]
    },
    {
     "name": "stdout",
     "output_type": "stream",
     "text": [
      "Population's average fitness: 0.30000 stdev: 0.45826\n",
      "Best fitness: 1.00000 - size: (1, 5) - species 1 - id 91\n",
      "Average adjusted fitness: 0.300\n",
      "Mean genetic distance 1.915, standard deviation 0.391\n",
      "Population of 30 members in 1 species:\n",
      "   ID   age  size  fitness  adj fit  stag\n",
      "  ====  ===  ====  =======  =======  ====\n",
      "     1    3    30      1.0    0.300     3\n",
      "Total extinctions: 0\n",
      "Generation time: 1152.420 sec (1228.953 average)\n",
      "\n",
      " ****** Running generation 4 ****** \n",
      "\n"
     ]
    },
    {
     "name": "stderr",
     "output_type": "stream",
     "text": [
      "100%|██████████| 30/30 [17:53<00:00, 35.79s/it]\n"
     ]
    },
    {
     "name": "stdout",
     "output_type": "stream",
     "text": [
      "Population's average fitness: 0.30000 stdev: 0.45826\n",
      "Best fitness: 1.00000 - size: (1, 5) - species 1 - id 91\n",
      "Average adjusted fitness: 0.300\n",
      "Mean genetic distance 1.749, standard deviation 0.447\n",
      "Population of 30 members in 1 species:\n",
      "   ID   age  size  fitness  adj fit  stag\n",
      "  ====  ===  ====  =======  =======  ====\n",
      "     1    4    30      1.0    0.300     4\n",
      "Total extinctions: 0\n",
      "Generation time: 1073.697 sec (1197.902 average)\n",
      "\n",
      " ****** Running generation 5 ****** \n",
      "\n"
     ]
    },
    {
     "name": "stderr",
     "output_type": "stream",
     "text": [
      "100%|██████████| 30/30 [18:22<00:00, 36.75s/it]\n"
     ]
    },
    {
     "name": "stdout",
     "output_type": "stream",
     "text": [
      "Population's average fitness: 0.30000 stdev: 0.45826\n",
      "Best fitness: 1.00000 - size: (1, 3) - species 1 - id 148\n",
      "Average adjusted fitness: 0.300\n",
      "Mean genetic distance 1.738, standard deviation 0.495\n",
      "Population of 30 members in 1 species:\n",
      "   ID   age  size  fitness  adj fit  stag\n",
      "  ====  ===  ====  =======  =======  ====\n",
      "     1    5    30      1.0    0.300     5\n",
      "Total extinctions: 0\n",
      "Generation time: 1102.499 sec (1182.002 average)\n",
      "\n",
      " ****** Running generation 6 ****** \n",
      "\n"
     ]
    },
    {
     "name": "stderr",
     "output_type": "stream",
     "text": [
      "100%|██████████| 30/30 [40:01<00:00, 80.05s/it] \n"
     ]
    },
    {
     "name": "stdout",
     "output_type": "stream",
     "text": [
      "Population's average fitness: 0.30000 stdev: 0.45826\n",
      "Best fitness: 1.00000 - size: (1, 3) - species 1 - id 148\n",
      "Average adjusted fitness: 0.300\n",
      "Mean genetic distance 1.450, standard deviation 0.571\n",
      "Population of 30 members in 1 species:\n",
      "   ID   age  size  fitness  adj fit  stag\n",
      "  ====  ===  ====  =======  =======  ====\n",
      "     1    6    30      1.0    0.300     6\n",
      "Total extinctions: 0\n",
      "Generation time: 2401.463 sec (1356.210 average)\n",
      "\n",
      " ****** Running generation 7 ****** \n",
      "\n"
     ]
    },
    {
     "name": "stderr",
     "output_type": "stream",
     "text": [
      "100%|██████████| 30/30 [20:40<00:00, 41.35s/it]\n"
     ]
    },
    {
     "name": "stdout",
     "output_type": "stream",
     "text": [
      "Population's average fitness: 0.30000 stdev: 0.45826\n",
      "Best fitness: 1.00000 - size: (3, 5) - species 1 - id 206\n",
      "Average adjusted fitness: 0.300\n",
      "Mean genetic distance 1.805, standard deviation 0.381\n",
      "Population of 30 members in 1 species:\n",
      "   ID   age  size  fitness  adj fit  stag\n",
      "  ====  ===  ====  =======  =======  ====\n",
      "     1    7    30      1.0    0.300     7\n",
      "Total extinctions: 0\n",
      "Generation time: 1240.550 sec (1341.753 average)\n",
      "\n",
      " ****** Running generation 8 ****** \n",
      "\n"
     ]
    },
    {
     "name": "stderr",
     "output_type": "stream",
     "text": [
      "100%|██████████| 30/30 [20:08<00:00, 40.30s/it]\n"
     ]
    },
    {
     "name": "stdout",
     "output_type": "stream",
     "text": [
      "Population's average fitness: 0.30000 stdev: 0.45826\n",
      "Best fitness: 1.00000 - size: (3, 5) - species 1 - id 206\n",
      "Average adjusted fitness: 0.300\n",
      "Mean genetic distance 1.519, standard deviation 0.594\n",
      "Population of 30 members in 1 species:\n",
      "   ID   age  size  fitness  adj fit  stag\n",
      "  ====  ===  ====  =======  =======  ====\n",
      "     1    8    30      1.0    0.300     8\n",
      "Total extinctions: 0\n",
      "Generation time: 1208.913 sec (1326.993 average)\n",
      "\n",
      " ****** Running generation 9 ****** \n",
      "\n"
     ]
    },
    {
     "name": "stderr",
     "output_type": "stream",
     "text": [
      "100%|██████████| 30/30 [19:36<00:00, 39.21s/it]\n"
     ]
    },
    {
     "name": "stdout",
     "output_type": "stream",
     "text": [
      "Population's average fitness: 0.30000 stdev: 0.45826\n",
      "Best fitness: 1.00000 - size: (1, 2) - species 1 - id 241\n",
      "Average adjusted fitness: 0.300\n",
      "Mean genetic distance 1.625, standard deviation 0.602\n",
      "Population of 30 members in 1 species:\n",
      "   ID   age  size  fitness  adj fit  stag\n",
      "  ====  ===  ====  =======  =======  ====\n",
      "     1    9    30      1.0    0.300     9\n",
      "Total extinctions: 0\n",
      "Generation time: 1176.197 sec (1311.913 average)\n",
      "\n",
      "Best individual in generation 9 meets fitness threshold - complexity: (1, 5)\n",
      "directory name: c:\\Users\\archi\\Documents\\Research\\SunSight\\Models\\Neat\\models\\05-30-25\n",
      "Carbon Offset ratio: 1.4059616759520945\n",
      "Energy Potential ratio: 0.9875363455333954\n",
      "Racial Equity ratio: 0.8098779793812624\n",
      "Income Equity ratio: 1.0314967286503542\n",
      "new weights: [1, np.float64(1.012620957722698), np.float64(1.8366116371175862), 1]\n",
      "loading configuration...\n",
      "creating population...\n",
      "setting reporters...\n",
      "training model...\n",
      "\n",
      " ****** Running generation 0 ****** \n",
      "\n"
     ]
    },
    {
     "name": "stderr",
     "output_type": "stream",
     "text": [
      "100%|██████████| 30/30 [24:20<00:00, 48.67s/it]\n"
     ]
    },
    {
     "name": "stdout",
     "output_type": "stream",
     "text": [
      "Population's average fitness: 0.30000 stdev: 0.45826\n",
      "Best fitness: 1.00000 - size: (1, 6) - species 1 - id 2\n",
      "Average adjusted fitness: 0.300\n",
      "Mean genetic distance 1.110, standard deviation 0.398\n",
      "Population of 30 members in 1 species:\n",
      "   ID   age  size  fitness  adj fit  stag\n",
      "  ====  ===  ====  =======  =======  ====\n",
      "     1    0    30      1.0    0.300     0\n",
      "Total extinctions: 0\n",
      "Generation time: 1460.083 sec\n",
      "\n",
      " ****** Running generation 1 ****** \n",
      "\n"
     ]
    },
    {
     "name": "stderr",
     "output_type": "stream",
     "text": [
      "100%|██████████| 30/30 [58:50<00:00, 117.68s/it]  \n"
     ]
    },
    {
     "name": "stdout",
     "output_type": "stream",
     "text": [
      "Population's average fitness: 0.30000 stdev: 0.45826\n",
      "Best fitness: 1.00000 - size: (1, 6) - species 1 - id 31\n",
      "Average adjusted fitness: 0.300\n",
      "Mean genetic distance 1.098, standard deviation 0.441\n",
      "Population of 30 members in 1 species:\n",
      "   ID   age  size  fitness  adj fit  stag\n",
      "  ====  ===  ====  =======  =======  ====\n",
      "     1    1    30      1.0    0.300     1\n",
      "Total extinctions: 0\n",
      "Generation time: 3530.409 sec (2495.246 average)\n",
      "\n",
      " ****** Running generation 2 ****** \n",
      "\n"
     ]
    },
    {
     "name": "stderr",
     "output_type": "stream",
     "text": [
      "100%|██████████| 30/30 [19:04<00:00, 38.15s/it]\n"
     ]
    },
    {
     "name": "stdout",
     "output_type": "stream",
     "text": [
      "Population's average fitness: 0.30000 stdev: 0.45826\n",
      "Best fitness: 1.00000 - size: (1, 5) - species 1 - id 62\n",
      "Average adjusted fitness: 0.300\n",
      "Mean genetic distance 1.191, standard deviation 0.346\n",
      "Population of 30 members in 1 species:\n",
      "   ID   age  size  fitness  adj fit  stag\n",
      "  ====  ===  ====  =======  =======  ====\n",
      "     1    2    30      1.0    0.300     2\n",
      "Total extinctions: 0\n",
      "Generation time: 1144.503 sec (2044.998 average)\n",
      "\n",
      " ****** Running generation 3 ****** \n",
      "\n"
     ]
    },
    {
     "name": "stderr",
     "output_type": "stream",
     "text": [
      "100%|██████████| 30/30 [19:05<00:00, 38.18s/it]\n"
     ]
    },
    {
     "name": "stdout",
     "output_type": "stream",
     "text": [
      "Population's average fitness: 0.30000 stdev: 0.45826\n",
      "Best fitness: 1.00000 - size: (1, 5) - species 1 - id 62\n",
      "Average adjusted fitness: 0.300\n",
      "Mean genetic distance 1.321, standard deviation 0.349\n",
      "Population of 30 members in 1 species:\n",
      "   ID   age  size  fitness  adj fit  stag\n",
      "  ====  ===  ====  =======  =======  ====\n",
      "     1    3    30      1.0    0.300     3\n",
      "Total extinctions: 0\n",
      "Generation time: 1145.292 sec (1820.072 average)\n",
      "\n",
      " ****** Running generation 4 ****** \n",
      "\n"
     ]
    },
    {
     "name": "stderr",
     "output_type": "stream",
     "text": [
      "100%|██████████| 30/30 [20:55<00:00, 41.85s/it]\n"
     ]
    },
    {
     "name": "stdout",
     "output_type": "stream",
     "text": [
      "Population's average fitness: 0.30000 stdev: 0.45826\n",
      "Best fitness: 1.00000 - size: (1, 5) - species 1 - id 62\n",
      "Average adjusted fitness: 0.300\n",
      "Mean genetic distance 1.466, standard deviation 0.451\n",
      "Population of 30 members in 1 species:\n",
      "   ID   age  size  fitness  adj fit  stag\n",
      "  ====  ===  ====  =======  =======  ====\n",
      "     1    4    30      1.0    0.300     4\n",
      "Total extinctions: 0\n",
      "Generation time: 1255.486 sec (1707.154 average)\n",
      "\n",
      " ****** Running generation 5 ****** \n",
      "\n"
     ]
    },
    {
     "name": "stderr",
     "output_type": "stream",
     "text": [
      "100%|██████████| 30/30 [29:51<00:00, 59.71s/it] \n"
     ]
    },
    {
     "name": "stdout",
     "output_type": "stream",
     "text": [
      "Population's average fitness: 0.30000 stdev: 0.45826\n",
      "Best fitness: 1.00000 - size: (1, 5) - species 1 - id 62\n",
      "Average adjusted fitness: 0.300\n",
      "Mean genetic distance 1.398, standard deviation 0.503\n",
      "Population of 30 members in 1 species:\n",
      "   ID   age  size  fitness  adj fit  stag\n",
      "  ====  ===  ====  =======  =======  ====\n",
      "     1    5    30      1.0    0.300     5\n",
      "Total extinctions: 0\n",
      "Generation time: 1791.430 sec (1721.200 average)\n",
      "\n",
      " ****** Running generation 6 ****** \n",
      "\n"
     ]
    },
    {
     "name": "stderr",
     "output_type": "stream",
     "text": [
      "100%|██████████| 30/30 [18:34<00:00, 37.14s/it]\n"
     ]
    },
    {
     "name": "stdout",
     "output_type": "stream",
     "text": [
      "Population's average fitness: 0.30000 stdev: 0.45826\n",
      "Best fitness: 1.00000 - size: (1, 5) - species 1 - id 62\n",
      "Average adjusted fitness: 0.300\n",
      "Mean genetic distance 1.337, standard deviation 0.386\n",
      "Population of 30 members in 1 species:\n",
      "   ID   age  size  fitness  adj fit  stag\n",
      "  ====  ===  ====  =======  =======  ====\n",
      "     1    6    30      1.0    0.300     6\n",
      "Total extinctions: 0\n",
      "Generation time: 1114.159 sec (1634.480 average)\n",
      "\n",
      " ****** Running generation 7 ****** \n",
      "\n"
     ]
    },
    {
     "name": "stderr",
     "output_type": "stream",
     "text": [
      "100%|██████████| 30/30 [20:13<00:00, 40.44s/it]\n"
     ]
    },
    {
     "name": "stdout",
     "output_type": "stream",
     "text": [
      "Population's average fitness: 0.30000 stdev: 0.45826\n",
      "Best fitness: 1.00000 - size: (1, 3) - species 1 - id 214\n",
      "Average adjusted fitness: 0.300\n",
      "Mean genetic distance 1.394, standard deviation 0.334\n",
      "Population of 30 members in 1 species:\n",
      "   ID   age  size  fitness  adj fit  stag\n",
      "  ====  ===  ====  =======  =======  ====\n",
      "     1    7    30      1.0    0.300     7\n",
      "Total extinctions: 0\n",
      "Generation time: 1213.160 sec (1581.815 average)\n",
      "\n",
      " ****** Running generation 8 ****** \n",
      "\n"
     ]
    },
    {
     "name": "stderr",
     "output_type": "stream",
     "text": [
      "100%|██████████| 30/30 [21:53<00:00, 43.77s/it]\n"
     ]
    },
    {
     "name": "stdout",
     "output_type": "stream",
     "text": [
      "Population's average fitness: 0.30000 stdev: 0.45826\n",
      "Best fitness: 1.00000 - size: (1, 3) - species 1 - id 214\n",
      "Average adjusted fitness: 0.300\n",
      "Mean genetic distance 1.503, standard deviation 0.446\n",
      "Population of 30 members in 1 species:\n",
      "   ID   age  size  fitness  adj fit  stag\n",
      "  ====  ===  ====  =======  =======  ====\n",
      "     1    8    30      1.0    0.300     8\n",
      "Total extinctions: 0\n",
      "Generation time: 1313.128 sec (1551.961 average)\n",
      "\n",
      " ****** Running generation 9 ****** \n",
      "\n"
     ]
    },
    {
     "name": "stderr",
     "output_type": "stream",
     "text": [
      "100%|██████████| 30/30 [23:02<00:00, 46.07s/it]\n"
     ]
    },
    {
     "name": "stdout",
     "output_type": "stream",
     "text": [
      "Population's average fitness: 0.30000 stdev: 0.45826\n",
      "Best fitness: 1.00000 - size: (2, 6) - species 1 - id 260\n",
      "Average adjusted fitness: 0.300\n",
      "Mean genetic distance 1.780, standard deviation 0.379\n",
      "Population of 30 members in 1 species:\n",
      "   ID   age  size  fitness  adj fit  stag\n",
      "  ====  ===  ====  =======  =======  ====\n",
      "     1    9    30      1.0    0.300     9\n",
      "Total extinctions: 0\n",
      "Generation time: 1382.044 sec (1534.969 average)\n",
      "\n",
      "Best individual in generation 9 meets fitness threshold - complexity: (1, 6)\n",
      "directory name: c:\\Users\\archi\\Documents\\Research\\SunSight\\Models\\Neat\\models\\05-30-25\n",
      "Carbon Offset ratio: 1.5536579625802565\n",
      "Energy Potential ratio: 1.0723835171796579\n",
      "Racial Equity ratio: 1.3991774434037387\n",
      "Income Equity ratio: 1.5950757907699191\n",
      "new weights: [1, np.float64(1.012620957722698), np.float64(1.8366116371175862), 1]\n",
      "loading configuration...\n",
      "creating population...\n",
      "setting reporters...\n",
      "training model...\n",
      "\n",
      " ****** Running generation 0 ****** \n",
      "\n"
     ]
    },
    {
     "name": "stderr",
     "output_type": "stream",
     "text": [
      "100%|██████████| 30/30 [30:24<00:00, 60.83s/it]\n"
     ]
    },
    {
     "name": "stdout",
     "output_type": "stream",
     "text": [
      "Population's average fitness: 0.30000 stdev: 0.45826\n",
      "Best fitness: 1.00000 - size: (1, 6) - species 1 - id 1\n",
      "Average adjusted fitness: 0.300\n",
      "Mean genetic distance 1.711, standard deviation 0.666\n",
      "Population of 30 members in 1 species:\n",
      "   ID   age  size  fitness  adj fit  stag\n",
      "  ====  ===  ====  =======  =======  ====\n",
      "     1    0    30      1.0    0.300     0\n",
      "Total extinctions: 0\n",
      "Generation time: 1824.917 sec\n",
      "\n",
      " ****** Running generation 1 ****** \n",
      "\n"
     ]
    },
    {
     "name": "stderr",
     "output_type": "stream",
     "text": [
      "100%|██████████| 30/30 [23:54<00:00, 47.80s/it]\n"
     ]
    },
    {
     "name": "stdout",
     "output_type": "stream",
     "text": [
      "Population's average fitness: 0.30000 stdev: 0.45826\n",
      "Best fitness: 1.00000 - size: (1, 6) - species 1 - id 1\n",
      "Average adjusted fitness: 0.300\n",
      "Mean genetic distance 1.978, standard deviation 0.794\n",
      "Population of 30 members in 2 species:\n",
      "   ID   age  size  fitness  adj fit  stag\n",
      "  ====  ===  ====  =======  =======  ====\n",
      "     1    1    23      1.0    0.300     1\n",
      "     2    0     7       --       --     0\n",
      "Total extinctions: 0\n",
      "Generation time: 1434.157 sec (1629.537 average)\n",
      "\n",
      " ****** Running generation 2 ****** \n",
      "\n"
     ]
    },
    {
     "name": "stderr",
     "output_type": "stream",
     "text": [
      "100%|██████████| 30/30 [23:16<00:00, 46.54s/it]\n"
     ]
    },
    {
     "name": "stdout",
     "output_type": "stream",
     "text": [
      "Population's average fitness: 0.30000 stdev: 0.45826\n",
      "Best fitness: 1.00000 - size: (1, 5) - species 1 - id 63\n",
      "Average adjusted fitness: 0.295\n",
      "Mean genetic distance 2.037, standard deviation 0.740\n",
      "Population of 30 members in 2 species:\n",
      "   ID   age  size  fitness  adj fit  stag\n",
      "  ====  ===  ====  =======  =======  ====\n",
      "     1    2    13      1.0    0.304     2\n",
      "     2    1    17      1.0    0.286     0\n",
      "Total extinctions: 0\n",
      "Generation time: 1396.290 sec (1551.788 average)\n",
      "\n",
      " ****** Running generation 3 ****** \n",
      "\n"
     ]
    },
    {
     "name": "stderr",
     "output_type": "stream",
     "text": [
      "100%|██████████| 30/30 [19:07<00:00, 38.25s/it]\n"
     ]
    },
    {
     "name": "stdout",
     "output_type": "stream",
     "text": [
      "Population's average fitness: 0.30000 stdev: 0.45826\n",
      "Best fitness: 1.00000 - size: (1, 5) - species 2 - id 63\n",
      "Average adjusted fitness: 0.292\n",
      "Mean genetic distance 1.968, standard deviation 0.605\n",
      "Population of 30 members in 2 species:\n",
      "   ID   age  size  fitness  adj fit  stag\n",
      "  ====  ===  ====  =======  =======  ====\n",
      "     1    3    12      1.0    0.231     3\n",
      "     2    2    18      1.0    0.353     1\n",
      "Total extinctions: 0\n",
      "Generation time: 1147.468 sec (1450.708 average)\n",
      "\n",
      " ****** Running generation 4 ****** \n",
      "\n"
     ]
    },
    {
     "name": "stderr",
     "output_type": "stream",
     "text": [
      "100%|██████████| 30/30 [20:40<00:00, 41.35s/it]\n"
     ]
    },
    {
     "name": "stdout",
     "output_type": "stream",
     "text": [
      "Population's average fitness: 0.30000 stdev: 0.45826\n",
      "Best fitness: 1.00000 - size: (1, 4) - species 2 - id 89\n",
      "Average adjusted fitness: 0.278\n",
      "Mean genetic distance 2.110, standard deviation 0.581\n",
      "Population of 30 members in 2 species:\n",
      "   ID   age  size  fitness  adj fit  stag\n",
      "  ====  ===  ====  =======  =======  ====\n",
      "     1    4    14      1.0    0.167     4\n",
      "     2    3    16      1.0    0.389     2\n",
      "Total extinctions: 0\n",
      "Generation time: 1240.591 sec (1408.684 average)\n",
      "\n",
      " ****** Running generation 5 ****** \n",
      "\n"
     ]
    },
    {
     "name": "stderr",
     "output_type": "stream",
     "text": [
      "100%|██████████| 30/30 [20:32<00:00, 41.08s/it]\n"
     ]
    },
    {
     "name": "stdout",
     "output_type": "stream",
     "text": [
      "Population's average fitness: 0.30000 stdev: 0.45826\n",
      "Best fitness: 1.00000 - size: (1, 5) - species 1 - id 144\n",
      "Average adjusted fitness: 0.299\n",
      "Mean genetic distance 2.198, standard deviation 0.695\n",
      "Population of 30 members in 2 species:\n",
      "   ID   age  size  fitness  adj fit  stag\n",
      "  ====  ===  ====  =======  =======  ====\n",
      "     1    5    14      1.0    0.286     5\n",
      "     2    4    16      1.0    0.312     3\n",
      "Total extinctions: 0\n",
      "Generation time: 1232.423 sec (1379.308 average)\n",
      "\n",
      " ****** Running generation 6 ****** \n",
      "\n"
     ]
    },
    {
     "name": "stderr",
     "output_type": "stream",
     "text": [
      "100%|██████████| 30/30 [22:36<00:00, 45.23s/it]\n"
     ]
    },
    {
     "name": "stdout",
     "output_type": "stream",
     "text": [
      "Population's average fitness: 0.30000 stdev: 0.45826\n",
      "Best fitness: 1.00000 - size: (1, 4) - species 1 - id 173\n",
      "Average adjusted fitness: 0.299\n",
      "Mean genetic distance 2.197, standard deviation 0.672\n",
      "Population of 30 members in 2 species:\n",
      "   ID   age  size  fitness  adj fit  stag\n",
      "  ====  ===  ====  =======  =======  ====\n",
      "     1    6    16      1.0    0.286     6\n",
      "     2    5    14      1.0    0.312     4\n",
      "Total extinctions: 0\n",
      "Generation time: 1356.978 sec (1376.118 average)\n",
      "\n",
      " ****** Running generation 7 ****** \n",
      "\n"
     ]
    },
    {
     "name": "stderr",
     "output_type": "stream",
     "text": [
      "100%|██████████| 30/30 [19:34<00:00, 39.14s/it]\n"
     ]
    },
    {
     "name": "stdout",
     "output_type": "stream",
     "text": [
      "Population's average fitness: 0.30000 stdev: 0.45826\n",
      "Best fitness: 1.00000 - size: (1, 4) - species 1 - id 173\n",
      "Average adjusted fitness: 0.304\n",
      "Mean genetic distance 2.076, standard deviation 0.631\n",
      "Population of 30 members in 2 species:\n",
      "   ID   age  size  fitness  adj fit  stag\n",
      "  ====  ===  ====  =======  =======  ====\n",
      "     1    7    16      1.0    0.250     7\n",
      "     2    6    14      1.0    0.357     5\n",
      "Total extinctions: 0\n",
      "Generation time: 1174.144 sec (1350.871 average)\n",
      "\n",
      " ****** Running generation 8 ****** \n",
      "\n"
     ]
    },
    {
     "name": "stderr",
     "output_type": "stream",
     "text": [
      "100%|██████████| 30/30 [23:20<00:00, 46.70s/it]\n"
     ]
    },
    {
     "name": "stdout",
     "output_type": "stream",
     "text": [
      "Population's average fitness: 0.30000 stdev: 0.45826\n",
      "Best fitness: 1.00000 - size: (2, 4) - species 1 - id 231\n",
      "Average adjusted fitness: 0.308\n",
      "Mean genetic distance 2.024, standard deviation 0.704\n",
      "Population of 30 members in 2 species:\n",
      "   ID   age  size  fitness  adj fit  stag\n",
      "  ====  ===  ====  =======  =======  ====\n",
      "     1    8    14      1.0    0.188     8\n",
      "     2    7    16      1.0    0.429     6\n",
      "Total extinctions: 0\n",
      "Generation time: 1400.945 sec (1356.435 average)\n",
      "\n",
      " ****** Running generation 9 ****** \n",
      "\n"
     ]
    },
    {
     "name": "stderr",
     "output_type": "stream",
     "text": [
      "100%|██████████| 30/30 [20:55<00:00, 41.85s/it]\n"
     ]
    },
    {
     "name": "stdout",
     "output_type": "stream",
     "text": [
      "Population's average fitness: 0.30000 stdev: 0.45826\n",
      "Best fitness: 1.00000 - size: (2, 4) - species 1 - id 257\n",
      "Average adjusted fitness: 0.299\n",
      "Mean genetic distance 2.175, standard deviation 0.702\n",
      "Population of 30 members in 2 species:\n",
      "   ID   age  size  fitness  adj fit  stag\n",
      "  ====  ===  ====  =======  =======  ====\n",
      "     1    9    17      1.0    0.286     9\n",
      "     2    8    13      1.0    0.312     7\n",
      "Total extinctions: 0\n",
      "Generation time: 1255.368 sec (1346.328 average)\n",
      "\n",
      "Best individual in generation 9 meets fitness threshold - complexity: (1, 5)\n",
      "directory name: c:\\Users\\archi\\Documents\\Research\\SunSight\\Models\\Neat\\models\\05-30-25\n",
      "Carbon Offset ratio: 0.791316679623551\n",
      "Energy Potential ratio: 1.2609096779374855\n",
      "Racial Equity ratio: 1.366675893446788\n",
      "Income Equity ratio: 1.5344122682475214\n",
      "new weights: [np.float64(1.2637165698007589), np.float64(1.012620957722698), np.float64(1.8366116371175862), 1]\n",
      "loading configuration...\n",
      "creating population...\n",
      "setting reporters...\n",
      "training model...\n",
      "\n",
      " ****** Running generation 0 ****** \n",
      "\n"
     ]
    },
    {
     "name": "stderr",
     "output_type": "stream",
     "text": [
      "100%|██████████| 30/30 [29:28<00:00, 58.96s/it]\n"
     ]
    },
    {
     "name": "stdout",
     "output_type": "stream",
     "text": [
      "Population's average fitness: 0.30000 stdev: 0.45826\n",
      "Best fitness: 1.00000 - size: (1, 6) - species 1 - id 4\n",
      "Average adjusted fitness: 0.300\n",
      "Mean genetic distance 1.126, standard deviation 0.331\n",
      "Population of 30 members in 1 species:\n",
      "   ID   age  size  fitness  adj fit  stag\n",
      "  ====  ===  ====  =======  =======  ====\n",
      "     1    0    30      1.0    0.300     0\n",
      "Total extinctions: 0\n",
      "Generation time: 1768.736 sec\n",
      "\n",
      " ****** Running generation 1 ****** \n",
      "\n"
     ]
    },
    {
     "name": "stderr",
     "output_type": "stream",
     "text": [
      "100%|██████████| 30/30 [27:22<00:00, 54.76s/it]\n"
     ]
    },
    {
     "name": "stdout",
     "output_type": "stream",
     "text": [
      "Population's average fitness: 0.30000 stdev: 0.45826\n",
      "Best fitness: 1.00000 - size: (1, 6) - species 1 - id 4\n",
      "Average adjusted fitness: 0.300\n",
      "Mean genetic distance 1.114, standard deviation 0.344\n",
      "Population of 30 members in 1 species:\n",
      "   ID   age  size  fitness  adj fit  stag\n",
      "  ====  ===  ====  =======  =======  ====\n",
      "     1    1    30      1.0    0.300     1\n",
      "Total extinctions: 0\n",
      "Generation time: 1642.795 sec (1705.766 average)\n",
      "\n",
      " ****** Running generation 2 ****** \n",
      "\n"
     ]
    },
    {
     "name": "stderr",
     "output_type": "stream",
     "text": [
      "100%|██████████| 30/30 [20:04<00:00, 40.14s/it]\n"
     ]
    },
    {
     "name": "stdout",
     "output_type": "stream",
     "text": [
      "Population's average fitness: 0.30000 stdev: 0.45826\n",
      "Best fitness: 1.00000 - size: (1, 6) - species 1 - id 4\n",
      "Average adjusted fitness: 0.300\n",
      "Mean genetic distance 1.076, standard deviation 0.376\n",
      "Population of 30 members in 1 species:\n",
      "   ID   age  size  fitness  adj fit  stag\n",
      "  ====  ===  ====  =======  =======  ====\n",
      "     1    2    30      1.0    0.300     2\n",
      "Total extinctions: 0\n",
      "Generation time: 1204.304 sec (1538.612 average)\n",
      "\n",
      " ****** Running generation 3 ****** \n",
      "\n"
     ]
    },
    {
     "name": "stderr",
     "output_type": "stream",
     "text": [
      "100%|██████████| 30/30 [21:57<00:00, 43.91s/it]\n"
     ]
    },
    {
     "name": "stdout",
     "output_type": "stream",
     "text": [
      "Population's average fitness: 0.30000 stdev: 0.45826\n",
      "Best fitness: 1.00000 - size: (1, 5) - species 1 - id 86\n",
      "Average adjusted fitness: 0.300\n",
      "Mean genetic distance 1.309, standard deviation 0.461\n",
      "Population of 30 members in 1 species:\n",
      "   ID   age  size  fitness  adj fit  stag\n",
      "  ====  ===  ====  =======  =======  ====\n",
      "     1    3    30      1.0    0.300     3\n",
      "Total extinctions: 0\n",
      "Generation time: 1317.381 sec (1483.304 average)\n",
      "\n",
      " ****** Running generation 4 ****** \n",
      "\n"
     ]
    },
    {
     "name": "stderr",
     "output_type": "stream",
     "text": [
      "100%|██████████| 30/30 [1:00:52<00:00, 121.75s/it]\n"
     ]
    },
    {
     "name": "stdout",
     "output_type": "stream",
     "text": [
      "Population's average fitness: 0.30000 stdev: 0.45826\n",
      "Best fitness: 1.00000 - size: (1, 5) - species 1 - id 86\n",
      "Average adjusted fitness: 0.300\n",
      "Mean genetic distance 1.229, standard deviation 0.424\n",
      "Population of 30 members in 1 species:\n",
      "   ID   age  size  fitness  adj fit  stag\n",
      "  ====  ===  ====  =======  =======  ====\n",
      "     1    4    30      1.0    0.300     4\n",
      "Total extinctions: 0\n",
      "Generation time: 3652.577 sec (1917.159 average)\n",
      "\n",
      " ****** Running generation 5 ****** \n",
      "\n"
     ]
    },
    {
     "name": "stderr",
     "output_type": "stream",
     "text": [
      "100%|██████████| 30/30 [30:14<00:00, 60.48s/it]  \n"
     ]
    },
    {
     "name": "stdout",
     "output_type": "stream",
     "text": [
      "Population's average fitness: 0.30000 stdev: 0.45826\n",
      "Best fitness: 1.00000 - size: (1, 2) - species 1 - id 151\n",
      "Average adjusted fitness: 0.300\n",
      "Mean genetic distance 1.511, standard deviation 0.470\n",
      "Population of 30 members in 1 species:\n",
      "   ID   age  size  fitness  adj fit  stag\n",
      "  ====  ===  ====  =======  =======  ====\n",
      "     1    5    30      1.0    0.300     5\n",
      "Total extinctions: 0\n",
      "Generation time: 1814.434 sec (1900.038 average)\n",
      "\n",
      " ****** Running generation 6 ****** \n",
      "\n"
     ]
    },
    {
     "name": "stderr",
     "output_type": "stream",
     "text": [
      "100%|██████████| 30/30 [21:27<00:00, 42.92s/it]\n"
     ]
    },
    {
     "name": "stdout",
     "output_type": "stream",
     "text": [
      "Population's average fitness: 0.30000 stdev: 0.45826\n",
      "Best fitness: 1.00000 - size: (1, 2) - species 1 - id 151\n",
      "Average adjusted fitness: 0.300\n",
      "Mean genetic distance 1.506, standard deviation 0.502\n",
      "Population of 30 members in 1 species:\n",
      "   ID   age  size  fitness  adj fit  stag\n",
      "  ====  ===  ====  =======  =======  ====\n",
      "     1    6    30      1.0    0.300     6\n",
      "Total extinctions: 0\n",
      "Generation time: 1287.532 sec (1812.537 average)\n",
      "\n",
      " ****** Running generation 7 ****** \n",
      "\n"
     ]
    },
    {
     "name": "stderr",
     "output_type": "stream",
     "text": [
      "100%|██████████| 30/30 [27:24<00:00, 54.81s/it]\n"
     ]
    },
    {
     "name": "stdout",
     "output_type": "stream",
     "text": [
      "Population's average fitness: 0.30000 stdev: 0.45826\n",
      "Best fitness: 1.00000 - size: (1, 2) - species 1 - id 151\n",
      "Average adjusted fitness: 0.300\n",
      "Mean genetic distance 1.584, standard deviation 0.589\n",
      "Population of 30 members in 1 species:\n",
      "   ID   age  size  fitness  adj fit  stag\n",
      "  ====  ===  ====  =======  =======  ====\n",
      "     1    7    30      1.0    0.300     7\n",
      "Total extinctions: 0\n",
      "Generation time: 1644.191 sec (1791.494 average)\n",
      "\n",
      " ****** Running generation 8 ****** \n",
      "\n"
     ]
    },
    {
     "name": "stderr",
     "output_type": "stream",
     "text": [
      "100%|██████████| 30/30 [21:54<00:00, 43.81s/it]\n"
     ]
    },
    {
     "name": "stdout",
     "output_type": "stream",
     "text": [
      "Population's average fitness: 0.30000 stdev: 0.45826\n",
      "Best fitness: 1.00000 - size: (1, 2) - species 1 - id 151\n",
      "Average adjusted fitness: 0.300\n",
      "Mean genetic distance 1.252, standard deviation 0.449\n",
      "Population of 30 members in 1 species:\n",
      "   ID   age  size  fitness  adj fit  stag\n",
      "  ====  ===  ====  =======  =======  ====\n",
      "     1    8    30      1.0    0.300     8\n",
      "Total extinctions: 0\n",
      "Generation time: 1314.203 sec (1738.462 average)\n",
      "\n",
      " ****** Running generation 9 ****** \n",
      "\n"
     ]
    },
    {
     "name": "stderr",
     "output_type": "stream",
     "text": [
      "100%|██████████| 30/30 [47:23<00:00, 94.78s/it]  \n"
     ]
    },
    {
     "name": "stdout",
     "output_type": "stream",
     "text": [
      "Population's average fitness: 0.30000 stdev: 0.45826\n",
      "Best fitness: 1.00000 - size: (1, 2) - species 1 - id 151\n",
      "Average adjusted fitness: 0.300\n",
      "Mean genetic distance 1.271, standard deviation 0.470\n",
      "Population of 30 members in 1 species:\n",
      "   ID   age  size  fitness  adj fit  stag\n",
      "  ====  ===  ====  =======  =======  ====\n",
      "     1    9    30      1.0    0.300     9\n",
      "Total extinctions: 0\n",
      "Generation time: 2843.304 sec (1848.946 average)\n",
      "\n",
      "Best individual in generation 9 meets fitness threshold - complexity: (1, 6)\n",
      "directory name: c:\\Users\\archi\\Documents\\Research\\SunSight\\Models\\Neat\\models\\05-31-25\n",
      "making directory\n",
      "Carbon Offset ratio: 1.6381634331765442\n",
      "Energy Potential ratio: 0.9861557663824535\n",
      "Racial Equity ratio: 0.8208249730072208\n",
      "Income Equity ratio: 0.9223797172510022\n",
      "new weights: [np.float64(1.2637165698007589), np.float64(1.0268367252339126), np.float64(2.2375192002125277), np.float64(1.0841522003327784)]\n",
      "loading configuration...\n",
      "creating population...\n",
      "setting reporters...\n",
      "training model...\n",
      "\n",
      " ****** Running generation 0 ****** \n",
      "\n"
     ]
    },
    {
     "name": "stderr",
     "output_type": "stream",
     "text": [
      "  0%|          | 0/30 [00:22<?, ?it/s]\n"
     ]
    },
    {
     "ename": "KeyboardInterrupt",
     "evalue": "",
     "output_type": "error",
     "traceback": [
      "\u001b[1;31m---------------------------------------------------------------------------\u001b[0m",
      "\u001b[1;31mKeyboardInterrupt\u001b[0m                         Traceback (most recent call last)",
      "Cell \u001b[1;32mIn[5], line 6\u001b[0m\n\u001b[0;32m      3\u001b[0m trainer \u001b[38;5;241m=\u001b[39m NeatTrainer(pop_size \u001b[38;5;241m=\u001b[39m \u001b[38;5;241m30\u001b[39m, num_generations\u001b[38;5;241m=\u001b[39m\u001b[38;5;241m10\u001b[39m, objectives\u001b[38;5;241m=\u001b[39mobjectives, overall_threshold\u001b[38;5;241m=\u001b[39m\u001b[38;5;241m0.3\u001b[39m)\u001b[38;5;66;03m#30, 10\u001b[39;00m\n\u001b[0;32m      4\u001b[0m lexicase \u001b[38;5;241m=\u001b[39m LexicaseEval(zips_df, data_manager, objectives, num_panels, weights)\n\u001b[1;32m----> 6\u001b[0m network \u001b[38;5;241m=\u001b[39m \u001b[43mtrainer\u001b[49m\u001b[38;5;241;43m.\u001b[39;49m\u001b[43mrun\u001b[49m\u001b[43m(\u001b[49m\u001b[43mconfig_path\u001b[49m\u001b[43m,\u001b[49m\u001b[43m \u001b[49m\u001b[43mlexicase\u001b[49m\u001b[38;5;241;43m.\u001b[39;49m\u001b[43meval\u001b[49m\u001b[43m)\u001b[49m\n\u001b[0;32m      7\u001b[0m save_model(network, \u001b[38;5;28;01mNone\u001b[39;00m, model_name\u001b[38;5;241m=\u001b[39m\u001b[38;5;124m\"\u001b[39m\u001b[38;5;124mNEAT_model_lexicase_weighted.pkl\u001b[39m\u001b[38;5;124m\"\u001b[39m, base_directory\u001b[38;5;241m=\u001b[39mdir1 \u001b[38;5;241m+\u001b[39m \u001b[38;5;124m\"\u001b[39m\u001b[38;5;130;01m\\\\\u001b[39;00m\u001b[38;5;124mModels\u001b[39m\u001b[38;5;130;01m\\\\\u001b[39;00m\u001b[38;5;124mNeat\u001b[39m\u001b[38;5;130;01m\\\\\u001b[39;00m\u001b[38;5;124mmodels\u001b[39m\u001b[38;5;124m\"\u001b[39m)\n\u001b[0;32m      9\u001b[0m \u001b[38;5;66;03m#evaluate model\u001b[39;00m\n",
      "File \u001b[1;32mc:\\Users\\archi\\Documents\\Research\\SunSight\\Models\\Neat\\neat_util.py:202\u001b[0m, in \u001b[0;36mNeatTrainer.run\u001b[1;34m(self, config_file, selection_method, reproduction_method, checkpoint)\u001b[0m\n\u001b[0;32m    197\u001b[0m \u001b[38;5;66;03m# p.add_reporter(neat.Checkpointer(time_interval_seconds=1200, filename_prefix='Neat/checkpoints/neat-checkpoint-'))\u001b[39;00m\n\u001b[0;32m    198\u001b[0m \n\u001b[0;32m    199\u001b[0m \u001b[38;5;66;03m# Run for up to 300 generations.\u001b[39;00m\n\u001b[0;32m    200\u001b[0m \u001b[38;5;28mprint\u001b[39m(\u001b[38;5;124m\"\u001b[39m\u001b[38;5;124mtraining model...\u001b[39m\u001b[38;5;124m\"\u001b[39m)\n\u001b[1;32m--> 202\u001b[0m winner \u001b[38;5;241m=\u001b[39m \u001b[43mp\u001b[49m\u001b[38;5;241;43m.\u001b[39;49m\u001b[43mrun\u001b[49m\u001b[43m(\u001b[49m\u001b[43mselection_method\u001b[49m\u001b[43m,\u001b[49m\u001b[43m \u001b[49m\u001b[38;5;28;43mself\u001b[39;49m\u001b[38;5;241;43m.\u001b[39;49m\u001b[43mnum_generations\u001b[49m\u001b[43m)\u001b[49m\n\u001b[0;32m    204\u001b[0m \u001b[38;5;66;03m# Display the winning genome.\u001b[39;00m\n\u001b[0;32m    205\u001b[0m \u001b[38;5;66;03m# print('\\nBest genome:\\n{!s}'.format(winner))\u001b[39;00m\n\u001b[0;32m    207\u001b[0m winner_net \u001b[38;5;241m=\u001b[39m neat\u001b[38;5;241m.\u001b[39mnn\u001b[38;5;241m.\u001b[39mFeedForwardNetwork\u001b[38;5;241m.\u001b[39mcreate(winner, config)\n",
      "File \u001b[1;32m~\\AppData\\Local\\Packages\\PythonSoftwareFoundation.Python.3.11_qbz5n2kfra8p0\\LocalCache\\local-packages\\Python311\\site-packages\\neat\\population.py:89\u001b[0m, in \u001b[0;36mPopulation.run\u001b[1;34m(self, fitness_function, n)\u001b[0m\n\u001b[0;32m     86\u001b[0m \u001b[38;5;28mself\u001b[39m\u001b[38;5;241m.\u001b[39mreporters\u001b[38;5;241m.\u001b[39mstart_generation(\u001b[38;5;28mself\u001b[39m\u001b[38;5;241m.\u001b[39mgeneration)\n\u001b[0;32m     88\u001b[0m \u001b[38;5;66;03m# Evaluate all genomes using the user-provided function.\u001b[39;00m\n\u001b[1;32m---> 89\u001b[0m \u001b[43mfitness_function\u001b[49m\u001b[43m(\u001b[49m\u001b[38;5;28;43mlist\u001b[39;49m\u001b[43m(\u001b[49m\u001b[43miteritems\u001b[49m\u001b[43m(\u001b[49m\u001b[38;5;28;43mself\u001b[39;49m\u001b[38;5;241;43m.\u001b[39;49m\u001b[43mpopulation\u001b[49m\u001b[43m)\u001b[49m\u001b[43m)\u001b[49m\u001b[43m,\u001b[49m\u001b[43m \u001b[49m\u001b[38;5;28;43mself\u001b[39;49m\u001b[38;5;241;43m.\u001b[39;49m\u001b[43mconfig\u001b[49m\u001b[43m)\u001b[49m\n\u001b[0;32m     91\u001b[0m \u001b[38;5;66;03m# Gather and report statistics.\u001b[39;00m\n\u001b[0;32m     92\u001b[0m best \u001b[38;5;241m=\u001b[39m \u001b[38;5;28;01mNone\u001b[39;00m\n",
      "File \u001b[1;32mc:\\Users\\archi\\Documents\\Research\\SunSight\\Models\\Neat\\neat_util.py:84\u001b[0m, in \u001b[0;36mLexicaseEval.eval\u001b[1;34m(self, genomes, config)\u001b[0m\n\u001b[0;32m     81\u001b[0m genome\u001b[38;5;241m.\u001b[39mfitness \u001b[38;5;241m=\u001b[39m \u001b[38;5;241m0\u001b[39m \u001b[38;5;66;03m#set all fitness to a minimum initially\u001b[39;00m\n\u001b[0;32m     83\u001b[0m model \u001b[38;5;241m=\u001b[39m NeatModel(neat\u001b[38;5;241m.\u001b[39mnn\u001b[38;5;241m.\u001b[39mFeedForwardNetwork\u001b[38;5;241m.\u001b[39mcreate(genome, config))\n\u001b[1;32m---> 84\u001b[0m projection \u001b[38;5;241m=\u001b[39m \u001b[43mcreate_neat_proj\u001b[49m\u001b[43m(\u001b[49m\u001b[38;5;28;43mself\u001b[39;49m\u001b[38;5;241;43m.\u001b[39;49m\u001b[43mdata_manager\u001b[49m\u001b[43m,\u001b[49m\u001b[43m \u001b[49m\u001b[38;5;28;43mself\u001b[39;49m\u001b[38;5;241;43m.\u001b[39;49m\u001b[43mnum_panels\u001b[49m\u001b[43m,\u001b[49m\u001b[43m \u001b[49m\u001b[43mmodel\u001b[49m\u001b[43m,\u001b[49m\u001b[43m \u001b[49m\u001b[38;5;28;43mself\u001b[39;49m\u001b[38;5;241;43m.\u001b[39;49m\u001b[43mobjectives\u001b[49m\u001b[43m)\u001b[49m\n\u001b[0;32m     85\u001b[0m \u001b[38;5;66;03m#objective projections is projection.objective_projections; is a dictionary of {objective name: objective score}\u001b[39;00m\n\u001b[0;32m     87\u001b[0m genome_info\u001b[38;5;241m.\u001b[39mappend([genome, projection\u001b[38;5;241m.\u001b[39mobjective_projections, \u001b[38;5;241m0\u001b[39m]) \u001b[38;5;66;03m#genome pointer, zip_order, and cumulative score\u001b[39;00m\n",
      "File \u001b[1;32mc:\\Users\\archi\\Documents\\Research\\SunSight\\Simulation\\projections_util.py:320\u001b[0m, in \u001b[0;36mcreate_neat_proj\u001b[1;34m(data_manager, n_panels, model, objectives, save, load)\u001b[0m\n\u001b[0;32m    317\u001b[0m zip_values \u001b[38;5;241m=\u001b[39m model\u001b[38;5;241m.\u001b[39mrun_network(data_manager)\n\u001b[0;32m    318\u001b[0m new_df[\u001b[38;5;124m'\u001b[39m\u001b[38;5;124mvalue\u001b[39m\u001b[38;5;124m'\u001b[39m] \u001b[38;5;241m=\u001b[39m new_df[\u001b[38;5;124m'\u001b[39m\u001b[38;5;124mregion_name\u001b[39m\u001b[38;5;124m'\u001b[39m]\u001b[38;5;241m.\u001b[39mmap(zip_values)\n\u001b[1;32m--> 320\u001b[0m proj \u001b[38;5;241m=\u001b[39m \u001b[43mcreate_greedy_projection\u001b[49m\u001b[43m(\u001b[49m\u001b[43mzip_df\u001b[49m\u001b[38;5;241;43m=\u001b[39;49m\u001b[43mnew_df\u001b[49m\u001b[43m,\u001b[49m\u001b[43m \u001b[49m\u001b[43mn_panels\u001b[49m\u001b[38;5;241;43m=\u001b[39;49m\u001b[43mn_panels\u001b[49m\u001b[43m,\u001b[49m\u001b[43m \u001b[49m\u001b[43msort_by\u001b[49m\u001b[38;5;241;43m=\u001b[39;49m\u001b[38;5;124;43m'\u001b[39;49m\u001b[38;5;124;43mvalue\u001b[39;49m\u001b[38;5;124;43m'\u001b[39;49m\u001b[43m,\u001b[49m\u001b[43m \u001b[49m\u001b[43mobjectives\u001b[49m\u001b[38;5;241;43m=\u001b[39;49m\u001b[43mobjectives\u001b[49m\u001b[43m,\u001b[49m\u001b[43m \u001b[49m\u001b[43mname\u001b[49m\u001b[38;5;241;43m=\u001b[39;49m\u001b[38;5;124;43m\"\u001b[39;49m\u001b[38;5;124;43mNEAT Model\u001b[39;49m\u001b[38;5;124;43m\"\u001b[39;49m\u001b[43m)\u001b[49m\n\u001b[0;32m    321\u001b[0m \u001b[38;5;66;03m#save\u001b[39;00m\n\u001b[0;32m    322\u001b[0m \u001b[38;5;28;01mif\u001b[39;00m save \u001b[38;5;129;01mis\u001b[39;00m \u001b[38;5;129;01mnot\u001b[39;00m \u001b[38;5;28;01mNone\u001b[39;00m:\n",
      "File \u001b[1;32mc:\\Users\\archi\\Documents\\Research\\SunSight\\Simulation\\projections_util.py:224\u001b[0m, in \u001b[0;36mcreate_greedy_projection\u001b[1;34m(zip_df, n_panels, sort_by, ascending, objectives, name)\u001b[0m\n\u001b[0;32m    221\u001b[0m     \u001b[38;5;66;03m# Calculates the value of each objective after placing all possible panels in the ZIP\u001b[39;00m\n\u001b[0;32m    222\u001b[0m     \u001b[38;5;66;03m# Each objective function must take the zip_df and the picked dict only\u001b[39;00m\n\u001b[0;32m    223\u001b[0m     \u001b[38;5;28;01mfor\u001b[39;00m objective \u001b[38;5;129;01min\u001b[39;00m objectives:\n\u001b[1;32m--> 224\u001b[0m         projections[objective\u001b[38;5;241m.\u001b[39mname][i] \u001b[38;5;241m=\u001b[39m \u001b[43mobjective\u001b[49m\u001b[38;5;241;43m.\u001b[39;49m\u001b[43mcalc\u001b[49m\u001b[43m(\u001b[49m\u001b[43mzip_df\u001b[49m\u001b[43m,\u001b[49m\u001b[43m \u001b[49m\u001b[43mpanel_placements\u001b[49m\u001b[43m)\u001b[49m\n\u001b[0;32m    226\u001b[0m     greedy_best_not_filled_index \u001b[38;5;241m+\u001b[39m\u001b[38;5;241m=\u001b[39m \u001b[38;5;241m1\u001b[39m\n\u001b[0;32m    228\u001b[0m greedy_proj \u001b[38;5;241m=\u001b[39m Projection(objective_projections\u001b[38;5;241m=\u001b[39mprojections, panel_placements\u001b[38;5;241m=\u001b[39mpanel_placements, name\u001b[38;5;241m=\u001b[39mname)\n",
      "File \u001b[1;32mc:\\Users\\archi\\Documents\\Research\\SunSight\\Simulation\\projections_util.py:60\u001b[0m, in \u001b[0;36mObjective.calc\u001b[1;34m(self, zip_df, panel_placements)\u001b[0m\n\u001b[0;32m     58\u001b[0m \u001b[38;5;28;01mdef\u001b[39;00m\u001b[38;5;250m \u001b[39m\u001b[38;5;21mcalc\u001b[39m(\u001b[38;5;28mself\u001b[39m, zip_df, panel_placements):\n\u001b[0;32m     59\u001b[0m     \u001b[38;5;66;03m# Wraps the given func with specific inputs (i.e. racial vs Income equity both use the calc_equity func)\u001b[39;00m\n\u001b[1;32m---> 60\u001b[0m     \u001b[38;5;28;01mreturn\u001b[39;00m \u001b[38;5;28;43mself\u001b[39;49m\u001b[38;5;241;43m.\u001b[39;49m\u001b[43mfunc\u001b[49m\u001b[43m(\u001b[49m\u001b[43mzip_df\u001b[49m\u001b[43m,\u001b[49m\u001b[43m \u001b[49m\u001b[43mpanel_placements\u001b[49m\u001b[43m,\u001b[49m\u001b[43m \u001b[49m\u001b[38;5;241;43m*\u001b[39;49m\u001b[38;5;241;43m*\u001b[39;49m\u001b[38;5;28;43mself\u001b[39;49m\u001b[38;5;241;43m.\u001b[39;49m\u001b[43mfunc_kwargs\u001b[49m\u001b[43m)\u001b[49m\n",
      "File \u001b[1;32mc:\\Users\\archi\\Documents\\Research\\SunSight\\Simulation\\projections_util.py:92\u001b[0m, in \u001b[0;36mcalc_equity\u001b[1;34m(zip_df, placed_panels, type, by)\u001b[0m\n\u001b[0;32m     89\u001b[0m     \u001b[38;5;28mprint\u001b[39m(\u001b[38;5;124m\"\u001b[39m\u001b[38;5;124mInvalid type for equity calculation, defaulting to black_prop\u001b[39m\u001b[38;5;124m\"\u001b[39m)\n\u001b[0;32m     90\u001b[0m     metric \u001b[38;5;241m=\u001b[39m \u001b[38;5;124m'\u001b[39m\u001b[38;5;124mblack_prop\u001b[39m\u001b[38;5;124m'\u001b[39m\n\u001b[1;32m---> 92\u001b[0m zip_df \u001b[38;5;241m=\u001b[39m \u001b[43mupdated_df_with_picks\u001b[49m\u001b[43m(\u001b[49m\u001b[43mzip_df\u001b[49m\u001b[43m,\u001b[49m\u001b[43m \u001b[49m\u001b[43mplaced_panels\u001b[49m\u001b[43m)\u001b[49m\n\u001b[0;32m     94\u001b[0m metric_median \u001b[38;5;241m=\u001b[39m np\u001b[38;5;241m.\u001b[39mmedian(zip_df[metric])\n\u001b[0;32m     95\u001b[0m high_avg \u001b[38;5;241m=\u001b[39m np\u001b[38;5;241m.\u001b[39mmean(zip_df[zip_df[metric] \u001b[38;5;241m>\u001b[39m metric_median][\u001b[38;5;124m'\u001b[39m\u001b[38;5;124mpanel_utilization\u001b[39m\u001b[38;5;124m'\u001b[39m]\u001b[38;5;241m.\u001b[39mvalues)\n",
      "File \u001b[1;32mc:\\Users\\archi\\Documents\\Research\\SunSight\\Simulation\\projections_util.py:66\u001b[0m, in \u001b[0;36mupdated_df_with_picks\u001b[1;34m(zip_df, placed_panels, load, save)\u001b[0m\n\u001b[0;32m     64\u001b[0m \u001b[38;5;28;01mdef\u001b[39;00m\u001b[38;5;250m \u001b[39m\u001b[38;5;21mupdated_df_with_picks\u001b[39m(zip_df:pd\u001b[38;5;241m.\u001b[39mDataFrame, placed_panels:\u001b[38;5;28mdict\u001b[39m, load\u001b[38;5;241m=\u001b[39m\u001b[38;5;28;01mNone\u001b[39;00m, save\u001b[38;5;241m=\u001b[39m\u001b[38;5;28;01mNone\u001b[39;00m):\n\u001b[1;32m---> 66\u001b[0m     new_df \u001b[38;5;241m=\u001b[39m \u001b[43mzip_df\u001b[49m\u001b[38;5;241;43m.\u001b[39;49m\u001b[43mcopy\u001b[49m\u001b[43m(\u001b[49m\u001b[43mdeep\u001b[49m\u001b[38;5;241;43m=\u001b[39;49m\u001b[38;5;28;43;01mTrue\u001b[39;49;00m\u001b[43m)\u001b[49m\n\u001b[0;32m     67\u001b[0m     new_existing \u001b[38;5;241m=\u001b[39m np\u001b[38;5;241m.\u001b[39marray(new_df[\u001b[38;5;124m'\u001b[39m\u001b[38;5;124mexisting_installs_count\u001b[39m\u001b[38;5;124m'\u001b[39m])\n\u001b[0;32m     69\u001b[0m     \u001b[38;5;28;01mfor\u001b[39;00m \u001b[38;5;28mzip\u001b[39m \u001b[38;5;129;01min\u001b[39;00m placed_panels:\n",
      "File \u001b[1;32m~\\AppData\\Local\\Packages\\PythonSoftwareFoundation.Python.3.11_qbz5n2kfra8p0\\LocalCache\\local-packages\\Python311\\site-packages\\pandas\\core\\generic.py:6811\u001b[0m, in \u001b[0;36mNDFrame.copy\u001b[1;34m(self, deep)\u001b[0m\n\u001b[0;32m   6662\u001b[0m \u001b[38;5;129m@final\u001b[39m\n\u001b[0;32m   6663\u001b[0m \u001b[38;5;28;01mdef\u001b[39;00m\u001b[38;5;250m \u001b[39m\u001b[38;5;21mcopy\u001b[39m(\u001b[38;5;28mself\u001b[39m, deep: bool_t \u001b[38;5;241m|\u001b[39m \u001b[38;5;28;01mNone\u001b[39;00m \u001b[38;5;241m=\u001b[39m \u001b[38;5;28;01mTrue\u001b[39;00m) \u001b[38;5;241m-\u001b[39m\u001b[38;5;241m>\u001b[39m Self:\n\u001b[0;32m   6664\u001b[0m \u001b[38;5;250m    \u001b[39m\u001b[38;5;124;03m\"\"\"\u001b[39;00m\n\u001b[0;32m   6665\u001b[0m \u001b[38;5;124;03m    Make a copy of this object's indices and data.\u001b[39;00m\n\u001b[0;32m   6666\u001b[0m \n\u001b[1;32m   (...)\u001b[0m\n\u001b[0;32m   6809\u001b[0m \u001b[38;5;124;03m    dtype: int64\u001b[39;00m\n\u001b[0;32m   6810\u001b[0m \u001b[38;5;124;03m    \"\"\"\u001b[39;00m\n\u001b[1;32m-> 6811\u001b[0m     data \u001b[38;5;241m=\u001b[39m \u001b[38;5;28;43mself\u001b[39;49m\u001b[38;5;241;43m.\u001b[39;49m\u001b[43m_mgr\u001b[49m\u001b[38;5;241;43m.\u001b[39;49m\u001b[43mcopy\u001b[49m\u001b[43m(\u001b[49m\u001b[43mdeep\u001b[49m\u001b[38;5;241;43m=\u001b[39;49m\u001b[43mdeep\u001b[49m\u001b[43m)\u001b[49m\n\u001b[0;32m   6812\u001b[0m     \u001b[38;5;28mself\u001b[39m\u001b[38;5;241m.\u001b[39m_clear_item_cache()\n\u001b[0;32m   6813\u001b[0m     \u001b[38;5;28;01mreturn\u001b[39;00m \u001b[38;5;28mself\u001b[39m\u001b[38;5;241m.\u001b[39m_constructor_from_mgr(data, axes\u001b[38;5;241m=\u001b[39mdata\u001b[38;5;241m.\u001b[39maxes)\u001b[38;5;241m.\u001b[39m__finalize__(\n\u001b[0;32m   6814\u001b[0m         \u001b[38;5;28mself\u001b[39m, method\u001b[38;5;241m=\u001b[39m\u001b[38;5;124m\"\u001b[39m\u001b[38;5;124mcopy\u001b[39m\u001b[38;5;124m\"\u001b[39m\n\u001b[0;32m   6815\u001b[0m     )\n",
      "File \u001b[1;32m~\\AppData\\Local\\Packages\\PythonSoftwareFoundation.Python.3.11_qbz5n2kfra8p0\\LocalCache\\local-packages\\Python311\\site-packages\\pandas\\core\\internals\\managers.py:593\u001b[0m, in \u001b[0;36mBaseBlockManager.copy\u001b[1;34m(self, deep)\u001b[0m\n\u001b[0;32m    590\u001b[0m     \u001b[38;5;28;01melse\u001b[39;00m:\n\u001b[0;32m    591\u001b[0m         new_axes \u001b[38;5;241m=\u001b[39m \u001b[38;5;28mlist\u001b[39m(\u001b[38;5;28mself\u001b[39m\u001b[38;5;241m.\u001b[39maxes)\n\u001b[1;32m--> 593\u001b[0m res \u001b[38;5;241m=\u001b[39m \u001b[38;5;28;43mself\u001b[39;49m\u001b[38;5;241;43m.\u001b[39;49m\u001b[43mapply\u001b[49m\u001b[43m(\u001b[49m\u001b[38;5;124;43m\"\u001b[39;49m\u001b[38;5;124;43mcopy\u001b[39;49m\u001b[38;5;124;43m\"\u001b[39;49m\u001b[43m,\u001b[49m\u001b[43m \u001b[49m\u001b[43mdeep\u001b[49m\u001b[38;5;241;43m=\u001b[39;49m\u001b[43mdeep\u001b[49m\u001b[43m)\u001b[49m\n\u001b[0;32m    594\u001b[0m res\u001b[38;5;241m.\u001b[39maxes \u001b[38;5;241m=\u001b[39m new_axes\n\u001b[0;32m    596\u001b[0m \u001b[38;5;28;01mif\u001b[39;00m \u001b[38;5;28mself\u001b[39m\u001b[38;5;241m.\u001b[39mndim \u001b[38;5;241m>\u001b[39m \u001b[38;5;241m1\u001b[39m:\n\u001b[0;32m    597\u001b[0m     \u001b[38;5;66;03m# Avoid needing to re-compute these\u001b[39;00m\n",
      "File \u001b[1;32m~\\AppData\\Local\\Packages\\PythonSoftwareFoundation.Python.3.11_qbz5n2kfra8p0\\LocalCache\\local-packages\\Python311\\site-packages\\pandas\\core\\internals\\managers.py:363\u001b[0m, in \u001b[0;36mBaseBlockManager.apply\u001b[1;34m(self, f, align_keys, **kwargs)\u001b[0m\n\u001b[0;32m    361\u001b[0m         applied \u001b[38;5;241m=\u001b[39m b\u001b[38;5;241m.\u001b[39mapply(f, \u001b[38;5;241m*\u001b[39m\u001b[38;5;241m*\u001b[39mkwargs)\n\u001b[0;32m    362\u001b[0m     \u001b[38;5;28;01melse\u001b[39;00m:\n\u001b[1;32m--> 363\u001b[0m         applied \u001b[38;5;241m=\u001b[39m \u001b[38;5;28;43mgetattr\u001b[39;49m\u001b[43m(\u001b[49m\u001b[43mb\u001b[49m\u001b[43m,\u001b[49m\u001b[43m \u001b[49m\u001b[43mf\u001b[49m\u001b[43m)\u001b[49m\u001b[43m(\u001b[49m\u001b[38;5;241;43m*\u001b[39;49m\u001b[38;5;241;43m*\u001b[39;49m\u001b[43mkwargs\u001b[49m\u001b[43m)\u001b[49m\n\u001b[0;32m    364\u001b[0m     result_blocks \u001b[38;5;241m=\u001b[39m extend_blocks(applied, result_blocks)\n\u001b[0;32m    366\u001b[0m out \u001b[38;5;241m=\u001b[39m \u001b[38;5;28mtype\u001b[39m(\u001b[38;5;28mself\u001b[39m)\u001b[38;5;241m.\u001b[39mfrom_blocks(result_blocks, \u001b[38;5;28mself\u001b[39m\u001b[38;5;241m.\u001b[39maxes)\n",
      "File \u001b[1;32m~\\AppData\\Local\\Packages\\PythonSoftwareFoundation.Python.3.11_qbz5n2kfra8p0\\LocalCache\\local-packages\\Python311\\site-packages\\pandas\\core\\internals\\blocks.py:796\u001b[0m, in \u001b[0;36mBlock.copy\u001b[1;34m(self, deep)\u001b[0m\n\u001b[0;32m    794\u001b[0m refs: BlockValuesRefs \u001b[38;5;241m|\u001b[39m \u001b[38;5;28;01mNone\u001b[39;00m\n\u001b[0;32m    795\u001b[0m \u001b[38;5;28;01mif\u001b[39;00m deep:\n\u001b[1;32m--> 796\u001b[0m     values \u001b[38;5;241m=\u001b[39m values\u001b[38;5;241m.\u001b[39mcopy()\n\u001b[0;32m    797\u001b[0m     refs \u001b[38;5;241m=\u001b[39m \u001b[38;5;28;01mNone\u001b[39;00m\n\u001b[0;32m    798\u001b[0m \u001b[38;5;28;01melse\u001b[39;00m:\n",
      "\u001b[1;31mKeyboardInterrupt\u001b[0m: "
     ]
    }
   ],
   "source": [
    "for i in range(num_iter):\n",
    "    #train model based on the previous iteration of weights\n",
    "    trainer = NeatTrainer(pop_size = 30, num_generations=10, objectives=objectives, overall_threshold=0.3)#30, 10\n",
    "    lexicase = LexicaseEval(zips_df, data_manager, objectives, num_panels, weights)\n",
    "\n",
    "    network = trainer.run(config_path, lexicase.eval)\n",
    "    save_model(network, None, model_name=\"NEAT_model_lexicase_weighted.pkl\", base_directory=dir1 + \"\\\\Models\\\\Neat\\\\models\")\n",
    "\n",
    "    #evaluate model\n",
    "    neat_projection = create_neat_proj(data_manager, num_panels, NeatModel(network), objectives).objective_projections\n",
    "\n",
    "    for j, obj in enumerate(objectives):\n",
    "        ratio = neat_projection[obj.name][num_panels]/baseline_projection[obj.name][num_panels]\n",
    "        print(obj.name, \"ratio:\", ratio)\n",
    "\n",
    "        #increase the weighting of objectives that perform worse than baseline\n",
    "        if ratio < 1:\n",
    "            if ratio == 0:\n",
    "                ratio = 2 #arbitrarily stop divide by 0 error\n",
    "            weights[j] /= ratio\n",
    "\n",
    "    print(\"new weights:\", weights)"
   ]
  },
  {
   "cell_type": "code",
   "execution_count": null,
   "id": "ed63df4e",
   "metadata": {},
   "outputs": [
    {
     "data": {
      "text/plain": [
       "{0: 0.0, 10: 0.0}"
      ]
     },
     "execution_count": 14,
     "metadata": {},
     "output_type": "execute_result"
    }
   ],
   "source": [
    "#baseline_projection[\"Carbon Offset\"][num_panels]\n",
    "neat_projection[\"Carbon Offset\"]"
   ]
  },
  {
   "cell_type": "code",
   "execution_count": null,
   "id": "0c851ded",
   "metadata": {},
   "outputs": [],
   "source": []
  }
 ],
 "metadata": {
  "kernelspec": {
   "display_name": "Python 3",
   "language": "python",
   "name": "python3"
  },
  "language_info": {
   "codemirror_mode": {
    "name": "ipython",
    "version": 3
   },
   "file_extension": ".py",
   "mimetype": "text/x-python",
   "name": "python",
   "nbconvert_exporter": "python",
   "pygments_lexer": "ipython3",
   "version": "3.11.9"
  }
 },
 "nbformat": 4,
 "nbformat_minor": 5
}
