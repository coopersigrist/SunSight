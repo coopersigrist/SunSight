{
 "cells": [
  {
   "cell_type": "code",
   "execution_count": 1,
   "id": "470e04f0",
   "metadata": {},
   "outputs": [],
   "source": [
    "import os, sys\n",
    "dir2 = os.path.abspath('')\n",
    "dir1 = os.path.dirname(dir2)\n",
    "if not dir1 in sys.path: sys.path.append(dir1)\n",
    "\n",
    "import numpy as np\n",
    "from Simulation.projections_util import Objective, create_neat_proj, create_paper_objectives\n",
    "from Data.data_load_util import make_dataset\n",
    "from Data.data_manager import DataManager\n",
    "from scipy.optimize import milp, LinearConstraint, Bounds"
   ]
  },
  {
   "cell_type": "code",
   "execution_count": null,
   "id": "2ba3309f",
   "metadata": {},
   "outputs": [],
   "source": [
    "zips_df, state_df, pos_df = make_dataset(granularity='both', remove_outliers=False, load_dir_prefix='../Data/')\n",
    "data_manager = DataManager(zips_df, fields=['carbon_offset_metric_tons_per_panel', 'yearly_sunlight_kwh_kw_threshold_avg'])\n",
    "\n",
    "num_zips = len(zips_df)\n",
    "\n",
    "#objective weights\n",
    "weights = [1, 1, np.float64(1.487431321576903), 1]"
   ]
  },
  {
   "cell_type": "code",
   "execution_count": 3,
   "id": "f67ff163",
   "metadata": {},
   "outputs": [],
   "source": [
    "#prepare constants\n",
    "num_panels = 2000000\n",
    "energy_potential_by_zip = data_manager.normalized_df['yearly_sunlight_kwh_kw_threshold_avg'].values\n",
    "carbon_offset_by_zip = data_manager.normalized_df['carbon_offset_metric_tons_per_panel'].values\n",
    "\n",
    "#high black prop flag\n",
    "black_prop_median = zips_df['black_prop'].median()\n",
    "zips_df['black_prop_flag'] = 0\n",
    "zips_df.loc[zips_df['black_prop'] > black_prop_median, 'black_prop_flag'] = 1\n",
    "high_black_prop_flag = zips_df['black_prop_flag'].values\n",
    "\n",
    "#high income flag\n",
    "income_median = zips_df['Median_income'].median()\n",
    "zips_df['income_flag'] = 0\n",
    "zips_df.loc[zips_df['Median_income'] > income_median, 'income_flag'] = 1\n",
    "high_income_flag = zips_df['income_flag'].values"
   ]
  },
  {
   "cell_type": "code",
   "execution_count": 4,
   "id": "34ce5762",
   "metadata": {},
   "outputs": [],
   "source": [
    "#TEST RUN WITH NO EQUITY\n",
    "#optimize num panels in each zip\n",
    "# zip_placements = [weights[0] * energy_potential_by_zip[i]/num_panels + \n",
    "#                weights[1] * carbon_offset_by_zip[i]/num_panels for i in range(num_zips)]\n",
    "\n",
    "# zip_placement_bounds = data_manager.combined_df['count_qualified'].values\n",
    "\n",
    "# total_objective = -np.array(zip_placements)\n",
    "\n",
    "# # Variable bound\n",
    "# bounds = Bounds(np.array([0 for i in range(num_zips)]), np.array(zip_placement_bounds))\n",
    "\n",
    "# # Constraints matrix and bounds\n",
    "# A = np.array([\n",
    "#     [1 for i in range(num_zips)] # sum of total panels is num_panels\n",
    "# ])\n",
    "# lb = np.array([num_panels])\n",
    "# ub = np.array([num_panels])\n",
    "# constraints = LinearConstraint(A, lb, ub)\n",
    "\n",
    "# # Integer constraint\n",
    "# integrality = np.array([1 for i in range(num_zips)])  # 1 = integer, 0 = continuous\n",
    "\n",
    "# # Solve MILP\n",
    "# res = milp(c=total_objective, constraints=constraints, integrality=integrality, bounds=bounds)\n",
    "\n",
    "# # Output result\n",
    "# print(\"Status:\", res.message)\n",
    "# print(\"Objective value:\", res.fun)\n",
    "# print(\"x =\", res.x)\n"
   ]
  },
  {
   "cell_type": "code",
   "execution_count": 5,
   "id": "f0e9a255",
   "metadata": {},
   "outputs": [
    {
     "ename": "KeyboardInterrupt",
     "evalue": "",
     "output_type": "error",
     "traceback": [
      "\u001b[1;31m---------------------------------------------------------------------------\u001b[0m",
      "\u001b[1;31mKeyboardInterrupt\u001b[0m                         Traceback (most recent call last)",
      "Cell \u001b[1;32mIn[5], line 32\u001b[0m\n\u001b[0;32m     29\u001b[0m integrality \u001b[38;5;241m=\u001b[39m np\u001b[38;5;241m.\u001b[39marray([\u001b[38;5;241m1\u001b[39m \u001b[38;5;28;01mfor\u001b[39;00m i \u001b[38;5;129;01min\u001b[39;00m \u001b[38;5;28mrange\u001b[39m(num_zips)] \u001b[38;5;241m+\u001b[39m [\u001b[38;5;241m0\u001b[39m, \u001b[38;5;241m0\u001b[39m])  \u001b[38;5;66;03m# 1 = integer, 0 = continuous\u001b[39;00m\n\u001b[0;32m     31\u001b[0m \u001b[38;5;66;03m# Solve MILP\u001b[39;00m\n\u001b[1;32m---> 32\u001b[0m res \u001b[38;5;241m=\u001b[39m \u001b[43mmilp\u001b[49m\u001b[43m(\u001b[49m\u001b[43mc\u001b[49m\u001b[38;5;241;43m=\u001b[39;49m\u001b[43mtotal_objective\u001b[49m\u001b[43m,\u001b[49m\u001b[43m \u001b[49m\u001b[43mconstraints\u001b[49m\u001b[38;5;241;43m=\u001b[39;49m\u001b[43mconstraints\u001b[49m\u001b[43m,\u001b[49m\u001b[43m \u001b[49m\u001b[43mintegrality\u001b[49m\u001b[38;5;241;43m=\u001b[39;49m\u001b[43mintegrality\u001b[49m\u001b[43m,\u001b[49m\u001b[43m \u001b[49m\u001b[43mbounds\u001b[49m\u001b[38;5;241;43m=\u001b[39;49m\u001b[43mbounds\u001b[49m\u001b[43m)\u001b[49m\n\u001b[0;32m     34\u001b[0m \u001b[38;5;66;03m# Output result\u001b[39;00m\n\u001b[0;32m     35\u001b[0m \u001b[38;5;28mprint\u001b[39m(\u001b[38;5;124m\"\u001b[39m\u001b[38;5;124mStatus:\u001b[39m\u001b[38;5;124m\"\u001b[39m, res\u001b[38;5;241m.\u001b[39mmessage)\n",
      "File \u001b[1;32m~\\AppData\\Local\\Packages\\PythonSoftwareFoundation.Python.3.11_qbz5n2kfra8p0\\LocalCache\\local-packages\\Python311\\site-packages\\scipy\\optimize\\_milp.py:372\u001b[0m, in \u001b[0;36mmilp\u001b[1;34m(c, integrality, bounds, constraints, options)\u001b[0m\n\u001b[0;32m    369\u001b[0m args_iv \u001b[38;5;241m=\u001b[39m _milp_iv(c, integrality, bounds, constraints, options)\n\u001b[0;32m    370\u001b[0m c, integrality, lb, ub, indptr, indices, data, b_l, b_u, options \u001b[38;5;241m=\u001b[39m args_iv\n\u001b[1;32m--> 372\u001b[0m highs_res \u001b[38;5;241m=\u001b[39m \u001b[43m_highs_wrapper\u001b[49m\u001b[43m(\u001b[49m\u001b[43mc\u001b[49m\u001b[43m,\u001b[49m\u001b[43m \u001b[49m\u001b[43mindptr\u001b[49m\u001b[43m,\u001b[49m\u001b[43m \u001b[49m\u001b[43mindices\u001b[49m\u001b[43m,\u001b[49m\u001b[43m \u001b[49m\u001b[43mdata\u001b[49m\u001b[43m,\u001b[49m\u001b[43m \u001b[49m\u001b[43mb_l\u001b[49m\u001b[43m,\u001b[49m\u001b[43m \u001b[49m\u001b[43mb_u\u001b[49m\u001b[43m,\u001b[49m\n\u001b[0;32m    373\u001b[0m \u001b[43m                           \u001b[49m\u001b[43mlb\u001b[49m\u001b[43m,\u001b[49m\u001b[43m \u001b[49m\u001b[43mub\u001b[49m\u001b[43m,\u001b[49m\u001b[43m \u001b[49m\u001b[43mintegrality\u001b[49m\u001b[43m,\u001b[49m\u001b[43m \u001b[49m\u001b[43moptions\u001b[49m\u001b[43m)\u001b[49m\n\u001b[0;32m    375\u001b[0m res \u001b[38;5;241m=\u001b[39m {}\n\u001b[0;32m    377\u001b[0m \u001b[38;5;66;03m# Convert to scipy-style status and message\u001b[39;00m\n",
      "File \u001b[1;32m~\\AppData\\Local\\Packages\\PythonSoftwareFoundation.Python.3.11_qbz5n2kfra8p0\\LocalCache\\local-packages\\Python311\\site-packages\\scipy\\optimize\\_highspy\\_highs_wrapper.py:269\u001b[0m, in \u001b[0;36m_highs_wrapper\u001b[1;34m(c, indptr, indices, data, lhs, rhs, lb, ub, integrality, options)\u001b[0m\n\u001b[0;32m    267\u001b[0m \u001b[38;5;28;01mfor\u001b[39;00m ii \u001b[38;5;129;01min\u001b[39;00m \u001b[38;5;28mrange\u001b[39m(numcol):\n\u001b[0;32m    268\u001b[0m     \u001b[38;5;28;01mif\u001b[39;00m basis\u001b[38;5;241m.\u001b[39mcol_status[ii] \u001b[38;5;241m==\u001b[39m _h\u001b[38;5;241m.\u001b[39mHighsBasisStatus\u001b[38;5;241m.\u001b[39mkLower:\n\u001b[1;32m--> 269\u001b[0m         marg_bnds[\u001b[38;5;241m0\u001b[39m, ii] \u001b[38;5;241m=\u001b[39m solution\u001b[38;5;241m.\u001b[39mcol_dual[ii]\n\u001b[0;32m    270\u001b[0m     \u001b[38;5;28;01melif\u001b[39;00m basis\u001b[38;5;241m.\u001b[39mcol_status[ii] \u001b[38;5;241m==\u001b[39m _h\u001b[38;5;241m.\u001b[39mHighsBasisStatus\u001b[38;5;241m.\u001b[39mkUpper:\n\u001b[0;32m    271\u001b[0m         marg_bnds[\u001b[38;5;241m1\u001b[39m, ii] \u001b[38;5;241m=\u001b[39m solution\u001b[38;5;241m.\u001b[39mcol_dual[ii]\n",
      "\u001b[1;31mKeyboardInterrupt\u001b[0m: "
     ]
    }
   ],
   "source": [
    "#optimize num panels in each zip\n",
    "zip_placements = [weights[0] * energy_potential_by_zip[i]/num_panels + \n",
    "               weights[1] * carbon_offset_by_zip[i]/num_panels for i in range(num_zips)]\n",
    "\n",
    "zip_placement_bounds = data_manager.combined_df['count_qualified'].values.tolist()\n",
    "#aux vars for abs val when calculating equity\n",
    "auxilliary_vars = [-weights[2]/num_panels, -weights[3]/num_panels]\n",
    "\n",
    "total_objective = -np.array(zip_placements + auxilliary_vars)\n",
    "\n",
    "# Variable bound\n",
    "bounds = Bounds([0 for i in range(num_zips + 2)], zip_placement_bounds+ [np.inf, np.inf])\n",
    "\n",
    "# Constraints matrix and bounds\n",
    "A = np.array([\n",
    "    [1 for i in range(num_zips)] + [0, 0], # sum of total panels is num_panels\n",
    "    \n",
    "    [-2 * high_black_prop_flag[i] for i in range(num_zips)] + [1, 0], #racial aux constraint\n",
    "    [2 * high_black_prop_flag[i] for i in range(num_zips)] + [1, 0],\n",
    "\n",
    "    [-2 * high_income_flag[i] for i in range(num_zips)] + [0, 1], #equity aux constraint\n",
    "    [2 * high_income_flag[i] for i in range(num_zips)] + [0, 1], #equity aux constraint\n",
    "])\n",
    "lb = np.array([num_panels, -num_panels, num_panels, -num_panels, num_panels])\n",
    "ub = np.array([num_panels, np.inf, np.inf, np.inf, np.inf])\n",
    "constraints = LinearConstraint(A, lb, ub)\n",
    "\n",
    "# Integer constraint\n",
    "integrality = np.array([1 for i in range(num_zips)] + [0, 0])  # 1 = integer, 0 = continuous\n",
    "\n",
    "# Solve MILP\n",
    "res = milp(c=total_objective, constraints=constraints, integrality=integrality, bounds=bounds)\n",
    "\n",
    "# Output result\n",
    "print(\"Status:\", res.message)\n",
    "print(\"Objective value:\", res.fun)\n",
    "print(\"x =\", res.x)\n"
   ]
  },
  {
   "cell_type": "code",
   "execution_count": null,
   "id": "6a224951",
   "metadata": {},
   "outputs": [
    {
     "name": "stdout",
     "output_type": "stream",
     "text": [
      "Carbon Offset 25930.565671579632\n",
      "Energy Potential 130733178.03265929\n",
      "Racial Equity 1.500076435832268\n",
      "Income Equity 1.1850516328844773\n"
     ]
    }
   ],
   "source": [
    "#calculate the objectives for the generated placement\n",
    "panel_placements = {zips_df['region_name'][i]: res.x[i] for i in range(num_zips)}\n",
    "\n",
    "# projections = init_objective_projs(zip_df,objectives)\n",
    "\n",
    "num_panels = sum(panel_placements.values()) #total panels\n",
    "objectives = create_paper_objectives()\n",
    "\n",
    "for objective in objectives:\n",
    "    print(objective.name, objective.calc(zips_df, panel_placements))"
   ]
  },
  {
   "cell_type": "code",
   "execution_count": null,
   "id": "dd5df553",
   "metadata": {},
   "outputs": [],
   "source": [
    "import pickle\n",
    "with open(\"test_milp_placement.pkl\", \"wb\") as f:\n",
    "    pickle.dump(panel_placements, f)"
   ]
  },
  {
   "cell_type": "code",
   "execution_count": null,
   "id": "ba9f9759",
   "metadata": {},
   "outputs": [],
   "source": []
  }
 ],
 "metadata": {
  "kernelspec": {
   "display_name": "Python 3",
   "language": "python",
   "name": "python3"
  },
  "language_info": {
   "codemirror_mode": {
    "name": "ipython",
    "version": 3
   },
   "file_extension": ".py",
   "mimetype": "text/x-python",
   "name": "python",
   "nbconvert_exporter": "python",
   "pygments_lexer": "ipython3",
   "version": "3.11.9"
  }
 },
 "nbformat": 4,
 "nbformat_minor": 5
}
