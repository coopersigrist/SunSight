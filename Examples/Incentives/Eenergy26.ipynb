{
 "cells": [
  {
   "cell_type": "code",
   "execution_count": null,
   "id": "3580d120",
   "metadata": {},
   "outputs": [],
   "source": [
    "# Directory manipulation for relative notebook imports\n",
    "import os, sys\n",
    "dir2 = os.path.abspath('')\n",
    "dir1 = os.path.dirname(dir2)\n",
    "if not dir1 in sys.path: sys.path.append(dir1)\n",
    "\n",
    "# Relative import for relevant methods\n",
    "from Visualization.plot_util import *\n",
    "from Visualization.projection_plots import *\n",
    "from Data.data_load_util import *\n",
    "from Data.data_stats_util import *\n",
    "from Simulation.projections_util import *\n",
    "from Models.Neat.neat_util import *\n",
    "from Simulation.projections import *\n",
    "\n",
    "\n",
    "# Imports for ipynb visualization\n",
    "import plotly.io as pio"
   ]
  },
  {
   "cell_type": "code",
   "execution_count": null,
   "id": "af1d288c",
   "metadata": {},
   "outputs": [],
   "source": [
    "# Loading the datasets \n",
    "zips_df, state_df, pos_df = make_dataset(granularity='both', remove_outliers=False, load_dir_prefix='../Data/')"
   ]
  }
 ],
 "metadata": {
  "language_info": {
   "name": "python"
  }
 },
 "nbformat": 4,
 "nbformat_minor": 5
}
