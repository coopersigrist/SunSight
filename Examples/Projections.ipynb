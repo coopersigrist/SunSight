{
 "cells": [
  {
   "cell_type": "markdown",
   "id": "95e05ba8",
   "metadata": {},
   "source": [
    "Example code of generating projections and plotting them"
   ]
  },
  {
   "cell_type": "code",
   "execution_count": 1,
   "id": "7c49323d",
   "metadata": {},
   "outputs": [],
   "source": [
    "%matplotlib qt\n",
    "\n",
    "# Directory manipulation for relative notebook imports\n",
    "import os, sys\n",
    "dir2 = os.path.abspath('')\n",
    "dir1 = os.path.dirname(dir2)\n",
    "if not dir1 in sys.path: sys.path.append(dir1)\n",
    "\n",
    "# Relative import for relevant methods\n",
    "from Visualization.plot_util import *\n",
    "from Data.data_load_util import *\n",
    "from Simulation.projections_util import *\n",
    "from Models.Neat.neat_util import *\n",
    "from Simulation.projections import *\n"
   ]
  },
  {
   "cell_type": "code",
   "execution_count": 2,
   "id": "dca21955",
   "metadata": {},
   "outputs": [],
   "source": [
    "# Loading the datasets \n",
    "zips_df, state_df, pos_df = make_dataset(granularity='both', remove_outliers=False, load_dir_prefix='../Data/')\n",
    "\n",
    "data_manager = DataManager(zips_df, fields=['Median_income', 'carbon_offset_kg_per_panel', 'yearly_sunlight_kwh_kw_threshold_avg', 'panel_utilization', 'black_prop'])\n"
   ]
  },
  {
   "cell_type": "code",
   "execution_count": 3,
   "id": "58452505",
   "metadata": {},
   "outputs": [],
   "source": [
    "#get the NEAT projection\n",
    "# with open(dir1 + \"\\\\Models\\\\Neat\\\\models\\\\05-26-25\\\\NEAT_model_lexicase.pkl\", 'rb') as f:\n",
    "#     network = pickle.load(f)\n",
    "\n",
    "# neat_proj_new = create_neat_proj(data_manager, 1000000, NeatModel(network), create_paper_objectives())\n",
    "\n",
    "#original model\n",
    "with open(dir1+\"/Models/Neat/models/01-09-25/NEAT_model2M_lexicase.pkl\", 'rb') as f:\n",
    "    network = pickle.load(f)\n",
    "\n",
    "num_panels = 1000000\n",
    "neat_proj_original = create_neat_proj(data_manager, num_panels, NeatModel(network), create_paper_objectives())\n",
    "\n"
   ]
  },
  {
   "cell_type": "code",
   "execution_count": null,
   "id": "4a648e86",
   "metadata": {},
   "outputs": [
    {
     "name": "stdout",
     "output_type": "stream",
     "text": [
      "Loading from previous calculations...\n"
     ]
    }
   ],
   "source": [
    "#Get all other projections\n",
    "#projections = create_projections(zips_df, state_df, save=\"../Simulation/Projection_Saves/test.pkl\", load=\"../Simulation/Projection_Saves/test.pkl\")\n",
    "projections = create_projections(zips_df, state_df, n_panels=num_panels, save=\"../Simulation/Projection_Saves/test.pkl\")#, load=\"../Simulation/Projection_Saves/test.pkl\")"
   ]
  },
  {
   "cell_type": "code",
   "execution_count": 5,
   "id": "771b15c9",
   "metadata": {},
   "outputs": [],
   "source": [
    "compared_projections = [projections[1]] + [neat_proj_original]"
   ]
  },
  {
   "cell_type": "code",
   "execution_count": 14,
   "id": "e1bb68d9",
   "metadata": {},
   "outputs": [
    {
     "name": "stdout",
     "output_type": "stream",
     "text": [
      "['Solarize_Light2', '_classic_test_patch', '_mpl-gallery', '_mpl-gallery-nogrid', 'bmh', 'classic', 'dark_background', 'fast', 'fivethirtyeight', 'ggplot', 'grayscale', 'petroff10', 'seaborn-v0_8', 'seaborn-v0_8-bright', 'seaborn-v0_8-colorblind', 'seaborn-v0_8-dark', 'seaborn-v0_8-dark-palette', 'seaborn-v0_8-darkgrid', 'seaborn-v0_8-deep', 'seaborn-v0_8-muted', 'seaborn-v0_8-notebook', 'seaborn-v0_8-paper', 'seaborn-v0_8-pastel', 'seaborn-v0_8-poster', 'seaborn-v0_8-talk', 'seaborn-v0_8-ticks', 'seaborn-v0_8-white', 'seaborn-v0_8-whitegrid', 'tableau-colorblind10']\n"
     ]
    }
   ],
   "source": [
    "plot_projections(compared_projections, \"Carbon Offset\")"
   ]
  },
  {
   "cell_type": "code",
   "execution_count": 7,
   "id": "8198ba3d",
   "metadata": {},
   "outputs": [
    {
     "name": "stdout",
     "output_type": "stream",
     "text": [
      "['Solarize_Light2', '_classic_test_patch', '_mpl-gallery', '_mpl-gallery-nogrid', 'bmh', 'classic', 'dark_background', 'fast', 'fivethirtyeight', 'ggplot', 'grayscale', 'petroff10', 'seaborn-v0_8', 'seaborn-v0_8-bright', 'seaborn-v0_8-colorblind', 'seaborn-v0_8-dark', 'seaborn-v0_8-dark-palette', 'seaborn-v0_8-darkgrid', 'seaborn-v0_8-deep', 'seaborn-v0_8-muted', 'seaborn-v0_8-notebook', 'seaborn-v0_8-paper', 'seaborn-v0_8-pastel', 'seaborn-v0_8-poster', 'seaborn-v0_8-talk', 'seaborn-v0_8-ticks', 'seaborn-v0_8-white', 'seaborn-v0_8-whitegrid', 'tableau-colorblind10']\n"
     ]
    }
   ],
   "source": [
    "plot_projections(compared_projections, \"Energy Potential\")"
   ]
  },
  {
   "cell_type": "code",
   "execution_count": 8,
   "id": "f2c49524",
   "metadata": {},
   "outputs": [],
   "source": [
    "# plot_projections(compared_projections, \"Racial Equity\")"
   ]
  },
  {
   "cell_type": "code",
   "execution_count": 9,
   "id": "3cf57692",
   "metadata": {},
   "outputs": [],
   "source": [
    "# plot_projections(compared_projections, \"Income Equity\")"
   ]
  },
  {
   "cell_type": "code",
   "execution_count": 10,
   "id": "3f1f3ce6",
   "metadata": {},
   "outputs": [],
   "source": [
    "plot_comparison_ratio(projections[1], neat_proj_original, \"base\",\"comp\", interval=100000)"
   ]
  },
  {
   "cell_type": "code",
   "execution_count": 13,
   "id": "3af0614e",
   "metadata": {},
   "outputs": [],
   "source": [
    "plot_bar_comparison_ratio(projections[1], projections + [neat_proj_original])"
   ]
  },
  {
   "cell_type": "code",
   "execution_count": 12,
   "id": "dbd93158",
   "metadata": {},
   "outputs": [],
   "source": [
    "plt.close('all') #reset the plots"
   ]
  },
  {
   "cell_type": "code",
   "execution_count": null,
   "id": "c2c58bd5",
   "metadata": {},
   "outputs": [],
   "source": []
  }
 ],
 "metadata": {
  "kernelspec": {
   "display_name": "Python 3",
   "language": "python",
   "name": "python3"
  },
  "language_info": {
   "codemirror_mode": {
    "name": "ipython",
    "version": 3
   },
   "file_extension": ".py",
   "mimetype": "text/x-python",
   "name": "python",
   "nbconvert_exporter": "python",
   "pygments_lexer": "ipython3",
   "version": "3.11.9"
  }
 },
 "nbformat": 4,
 "nbformat_minor": 5
}
