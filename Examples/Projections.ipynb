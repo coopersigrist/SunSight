{
 "cells": [
  {
   "cell_type": "markdown",
   "id": "95e05ba8",
   "metadata": {},
   "source": [
    "Example code of generating projections and plotting them"
   ]
  },
  {
   "cell_type": "code",
   "execution_count": 1,
   "id": "7c49323d",
   "metadata": {},
   "outputs": [],
   "source": [
    "# Directory manipulation for relative notebook imports\n",
    "import os, sys\n",
    "dir2 = os.path.abspath('')\n",
    "dir1 = os.path.dirname(dir2)\n",
    "if not dir1 in sys.path: sys.path.append(dir1)\n",
    "\n",
    "# Relative import for relevant methods\n",
    "from Visualization.plot_util import *\n",
    "from Data.data_load_util import *\n",
    "from Simulation.projections_util import *"
   ]
  },
  {
   "cell_type": "code",
   "execution_count": 2,
   "id": "dca21955",
   "metadata": {},
   "outputs": [],
   "source": [
    "# Loading the datasets \n",
    "zips_df, state_df, pos_df = make_dataset(granularity='both', remove_outliers=False, load_dir_prefix='../Data/')"
   ]
  },
  {
   "cell_type": "code",
   "execution_count": 3,
   "id": "4a648e86",
   "metadata": {},
   "outputs": [
    {
     "name": "stdout",
     "output_type": "stream",
     "text": [
      "Creating Status-Quo Projection\n",
      "Creating Continued Projection\n"
     ]
    },
    {
     "name": "stderr",
     "output_type": "stream",
     "text": [
      "100%|██████████| 9/9 [01:47<00:00, 11.96s/it]"
     ]
    },
    {
     "name": "stdout",
     "output_type": "stream",
     "text": [
      "Creating Greedy Carbon Offset Projection\n",
      "Creating Greedy Average Sun Projection\n",
      "Creating Greedy Black Proportion Projection\n",
      "Creating Greedy Low Median Income Projection\n"
     ]
    },
    {
     "name": "stderr",
     "output_type": "stream",
     "text": [
      "\n"
     ]
    }
   ],
   "source": [
    "projections = create_projections(zips_df, state_df, save=\"../Simulation/Projection_Saves/test.pkl\", load=\"../Simulation/Projection_Saves/test.pkl\")"
   ]
  }
 ],
 "metadata": {
  "kernelspec": {
   "display_name": "Python 3",
   "language": "python",
   "name": "python3"
  },
  "language_info": {
   "codemirror_mode": {
    "name": "ipython",
    "version": 3
   },
   "file_extension": ".py",
   "mimetype": "text/x-python",
   "name": "python",
   "nbconvert_exporter": "python",
   "pygments_lexer": "ipython3",
   "version": "3.10.1"
  }
 },
 "nbformat": 4,
 "nbformat_minor": 5
}
