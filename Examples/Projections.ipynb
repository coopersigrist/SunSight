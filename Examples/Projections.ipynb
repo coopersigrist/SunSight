{
 "cells": [
  {
   "cell_type": "markdown",
   "id": "95e05ba8",
   "metadata": {},
   "source": [
    "Example code of generating projections and plotting them"
   ]
  },
  {
   "cell_type": "code",
   "execution_count": 1,
   "id": "7c49323d",
   "metadata": {},
   "outputs": [],
   "source": [
    "%matplotlib tk\n",
    "\n",
    "# Directory manipulation for relative notebook imports\n",
    "import os, sys\n",
    "dir2 = os.path.abspath('')\n",
    "dir1 = os.path.dirname(dir2)\n",
    "if not dir1 in sys.path: sys.path.append(dir1)\n",
    "\n",
    "# Relative import for relevant methods\n",
    "from Visualization.plot_util import *\n",
    "from Visualization.projection_plots import *\n",
    "from Data.data_load_util import *\n",
    "from Simulation.projections_util import *\n",
    "from Models.Neat.neat_util import *\n",
    "from Simulation.projections import *\n",
    "\n",
    "import pickle"
   ]
  },
  {
   "cell_type": "code",
   "execution_count": 2,
   "id": "dca21955",
   "metadata": {},
   "outputs": [],
   "source": [
    "# Loading the datasets \n",
    "zips_df, state_df, pos_df = make_dataset(granularity='both', remove_outliers=False, load_dir_prefix='../Data/')\n",
    "\n",
    "data_manager = DataManager(zips_df, fields=['Median_income', 'carbon_offset_kg_per_panel', 'yearly_sunlight_kwh_kw_threshold_avg', 'panel_utilization', 'black_prop'])\n"
   ]
  },
  {
   "cell_type": "code",
   "execution_count": 3,
   "id": "58452505",
   "metadata": {},
   "outputs": [
    {
     "name": "stdout",
     "output_type": "stream",
     "text": [
      "Loading from previous calculations...\n"
     ]
    }
   ],
   "source": [
    "\n",
    "num_panels = 2000000\n",
    "#get the NEAT projection\n",
    "with open(dir1 + \"\\\\Models\\\\Neat\\\\models\\\\05-30-25\\\\NEAT_model_lexicase_weighted_3.pkl\", 'rb') as f:\n",
    "    network = pickle.load(f)\n",
    "\n",
    "proj_path1 = \"../Simulation/Projection_Saves/projections_neat_2m.pkl\"\n",
    "neat_proj_new = create_neat_proj(data_manager, num_panels, NeatModel(network), create_paper_objectives(), save=proj_path1, load=proj_path1)\n",
    "\n",
    "#original model\n",
    "# with open(dir1+\"/Models/Neat/models/01-09-25/NEAT_model2M_lexicase.pkl\", 'rb') as f:\n",
    "#     network = pickle.load(f)\n",
    "\n",
    "\n",
    "# proj_path2 = \"../Simulation/Projection_Saves/projections_neat_1m.pkl\"\n",
    "# neat_proj_original = create_neat_proj(data_manager, num_panels, NeatModel(network), create_paper_objectives(), save=proj_path2, load=proj_path2)\n",
    "\n"
   ]
  },
  {
   "cell_type": "code",
   "execution_count": 4,
   "id": "798ce0b5",
   "metadata": {},
   "outputs": [
    {
     "name": "stdout",
     "output_type": "stream",
     "text": [
      "{0: np.float64(1.0009989598234297), np.float64(665.0): np.float64(1.0329417696071035), np.float64(5236.0): np.float64(1.0428613273342484), np.float64(9788.0): np.float64(1.0631845543529725), np.float64(20684.0): np.float64(1.1011527970459234), np.float64(21534.0): np.float64(1.127894131648141), np.float64(31078.0): np.float64(1.1207788936429885), np.float64(39020.0): np.float64(1.1127338851989568), np.float64(42273.0): np.float64(1.1451567849284379), np.float64(58079.0): np.float64(1.1338910956867794), np.float64(68028.0): np.float64(1.1605032705614495), np.float64(69803.0): np.float64(1.1740222685330468), np.float64(73680.0): np.float64(1.1889022109969711), np.float64(78446.0): np.float64(1.20814921960217), np.float64(84976.0): np.float64(1.19901713393901), np.float64(87516.0): np.float64(1.2353660699405338), np.float64(94466.0): np.float64(1.2709819373535587), np.float64(96977.0): np.float64(1.2946746370407913), np.float64(101750.0): np.float64(1.317143143564362), np.float64(101938.0): np.float64(1.3374737671493393), np.float64(107223.0): np.float64(1.3566462887312754), np.float64(120721.0): np.float64(1.3455416237739861), np.float64(125946.0): np.float64(1.3672892635863754), np.float64(134269.0): np.float64(1.3614588065370135), np.float64(151252.0): np.float64(1.3516131831325997), np.float64(151293.0): np.float64(1.3440556477725498), np.float64(153704.0): np.float64(1.3719513778162749), np.float64(158734.0): np.float64(1.362728725394743), np.float64(172108.0): np.float64(1.35156950264304), np.float64(180847.0): np.float64(1.3420833882195082), np.float64(184527.0): np.float64(1.3633195505803095), np.float64(186368.0): np.float64(1.372918557125288), np.float64(190269.0): np.float64(1.4057479402474102), np.float64(190281.0): np.float64(1.4172533910253335), np.float64(193727.0): np.float64(1.4504703237748406), np.float64(194095.0): np.float64(1.4699145742153812), np.float64(197187.0): np.float64(1.4611077220479332), np.float64(197526.0): np.float64(1.4650596518236698), np.float64(200750.0): np.float64(1.4807991330817676), np.float64(203025.0): np.float64(1.495157563067359), np.float64(203536.0): np.float64(1.518962412207372), np.float64(209898.0): np.float64(1.5084795931070245), np.float64(218458.0): np.float64(1.5029001727357056), np.float64(224668.0): np.float64(1.4929854964792888), np.float64(232673.0): np.float64(1.5096481547153164), np.float64(232674.0): np.float64(1.577803454755467), np.float64(236093.0): np.float64(1.5712073257617591), np.float64(244267.0): np.float64(1.563681438325522), np.float64(259500.0): np.float64(1.5804076878386784), np.float64(267646.0): np.float64(1.589811692056104), np.float64(281224.0): np.float64(1.5792846026876257), np.float64(283718.0): np.float64(1.5939064927707842), np.float64(285614.0): np.float64(1.6177683533516694), np.float64(294596.0): np.float64(1.6094803897009107), np.float64(297349.0): np.float64(1.6276376598202456), np.float64(305450.0): np.float64(1.6465343318708028), np.float64(306826.0): np.float64(1.6528203408194946), np.float64(317056.0): np.float64(1.6691780489391164), np.float64(322034.0): np.float64(1.6841476985085269), np.float64(325892.0): np.float64(1.7001432731860955), np.float64(331837.0): np.float64(1.7151035188902555), np.float64(343450.0): np.float64(1.7351728635906476), np.float64(350051.0): np.float64(1.726548130330238), np.float64(353496.0): np.float64(1.7417223376938484), np.float64(361127.0): np.float64(1.7641251517323944), np.float64(363754.0): np.float64(1.7741215857039232), np.float64(364911.0): np.float64(1.778735218796798), np.float64(378276.0): np.float64(1.7701830306664457), np.float64(381061.0): np.float64(1.780350781877201), np.float64(386280.0): np.float64(1.7996315675051853), np.float64(394465.0): np.float64(1.8064367202106897), np.float64(398861.0): np.float64(1.8208551704416451), np.float64(413141.0): np.float64(1.834222887539323), np.float64(421448.0): np.float64(1.841250639266491), np.float64(431367.0): np.float64(1.8294241318904654), np.float64(438299.0): np.float64(1.8391913944752165), np.float64(446769.0): np.float64(1.8512509088075417), np.float64(447486.0): np.float64(1.8459426735218676), np.float64(448862.0): np.float64(1.852328580313265), np.float64(456078.0): np.float64(1.8419533151650649), np.float64(464141.0): np.float64(1.8487102762772163), np.float64(469558.0): np.float64(1.8574148915590905), np.float64(475494.0): np.float64(1.867400339423295), np.float64(476185.0): np.float64(1.8538464930724499), np.float64(476186.0): np.float64(1.8528669869251144), np.float64(482561.0): np.float64(1.8401277041718658), np.float64(485395.0): np.float64(1.8506917173927782), np.float64(485736.0): np.float64(1.8359645978028458), np.float64(489483.0): np.float64(1.84506138100888), np.float64(492021.0): np.float64(1.8525190664842086), np.float64(492047.0): np.float64(1.8450770531860563), np.float64(501756.0): np.float64(1.8526367089294422), np.float64(503664.0): np.float64(1.8412077015156756), np.float64(504898.0): np.float64(1.8491556891517384), np.float64(509878.0): np.float64(1.8592500423821057), np.float64(515182.0): np.float64(1.8760741840434556), np.float64(515185.0): np.float64(1.8652623999357993), np.float64(526734.0): np.float64(1.8766703503419069), np.float64(534235.0): np.float64(1.8614746477019908), np.float64(545236.0): np.float64(1.875240973503321), np.float64(555628.0): np.float64(1.87783680002466), np.float64(559353.0): np.float64(1.860980448205097), np.float64(568603.0): np.float64(1.8517829074748546), np.float64(572989.0): np.float64(1.8670080974308068), np.float64(581000.0): np.float64(1.855218808414707), np.float64(590293.0): np.float64(1.867764435080148), np.float64(592298.0): np.float64(1.8758291208935), np.float64(594869.0): np.float64(1.8660406470963262), np.float64(603635.0): np.float64(1.8524801947725578), np.float64(612395.0): np.float64(1.839269605245928), np.float64(618246.0): np.float64(1.8300336542862832), np.float64(622982.0): np.float64(1.8415463956084197), np.float64(631878.0): np.float64(1.8542399087139367), np.float64(633782.0): np.float64(1.8631040039312812), np.float64(641463.0): np.float64(1.8796925274008558), np.float64(651170.0): np.float64(1.8897392848477554), np.float64(655609.0): np.float64(1.8991559134307505), np.float64(661632.0): np.float64(1.8889502118478487), np.float64(666371.0): np.float64(1.898043390061728), np.float64(669880.0): np.float64(1.9103139787215608), np.float64(677359.0): np.float64(1.9208693020881875), np.float64(686525.0): np.float64(1.9103975290678954), np.float64(692670.0): np.float64(1.9194876294847922), np.float64(704738.0): np.float64(1.9103195655885732), np.float64(706256.0): np.float64(1.9128191574049964), np.float64(708955.0): np.float64(1.9175180053946932), np.float64(714712.0): np.float64(1.905195034658131), np.float64(722226.0): np.float64(1.9200933909592564), np.float64(732855.0): np.float64(1.9337076585349717), np.float64(732856.0): np.float64(1.9510895116744227), np.float64(732880.0): np.float64(1.9444674532596093), np.float64(738120.0): np.float64(1.9378335776749174), np.float64(752899.0): np.float64(1.928364455195462), np.float64(772401.0): np.float64(1.9125245195607168), np.float64(774405.0): np.float64(1.9175103386613717), np.float64(781175.0): np.float64(1.9243341702076366), np.float64(787619.0): np.float64(1.9320515766377293), np.float64(797179.0): np.float64(1.9243558547606037), np.float64(804237.0): np.float64(1.9434114954022517), np.float64(804542.0): np.float64(1.9337701887139063), np.float64(817736.0): np.float64(1.9243324568870848), np.float64(824191.0): np.float64(1.9108341471955201), np.float64(831886.0): np.float64(1.9224598641170705), np.float64(832621.0): np.float64(1.919805971536094), np.float64(839096.0): np.float64(1.9278458998796477), np.float64(847824.0): np.float64(1.936046104662709), np.float64(855759.0): np.float64(1.9448423491467794), np.float64(871700.0): np.float64(1.9590557788069074), np.float64(871858.0): np.float64(1.9655700057832672), np.float64(874277.0): np.float64(1.979831103539248), np.float64(878503.0): np.float64(1.9886531003050227), np.float64(883646.0): np.float64(1.9942720294105223), np.float64(887343.0): np.float64(1.9873884938719937), np.float64(897458.0): np.float64(1.9746245223109489), np.float64(897832.0): np.float64(1.9678428890656028), np.float64(904139.0): np.float64(1.9748087314957674), np.float64(906267.0): np.float64(1.9799132773402526), np.float64(909691.0): np.float64(1.9859185056994508), np.float64(910039.0): np.float64(1.9752505058178682), np.float64(912883.0): np.float64(1.980974844670658), np.float64(912902.0): np.float64(1.985977766289535), np.float64(932134.0): np.float64(1.9726974004923061), np.float64(932481.0): np.float64(1.9626164030652617), np.float64(941711.0): np.float64(1.970029537388497), np.float64(942932.0): np.float64(1.9735579616700272), np.float64(944632.0): np.float64(1.9813161664941188), np.float64(959748.0): np.float64(1.9932933387497962), np.float64(965083.0): np.float64(1.9973205601715602), np.float64(968946.0): np.float64(1.99263060660288), np.float64(971669.0): np.float64(1.9828511158929623), np.float64(979567.0): np.float64(1.9774383628574355), np.float64(994310.0): np.float64(1.964801000610234), np.float64(1004168.0): np.float64(1.959724488878411), np.float64(1010649.0): np.float64(1.9506422450655028), np.float64(1016153.0): np.float64(1.9598223383498785), np.float64(1023685.0): np.float64(1.953700526598428), np.float64(1032418.0): np.float64(1.9571432503918897), np.float64(1034858.0): np.float64(1.9665752194306194), np.float64(1041791.0): np.float64(1.9611637905485764), np.float64(1046355.0): np.float64(1.9549460175912219), np.float64(1055697.0): np.float64(1.9470090675667613), np.float64(1058515.0): np.float64(1.9368694865961502), np.float64(1064281.0): np.float64(1.9255151309670964), np.float64(1069412.0): np.float64(1.9200593527525005), np.float64(1069612.0): np.float64(1.9293110259527753), np.float64(1077015.0): np.float64(1.919460883046238), np.float64(1082776.0): np.float64(1.9136255010846666), np.float64(1087980.0): np.float64(1.9052361481778626), np.float64(1094823.0): np.float64(1.9005664692289377), np.float64(1096468.0): np.float64(1.9065948219494662), np.float64(1111730.0): np.float64(1.9162566974254776), np.float64(1117834.0): np.float64(1.9133877676800055), np.float64(1124630.0): np.float64(1.9072101999486448), np.float64(1133614.0): np.float64(1.9008554454942104), np.float64(1135207.0): np.float64(1.8988139642175583), np.float64(1135254.0): np.float64(1.8955912841156677), np.float64(1142614.0): np.float64(1.8859379902042746), np.float64(1148090.0): np.float64(1.8751287973393986), np.float64(1158513.0): np.float64(1.8715716914632448), np.float64(1167492.0): np.float64(1.8816822147345011), np.float64(1172253.0): np.float64(1.8755021962065208), np.float64(1176795.0): np.float64(1.8640453019560874), np.float64(1182575.0): np.float64(1.8556856283577414), np.float64(1185299.0): np.float64(1.8517801044701214), np.float64(1206681.0): np.float64(1.8597926390003532), np.float64(1206968.0): np.float64(1.853846016142267), np.float64(1209008.0): np.float64(1.8492436265373082), np.float64(1220332.0): np.float64(1.859549054308594), np.float64(1226104.0): np.float64(1.8566868374001013), np.float64(1230915.0): np.float64(1.8630718958673407), np.float64(1238417.0): np.float64(1.8735331870289718), np.float64(1239352.0): np.float64(1.8688185577155076), np.float64(1247370.0): np.float64(1.8639276423390516), np.float64(1254167.0): np.float64(1.858390404701216), np.float64(1258920.0): np.float64(1.851095351821694), np.float64(1260535.0): np.float64(1.8462726636992874), np.float64(1278512.0): np.float64(1.839364762724648), np.float64(1282918.0): np.float64(1.8307393775938823), np.float64(1304561.0): np.float64(1.825137140014366), np.float64(1312610.0): np.float64(1.8169064286149204), np.float64(1330566.0): np.float64(1.8108832380032818), np.float64(1334555.0): np.float64(1.8078050422646255), np.float64(1338995.0): np.float64(1.8150905467714273), np.float64(1343778.0): np.float64(1.8102603690821182), np.float64(1352109.0): np.float64(1.8172109618122476), np.float64(1356426.0): np.float64(1.8260501812626424), np.float64(1358837.0): np.float64(1.8327883484239675), np.float64(1371727.0): np.float64(1.8414525475914838), np.float64(1377452.0): np.float64(1.8323171480497498), np.float64(1377463.0): np.float64(1.8322021163308566), np.float64(1382227.0): np.float64(1.829601991653626), np.float64(1386520.0): np.float64(1.8268122062269878), np.float64(1394855.0): np.float64(1.8193994322502047), np.float64(1406375.0): np.float64(1.8135509949920239), np.float64(1406779.0): np.float64(1.8121255007131742), np.float64(1410787.0): np.float64(1.8023349250984253), np.float64(1417690.0): np.float64(1.7980296166006584), np.float64(1418522.0): np.float64(1.7971533998118718), np.float64(1437934.0): np.float64(1.8032407558804868), np.float64(1469907.0): np.float64(1.7978235315590592), np.float64(1477072.0): np.float64(1.8098963135434034), np.float64(1479625.0): np.float64(1.8064462775683099), np.float64(1487921.0): np.float64(1.8023791246604262), np.float64(1508250.0): np.float64(1.7973931729833605), np.float64(1514553.0): np.float64(1.8039104632343699), np.float64(1520190.0): np.float64(1.8018840405969385), np.float64(1521343.0): np.float64(1.7947841902474857), np.float64(1532887.0): np.float64(1.7902947559733753), np.float64(1532930.0): np.float64(1.7928206437387786), np.float64(1547550.0): np.float64(1.7864297357594843), np.float64(1554233.0): np.float64(1.7797144375301865), np.float64(1559924.0): np.float64(1.7735791247297337), np.float64(1562579.0): np.float64(1.7685430506171667), np.float64(1573611.0): np.float64(1.7640468580368132), np.float64(1585970.0): np.float64(1.7703646765090557), np.float64(1588187.0): np.float64(1.7641336103809473), np.float64(1593913.0): np.float64(1.7714656046177117), np.float64(1600111.0): np.float64(1.775668565452704), np.float64(1601227.0): np.float64(1.7804237100075242), np.float64(1615012.0): np.float64(1.775800133812149), np.float64(1621644.0): np.float64(1.7838133528401585), np.float64(1621646.0): np.float64(1.7901040821993945), np.float64(1630648.0): np.float64(1.7985080772865882), np.float64(1631283.0): np.float64(1.8085566485221156), np.float64(1636960.0): np.float64(1.8017688294523149), np.float64(1650472.0): np.float64(1.8077662750175187), np.float64(1653858.0): np.float64(1.8022031599665649), np.float64(1666411.0): np.float64(1.7991248856877806), np.float64(1686393.0): np.float64(1.794435767983392), np.float64(1690455.0): np.float64(1.7998492432776152), np.float64(1695690.0): np.float64(1.8029401375325074), np.float64(1700535.0): np.float64(1.7982683743520549), np.float64(1701650.0): np.float64(1.7965023195088217), np.float64(1704956.0): np.float64(1.801701911782257), np.float64(1708873.0): np.float64(1.7964676938346091), np.float64(1717957.0): np.float64(1.7898480589690837), np.float64(1729836.0): np.float64(1.7864786686105316), np.float64(1730215.0): np.float64(1.7857957069611434), np.float64(1738622.0): np.float64(1.783064685437634), np.float64(1738733.0): np.float64(1.7759899788482005), np.float64(1739060.0): np.float64(1.7712717465729653), np.float64(1753184.0): np.float64(1.7788628141621887), np.float64(1759249.0): np.float64(1.7870760291895555), np.float64(1764666.0): np.float64(1.784003149958335), np.float64(1780627.0): np.float64(1.7793905743492915), np.float64(1791685.0): np.float64(1.7861049998057017), np.float64(1796806.0): np.float64(1.7828988675535202), np.float64(1817897.0): np.float64(1.7780802678244303), np.float64(1825659.0): np.float64(1.780698145545767), np.float64(1828382.0): np.float64(1.77799467099755), np.float64(1839146.0): np.float64(1.773965005616666), np.float64(1844840.0): np.float64(1.7696514459033574), np.float64(1849811.0): np.float64(1.7650878914875496), np.float64(1865271.0): np.float64(1.7612008561353463), np.float64(1871041.0): np.float64(1.7558751778874324), np.float64(1879809.0): np.float64(1.763281412830396), np.float64(1889881.0): np.float64(1.7572271919643496), np.float64(1893878.0): np.float64(1.7606863058677242), np.float64(1904303.0): np.float64(1.7570346337626626), np.float64(1906411.0): np.float64(1.7534808280278067), np.float64(1911886.0): np.float64(1.75016273662124), np.float64(1919706.0): np.float64(1.7547115771054638), np.float64(1926826.0): np.float64(1.7500300934537811), np.float64(1935666.0): np.float64(1.746750623576721), np.float64(1935834.0): np.float64(1.7475539311651203), np.float64(1945045.0): np.float64(1.7574053680401873), np.float64(1951555.0): np.float64(1.762886186557042), np.float64(1957912.0): np.float64(1.7682971687863942), np.float64(1963885.0): np.float64(1.7760993839985346), np.float64(1971299.0): np.float64(1.7809350568439655), np.float64(1976836.0): np.float64(1.7775611579682673), np.float64(1982052.0): np.float64(1.7725667374894358), np.float64(1985350.0): np.float64(1.777130295441283), np.float64(1993362.0): np.float64(1.7825684027410704), np.float64(2000000.0): np.float64(1.781100817770021)}\n"
     ]
    }
   ],
   "source": [
    "print(neat_proj_new.objective_projections[\"Income Equity\"])"
   ]
  },
  {
   "cell_type": "code",
   "execution_count": 5,
   "id": "4a648e86",
   "metadata": {},
   "outputs": [
    {
     "name": "stdout",
     "output_type": "stream",
     "text": [
      "Loading from previous simulation...\n"
     ]
    }
   ],
   "source": [
    "#Get all other projections\n",
    "#projections = create_projections(zips_df, state_df, save=\"../Simulation/Projection_Saves/test.pkl\", load=\"../Simulation/Projection_Saves/test.pkl\")\n",
    "projections = create_projections(zips_df, state_df, n_panels=num_panels, save=\"../Simulation/Projection_Saves/projections_2m.pkl\", load=\"../Simulation/Projection_Saves/projections_2m.pkl\")"
   ]
  },
  {
   "cell_type": "code",
   "execution_count": 6,
   "id": "771b15c9",
   "metadata": {},
   "outputs": [],
   "source": [
    "compared_projections = [projections[1], projections[2], projections[3]] + [neat_proj_new]"
   ]
  },
  {
   "cell_type": "code",
   "execution_count": 7,
   "id": "e1bb68d9",
   "metadata": {},
   "outputs": [],
   "source": [
    "plot_projections(compared_projections, \"Carbon Offset\") #fig 3"
   ]
  },
  {
   "cell_type": "code",
   "execution_count": 8,
   "id": "3f1f3ce6",
   "metadata": {},
   "outputs": [],
   "source": [
    "plot_comparison_ratio(projections[1], neat_proj_new, \"base\",\"comp\", interval=100000) "
   ]
  },
  {
   "cell_type": "code",
   "execution_count": 17,
   "id": "3af0614e",
   "metadata": {},
   "outputs": [],
   "source": [
    "plot_bar_comparison_ratio(projections[1], [projections[1], projections[0], projections[2], projections[3], projections[4], projections[5], neat_proj_new], panel_count=num_panels, color_palette = sns.color_palette(\"tab10\"))"
   ]
  },
  {
   "cell_type": "code",
   "execution_count": 10,
   "id": "6a3999f9",
   "metadata": {},
   "outputs": [],
   "source": [
    "plot_equity_comparison(neat_proj_new, create_equity_objectives(), panel_counts = [0,100000,1000000], color_palette=sns.color_palette(\"Greens\", 3)) #fig 4"
   ]
  },
  {
   "cell_type": "code",
   "execution_count": 11,
   "id": "dbd93158",
   "metadata": {},
   "outputs": [],
   "source": [
    "# plt.close('all') #reset the plots"
   ]
  },
  {
   "cell_type": "code",
   "execution_count": 12,
   "id": "c2c58bd5",
   "metadata": {},
   "outputs": [
    {
     "data": {
      "text/plain": [
       "np.float64(1.0009989598234297)"
      ]
     },
     "execution_count": 12,
     "metadata": {},
     "output_type": "execute_result"
    }
   ],
   "source": [
    "neat_proj_new.objective_projections[\"Income Equity\"][0]"
   ]
  },
  {
   "cell_type": "code",
   "execution_count": 13,
   "id": "60abdac3",
   "metadata": {},
   "outputs": [
    {
     "name": "stdout",
     "output_type": "stream",
     "text": [
      "high_avg: 0.00018969261357946354\n",
      "low_avg 6.331511937990085e-05\n"
     ]
    }
   ],
   "source": [
    "metric= \"Median_income\"\n",
    "metric_median = np.median(zips_df[metric])\n",
    "high_avg = np.mean(zips_df[zips_df[metric] > metric_median]['panel_utilization'].values)\n",
    "low_avg = np.mean(zips_df[zips_df[metric] < metric_median]['panel_utilization'].values)\n",
    "print(\"high_avg:\",high_avg)\n",
    "print(\"low_avg\",low_avg)"
   ]
  },
  {
   "cell_type": "code",
   "execution_count": 14,
   "id": "9cdb05d6",
   "metadata": {},
   "outputs": [],
   "source": [
    "# high_avg: 0.00018969261357946354\n",
    "# low_avg 6.331511937990085e-05"
   ]
  },
  {
   "cell_type": "code",
   "execution_count": null,
   "id": "ab5600f9",
   "metadata": {},
   "outputs": [],
   "source": [
    "# import seaborn as sns\n",
    "# sns.palplot(sns.color_palette(\"Greens\", 3))"
   ]
  },
  {
   "cell_type": "code",
   "execution_count": null,
   "id": "3a1bf26c",
   "metadata": {},
   "outputs": [],
   "source": []
  }
 ],
 "metadata": {
  "kernelspec": {
   "display_name": "Python 3",
   "language": "python",
   "name": "python3"
  },
  "language_info": {
   "codemirror_mode": {
    "name": "ipython",
    "version": 3
   },
   "file_extension": ".py",
   "mimetype": "text/x-python",
   "name": "python",
   "nbconvert_exporter": "python",
   "pygments_lexer": "ipython3",
   "version": "3.11.9"
  }
 },
 "nbformat": 4,
 "nbformat_minor": 5
}
