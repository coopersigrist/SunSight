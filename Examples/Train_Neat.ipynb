{
 "cells": [
  {
   "cell_type": "code",
   "execution_count": 1,
   "id": "13ba8085",
   "metadata": {},
   "outputs": [],
   "source": [
    "# Directory manipulation for relative notebook imports\n",
    "import os, sys\n",
    "dir2 = os.path.abspath('')\n",
    "dir1 = os.path.dirname(dir2)\n",
    "if not dir1 in sys.path: sys.path.append(dir1)\n",
    "\n",
    "# Relative import for relevant methods\n",
    "from Visualization.plot_util import *\n",
    "from Data.data_load_util import *\n",
    "from Simulation.projections_util import *\n",
    "from Models.Neat.neat_util import *\n"
   ]
  },
  {
   "cell_type": "code",
   "execution_count": 2,
   "id": "92260f57",
   "metadata": {},
   "outputs": [],
   "source": [
    "zips_df, state_df, pos_df = make_dataset(granularity='both', remove_outliers=False, load_dir_prefix='../Data/')\n",
    "\n",
    "# print(zips_df.columns)\n",
    "# inputs = ['Median_income', 'carbon_offset_kg_per_panel', 'energy_generation_per_panel', 'realized_potential_percent', 'black_prop']\n",
    "\n",
    "# new_inputs = ['Median_income', 'carbon_offset_kg_per_panel', 'yearly_sunlight_kwh_kw_threshold_avg', 'panel_utilization', 'black_prop']\n",
    "\n",
    "# for i in inputs:\n",
    "#     print(i, i in zips_df.columns)\n",
    "\n",
    "\n",
    "data_manager = DataManager(zips_df, fields=['Median_income', 'carbon_offset_kg_per_panel', 'yearly_sunlight_kwh_kw_threshold_avg', 'panel_utilization', 'black_prop'])\n"
   ]
  },
  {
   "cell_type": "code",
   "execution_count": null,
   "id": "bd68858c",
   "metadata": {},
   "outputs": [
    {
     "name": "stdout",
     "output_type": "stream",
     "text": [
      "Running\n",
      "loading configuration...\n",
      "creating population...\n",
      "setting reporters...\n",
      "training model...\n",
      "\n",
      " ****** Running generation 0 ****** \n",
      "\n"
     ]
    },
    {
     "name": "stderr",
     "output_type": "stream",
     "text": [
      "100%|██████████| 30/30 [1:28:05<00:00, 176.18s/it]\n"
     ]
    },
    {
     "name": "stdout",
     "output_type": "stream",
     "text": [
      "Population's average fitness: 1816864539.10952 stdev: 2803626534.04496\n",
      "Best fitness: 7010695971.38578 - size: (1, 6) - species 1 - id 8\n",
      "Average adjusted fitness: 0.259\n",
      "Mean genetic distance 1.279, standard deviation 0.372\n",
      "Population of 30 members in 1 species:\n",
      "   ID   age  size  fitness  adj fit  stag\n",
      "  ====  ===  ====  =======  =======  ====\n",
      "     1    0    30  7010695971.4    0.259     0\n",
      "Total extinctions: 0\n",
      "Generation time: 5285.426 sec\n",
      "\n",
      " ****** Running generation 1 ****** \n",
      "\n"
     ]
    },
    {
     "name": "stderr",
     "output_type": "stream",
     "text": [
      " 47%|████▋     | 14/30 [43:43<49:57, 187.36s/it]  \n"
     ]
    },
    {
     "ename": "KeyboardInterrupt",
     "evalue": "",
     "output_type": "error",
     "traceback": [
      "\u001b[1;31m---------------------------------------------------------------------------\u001b[0m",
      "\u001b[1;31mKeyboardInterrupt\u001b[0m                         Traceback (most recent call last)",
      "Cell \u001b[1;32mIn[4], line 10\u001b[0m\n\u001b[0;32m      7\u001b[0m \u001b[38;5;66;03m# paper weightings: [2 CO,2.5 EG,1.5 RE,1 IE]\u001b[39;00m\n\u001b[0;32m      8\u001b[0m lexicase \u001b[38;5;241m=\u001b[39m LexicaseEval(zips_df, data_manager, objectives, \u001b[38;5;241m2000000\u001b[39m, [\u001b[38;5;241m2\u001b[39m,\u001b[38;5;241m2.5\u001b[39m,\u001b[38;5;241m1.5\u001b[39m,\u001b[38;5;241m1\u001b[39m])\n\u001b[1;32m---> 10\u001b[0m network \u001b[38;5;241m=\u001b[39m \u001b[43mtrainer\u001b[49m\u001b[38;5;241;43m.\u001b[39;49m\u001b[43mrun\u001b[49m\u001b[43m(\u001b[49m\u001b[43mconfig_path\u001b[49m\u001b[43m,\u001b[49m\u001b[43m \u001b[49m\u001b[43mlexicase\u001b[49m\u001b[38;5;241;43m.\u001b[39;49m\u001b[43meval\u001b[49m\u001b[43m)\u001b[49m\n\u001b[0;32m     11\u001b[0m save_model(network, \u001b[38;5;28;01mNone\u001b[39;00m, model_name\u001b[38;5;241m=\u001b[39m\u001b[38;5;124m\"\u001b[39m\u001b[38;5;124mNEAT_model_lexicase_weighted.pkl\u001b[39m\u001b[38;5;124m\"\u001b[39m, base_directory\u001b[38;5;241m=\u001b[39mdir1 \u001b[38;5;241m+\u001b[39m \u001b[38;5;124m\"\u001b[39m\u001b[38;5;130;01m\\\\\u001b[39;00m\u001b[38;5;124mModels\u001b[39m\u001b[38;5;130;01m\\\\\u001b[39;00m\u001b[38;5;124mNeat\u001b[39m\u001b[38;5;130;01m\\\\\u001b[39;00m\u001b[38;5;124mmodels\u001b[39m\u001b[38;5;124m\"\u001b[39m)\n",
      "File \u001b[1;32mc:\\Users\\archi\\Documents\\Research\\SunSight\\Models\\Neat\\neat_util.py:201\u001b[0m, in \u001b[0;36mrun\u001b[1;34m(self, config_file, selection_method, reproduction_method, checkpoint)\u001b[0m\n\u001b[0;32m      0\u001b[0m <Error retrieving source code with stack_data see ipython/ipython#13598>\n",
      "File \u001b[1;32m~\\AppData\\Local\\Packages\\PythonSoftwareFoundation.Python.3.11_qbz5n2kfra8p0\\LocalCache\\local-packages\\Python311\\site-packages\\neat\\population.py:89\u001b[0m, in \u001b[0;36mPopulation.run\u001b[1;34m(self, fitness_function, n)\u001b[0m\n\u001b[0;32m     86\u001b[0m \u001b[38;5;28mself\u001b[39m\u001b[38;5;241m.\u001b[39mreporters\u001b[38;5;241m.\u001b[39mstart_generation(\u001b[38;5;28mself\u001b[39m\u001b[38;5;241m.\u001b[39mgeneration)\n\u001b[0;32m     88\u001b[0m \u001b[38;5;66;03m# Evaluate all genomes using the user-provided function.\u001b[39;00m\n\u001b[1;32m---> 89\u001b[0m \u001b[43mfitness_function\u001b[49m\u001b[43m(\u001b[49m\u001b[38;5;28;43mlist\u001b[39;49m\u001b[43m(\u001b[49m\u001b[43miteritems\u001b[49m\u001b[43m(\u001b[49m\u001b[38;5;28;43mself\u001b[39;49m\u001b[38;5;241;43m.\u001b[39;49m\u001b[43mpopulation\u001b[49m\u001b[43m)\u001b[49m\u001b[43m)\u001b[49m\u001b[43m,\u001b[49m\u001b[43m \u001b[49m\u001b[38;5;28;43mself\u001b[39;49m\u001b[38;5;241;43m.\u001b[39;49m\u001b[43mconfig\u001b[49m\u001b[43m)\u001b[49m\n\u001b[0;32m     91\u001b[0m \u001b[38;5;66;03m# Gather and report statistics.\u001b[39;00m\n\u001b[0;32m     92\u001b[0m best \u001b[38;5;241m=\u001b[39m \u001b[38;5;28;01mNone\u001b[39;00m\n",
      "File \u001b[1;32mc:\\Users\\archi\\Documents\\Research\\SunSight\\Models\\Neat\\neat_util.py:84\u001b[0m, in \u001b[0;36mLexicaseEval.eval\u001b[1;34m(self, genomes, config)\u001b[0m\n\u001b[0;32m     81\u001b[0m genome\u001b[38;5;241m.\u001b[39mfitness \u001b[38;5;241m=\u001b[39m \u001b[38;5;241m0\u001b[39m \u001b[38;5;66;03m#set all fitness to a minimum initially\u001b[39;00m\n\u001b[0;32m     83\u001b[0m model \u001b[38;5;241m=\u001b[39m NeatModel(neat\u001b[38;5;241m.\u001b[39mnn\u001b[38;5;241m.\u001b[39mFeedForwardNetwork\u001b[38;5;241m.\u001b[39mcreate(genome, config))\n\u001b[1;32m---> 84\u001b[0m projection \u001b[38;5;241m=\u001b[39m \u001b[43mcreate_neat_proj\u001b[49m\u001b[43m(\u001b[49m\u001b[38;5;28;43mself\u001b[39;49m\u001b[38;5;241;43m.\u001b[39;49m\u001b[43mdata_manager\u001b[49m\u001b[43m,\u001b[49m\u001b[43m \u001b[49m\u001b[38;5;28;43mself\u001b[39;49m\u001b[38;5;241;43m.\u001b[39;49m\u001b[43mnum_panels\u001b[49m\u001b[43m,\u001b[49m\u001b[43m \u001b[49m\u001b[43mmodel\u001b[49m\u001b[43m,\u001b[49m\u001b[43m \u001b[49m\u001b[38;5;28;43mself\u001b[39;49m\u001b[38;5;241;43m.\u001b[39;49m\u001b[43mobjectives\u001b[49m\u001b[43m)\u001b[49m\n\u001b[0;32m     85\u001b[0m \u001b[38;5;66;03m#objective projections is projection.objective_projections; is a dictionary of {objective name: objective score}\u001b[39;00m\n\u001b[0;32m     87\u001b[0m genome_info\u001b[38;5;241m.\u001b[39mappend([genome, projection\u001b[38;5;241m.\u001b[39mobjective_projections, \u001b[38;5;241m0\u001b[39m]) \u001b[38;5;66;03m#genome pointer, zip_order, and cumulative score\u001b[39;00m\n",
      "File \u001b[1;32mc:\\Users\\archi\\Documents\\Research\\SunSight\\Simulation\\projections_util.py:319\u001b[0m, in \u001b[0;36mcreate_neat_proj\u001b[1;34m(data_manager, n_panels, model, objectives, save, load)\u001b[0m\n\u001b[0;32m    316\u001b[0m zip_values \u001b[38;5;241m=\u001b[39m model\u001b[38;5;241m.\u001b[39mrun_network(data_manager)\n\u001b[0;32m    317\u001b[0m new_df[\u001b[38;5;124m'\u001b[39m\u001b[38;5;124mvalue\u001b[39m\u001b[38;5;124m'\u001b[39m] \u001b[38;5;241m=\u001b[39m new_df[\u001b[38;5;124m'\u001b[39m\u001b[38;5;124mregion_name\u001b[39m\u001b[38;5;124m'\u001b[39m]\u001b[38;5;241m.\u001b[39mmap(zip_values)\n\u001b[1;32m--> 319\u001b[0m proj \u001b[38;5;241m=\u001b[39m \u001b[43mcreate_greedy_projection\u001b[49m\u001b[43m(\u001b[49m\u001b[43mzip_df\u001b[49m\u001b[38;5;241;43m=\u001b[39;49m\u001b[43mnew_df\u001b[49m\u001b[43m,\u001b[49m\u001b[43m \u001b[49m\u001b[43mn_panels\u001b[49m\u001b[38;5;241;43m=\u001b[39;49m\u001b[43mn_panels\u001b[49m\u001b[43m,\u001b[49m\u001b[43m \u001b[49m\u001b[43msort_by\u001b[49m\u001b[38;5;241;43m=\u001b[39;49m\u001b[38;5;124;43m'\u001b[39;49m\u001b[38;5;124;43mvalue\u001b[39;49m\u001b[38;5;124;43m'\u001b[39;49m\u001b[43m,\u001b[49m\u001b[43m \u001b[49m\u001b[43mobjectives\u001b[49m\u001b[38;5;241;43m=\u001b[39;49m\u001b[43mobjectives\u001b[49m\u001b[43m,\u001b[49m\u001b[43m \u001b[49m\u001b[43mname\u001b[49m\u001b[38;5;241;43m=\u001b[39;49m\u001b[38;5;124;43m\"\u001b[39;49m\u001b[38;5;124;43mNEAT Model\u001b[39;49m\u001b[38;5;124;43m\"\u001b[39;49m\u001b[43m)\u001b[49m\n\u001b[0;32m    320\u001b[0m \u001b[38;5;66;03m#save\u001b[39;00m\n\u001b[0;32m    321\u001b[0m \u001b[38;5;28;01mif\u001b[39;00m save \u001b[38;5;129;01mis\u001b[39;00m \u001b[38;5;129;01mnot\u001b[39;00m \u001b[38;5;28;01mNone\u001b[39;00m:\n",
      "File \u001b[1;32mc:\\Users\\archi\\Documents\\Research\\SunSight\\Simulation\\projections_util.py:223\u001b[0m, in \u001b[0;36mcreate_greedy_projection\u001b[1;34m(zip_df, n_panels, sort_by, ascending, objectives, name)\u001b[0m\n\u001b[0;32m    220\u001b[0m     \u001b[38;5;66;03m# Calculates the value of each objective after placing all possible panels in the ZIP\u001b[39;00m\n\u001b[0;32m    221\u001b[0m     \u001b[38;5;66;03m# Each objective function must take the zip_df and the picked dict only\u001b[39;00m\n\u001b[0;32m    222\u001b[0m     \u001b[38;5;28;01mfor\u001b[39;00m objective \u001b[38;5;129;01min\u001b[39;00m objectives:\n\u001b[1;32m--> 223\u001b[0m         projections[objective\u001b[38;5;241m.\u001b[39mname][i] \u001b[38;5;241m=\u001b[39m \u001b[43mobjective\u001b[49m\u001b[38;5;241;43m.\u001b[39;49m\u001b[43mcalc\u001b[49m\u001b[43m(\u001b[49m\u001b[43mzip_df\u001b[49m\u001b[43m,\u001b[49m\u001b[43m \u001b[49m\u001b[43mpanel_placements\u001b[49m\u001b[43m)\u001b[49m\n\u001b[0;32m    225\u001b[0m     greedy_best_not_filled_index \u001b[38;5;241m+\u001b[39m\u001b[38;5;241m=\u001b[39m \u001b[38;5;241m1\u001b[39m\n\u001b[0;32m    227\u001b[0m greedy_proj \u001b[38;5;241m=\u001b[39m Projection(objective_projections\u001b[38;5;241m=\u001b[39mprojections, panel_placements\u001b[38;5;241m=\u001b[39mpanel_placements, name\u001b[38;5;241m=\u001b[39mname)\n",
      "File \u001b[1;32mc:\\Users\\archi\\Documents\\Research\\SunSight\\Simulation\\projections_util.py:60\u001b[0m, in \u001b[0;36mObjective.calc\u001b[1;34m(self, zip_df, panel_placements)\u001b[0m\n\u001b[0;32m     58\u001b[0m \u001b[38;5;28;01mdef\u001b[39;00m\u001b[38;5;250m \u001b[39m\u001b[38;5;21mcalc\u001b[39m(\u001b[38;5;28mself\u001b[39m, zip_df, panel_placements):\n\u001b[0;32m     59\u001b[0m     \u001b[38;5;66;03m# Wraps the given func with specific inputs (i.e. racial vs Income equity both use the calc_equity func)\u001b[39;00m\n\u001b[1;32m---> 60\u001b[0m     \u001b[38;5;28;01mreturn\u001b[39;00m \u001b[38;5;28;43mself\u001b[39;49m\u001b[38;5;241;43m.\u001b[39;49m\u001b[43mfunc\u001b[49m\u001b[43m(\u001b[49m\u001b[43mzip_df\u001b[49m\u001b[43m,\u001b[49m\u001b[43m \u001b[49m\u001b[43mpanel_placements\u001b[49m\u001b[43m,\u001b[49m\u001b[43m \u001b[49m\u001b[38;5;241;43m*\u001b[39;49m\u001b[38;5;241;43m*\u001b[39;49m\u001b[38;5;28;43mself\u001b[39;49m\u001b[38;5;241;43m.\u001b[39;49m\u001b[43mfunc_kwargs\u001b[49m\u001b[43m)\u001b[49m\n",
      "File \u001b[1;32mc:\\Users\\archi\\Documents\\Research\\SunSight\\Simulation\\projections_util.py:92\u001b[0m, in \u001b[0;36mcalc_equity\u001b[1;34m(zip_df, placed_panels, type, by)\u001b[0m\n\u001b[0;32m     89\u001b[0m     \u001b[38;5;28mprint\u001b[39m(\u001b[38;5;124m\"\u001b[39m\u001b[38;5;124mInvalid type for equity calculation, defaulting to black_prop\u001b[39m\u001b[38;5;124m\"\u001b[39m)\n\u001b[0;32m     90\u001b[0m     metric \u001b[38;5;241m=\u001b[39m \u001b[38;5;124m'\u001b[39m\u001b[38;5;124mblack_prop\u001b[39m\u001b[38;5;124m'\u001b[39m\n\u001b[1;32m---> 92\u001b[0m zip_df \u001b[38;5;241m=\u001b[39m \u001b[43mupdated_df_with_picks\u001b[49m\u001b[43m(\u001b[49m\u001b[43mzip_df\u001b[49m\u001b[43m,\u001b[49m\u001b[43m \u001b[49m\u001b[43mplaced_panels\u001b[49m\u001b[43m)\u001b[49m\n\u001b[0;32m     94\u001b[0m metric_median \u001b[38;5;241m=\u001b[39m np\u001b[38;5;241m.\u001b[39mmedian(zip_df[metric])\n\u001b[0;32m     95\u001b[0m high_avg \u001b[38;5;241m=\u001b[39m np\u001b[38;5;241m.\u001b[39mmean(zip_df[zip_df[metric] \u001b[38;5;241m>\u001b[39m metric_median][\u001b[38;5;124m'\u001b[39m\u001b[38;5;124mpanel_utilization\u001b[39m\u001b[38;5;124m'\u001b[39m]\u001b[38;5;241m.\u001b[39mvalues)\n",
      "File \u001b[1;32mc:\\Users\\archi\\Documents\\Research\\SunSight\\Simulation\\projections_util.py:71\u001b[0m, in \u001b[0;36mupdated_df_with_picks\u001b[1;34m(zip_df, placed_panels, load, save)\u001b[0m\n\u001b[0;32m     69\u001b[0m \u001b[38;5;28;01mfor\u001b[39;00m \u001b[38;5;28mzip\u001b[39m \u001b[38;5;129;01min\u001b[39;00m placed_panels:\n\u001b[0;32m     70\u001b[0m     index \u001b[38;5;241m=\u001b[39m \u001b[38;5;28mlist\u001b[39m(new_df[\u001b[38;5;124m'\u001b[39m\u001b[38;5;124mregion_name\u001b[39m\u001b[38;5;124m'\u001b[39m])\u001b[38;5;241m.\u001b[39mindex(\u001b[38;5;28mzip\u001b[39m)\n\u001b[1;32m---> 71\u001b[0m     new_existing[index] \u001b[38;5;241m+\u001b[39m\u001b[38;5;241m=\u001b[39m placed_panels[\u001b[38;5;28mzip\u001b[39m]\n\u001b[0;32m     74\u001b[0m \u001b[38;5;66;03m# print('Number install change:', np.sum(new_existing - new_df['existing_installs_count']) )\u001b[39;00m\n\u001b[0;32m     75\u001b[0m new_df[\u001b[38;5;124m'\u001b[39m\u001b[38;5;124mexisting_installs_count\u001b[39m\u001b[38;5;124m'\u001b[39m] \u001b[38;5;241m=\u001b[39m new_existing\n",
      "\u001b[1;31mKeyboardInterrupt\u001b[0m: "
     ]
    }
   ],
   "source": [
    "print(\"Running\")\n",
    "config_path = dir1 + \"\\\\Models\\\\Neat\\\\neat-config\"\n",
    "\n",
    "# combined_df = make_dataset(remove_outliers=True)\n",
    "objectives = create_paper_objectives()\n",
    "trainer = NeatTrainer(pop_size = 30, num_generations=15, objectives=objectives, overall_threshold=0.3)\n",
    "# paper weightings: [2 CO,2.5 EG,1.5 RE,1 IE]\n",
    "lexicase = LexicaseEval(zips_df, data_manager, objectives, 2000000, [2,2.5,1.5,1])\n",
    "\n",
    "network = trainer.run(config_path, lexicase.eval)\n",
    "save_model(network, None, model_name=\"NEAT_model_lexicase_weighted.pkl\", base_directory=dir1 + \"\\\\Models\\\\Neat\\\\models\")"
   ]
  }
 ],
 "metadata": {
  "kernelspec": {
   "display_name": "Python 3",
   "language": "python",
   "name": "python3"
  },
  "language_info": {
   "codemirror_mode": {
    "name": "ipython",
    "version": 3
   },
   "file_extension": ".py",
   "mimetype": "text/x-python",
   "name": "python",
   "nbconvert_exporter": "python",
   "pygments_lexer": "ipython3",
   "version": "3.11.9"
  }
 },
 "nbformat": 4,
 "nbformat_minor": 5
}
