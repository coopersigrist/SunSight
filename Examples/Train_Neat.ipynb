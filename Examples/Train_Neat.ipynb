{
 "cells": [
  {
   "cell_type": "code",
   "execution_count": 2,
   "id": "13ba8085",
   "metadata": {},
   "outputs": [],
   "source": [
    "# Directory manipulation for relative notebook imports\n",
    "import os, sys\n",
    "dir2 = os.path.abspath('')\n",
    "dir1 = os.path.dirname(dir2)\n",
    "if not dir1 in sys.path: sys.path.append(dir1)\n",
    "\n",
    "# Relative import for relevant methods\n",
    "from Visualization.plot_util import *\n",
    "from Data.data_load_util import *\n",
    "from Simulation.projections_util import *\n",
    "from Models.Neat.neat_util import *\n"
   ]
  },
  {
   "cell_type": "code",
   "execution_count": 3,
   "id": "92260f57",
   "metadata": {},
   "outputs": [],
   "source": [
    "zips_df, state_df, pos_df = make_dataset(granularity='both', remove_outliers=False, load_dir_prefix='../Data/')\n",
    "\n",
    "# print(zips_df.columns)\n",
    "# inputs = ['Median_income', 'carbon_offset_kg_per_panel', 'energy_generation_per_panel', 'realized_potential_percent', 'black_prop']\n",
    "\n",
    "# new_inputs = ['Median_income', 'carbon_offset_kg_per_panel', 'yearly_sunlight_kwh_kw_threshold_avg', 'panel_utilization', 'black_prop']\n",
    "\n",
    "# for i in inputs:\n",
    "#     print(i, i in zips_df.columns)\n",
    "\n",
    "\n",
    "data_manager = DataManager(zips_df, fields=['Median_income', 'carbon_offset_kg_per_panel', 'yearly_sunlight_kwh_kw_threshold_avg', 'panel_utilization', 'black_prop'])\n"
   ]
  },
  {
   "cell_type": "code",
   "execution_count": 4,
   "id": "bd68858c",
   "metadata": {},
   "outputs": [
    {
     "name": "stdout",
     "output_type": "stream",
     "text": [
      "Running\n",
      "loading configuration...\n",
      "creating population...\n",
      "setting reporters...\n",
      "training model...\n",
      "\n",
      " ****** Running generation 0 ****** \n",
      "\n"
     ]
    },
    {
     "name": "stderr",
     "output_type": "stream",
     "text": [
      "100%|██████████| 30/30 [1:03:17<00:00, 126.59s/it]\n"
     ]
    },
    {
     "name": "stdout",
     "output_type": "stream",
     "text": [
      "Population's average fitness: 0.30000 stdev: 0.45826\n",
      "Best fitness: 1.00000 - size: (1, 6) - species 1 - id 2\n",
      "Average adjusted fitness: 0.300\n",
      "Mean genetic distance 1.136, standard deviation 0.367\n",
      "Population of 30 members in 1 species:\n",
      "   ID   age  size  fitness  adj fit  stag\n",
      "  ====  ===  ====  =======  =======  ====\n",
      "     1    0    30      1.0    0.300     0\n",
      "Total extinctions: 0\n",
      "Generation time: 3797.748 sec\n",
      "\n",
      " ****** Running generation 1 ****** \n",
      "\n"
     ]
    },
    {
     "name": "stderr",
     "output_type": "stream",
     "text": [
      "100%|██████████| 30/30 [1:01:22<00:00, 122.75s/it]\n"
     ]
    },
    {
     "name": "stdout",
     "output_type": "stream",
     "text": [
      "Population's average fitness: 0.30000 stdev: 0.45826\n",
      "Best fitness: 1.00000 - size: (1, 5) - species 1 - id 35\n",
      "Average adjusted fitness: 0.300\n",
      "Mean genetic distance 1.272, standard deviation 0.429\n",
      "Population of 30 members in 1 species:\n",
      "   ID   age  size  fitness  adj fit  stag\n",
      "  ====  ===  ====  =======  =======  ====\n",
      "     1    1    30      1.0    0.300     1\n",
      "Total extinctions: 0\n",
      "Generation time: 3682.441 sec (3740.094 average)\n",
      "\n",
      " ****** Running generation 2 ****** \n",
      "\n"
     ]
    },
    {
     "name": "stderr",
     "output_type": "stream",
     "text": [
      "100%|██████████| 30/30 [53:25<00:00, 106.86s/it] \n"
     ]
    },
    {
     "name": "stdout",
     "output_type": "stream",
     "text": [
      "Population's average fitness: 0.30000 stdev: 0.45826\n",
      "Best fitness: 1.00000 - size: (1, 4) - species 1 - id 62\n",
      "Average adjusted fitness: 0.300\n",
      "Mean genetic distance 1.040, standard deviation 0.476\n",
      "Population of 30 members in 1 species:\n",
      "   ID   age  size  fitness  adj fit  stag\n",
      "  ====  ===  ====  =======  =======  ====\n",
      "     1    2    30      1.0    0.300     2\n",
      "Total extinctions: 0\n",
      "Generation time: 3205.953 sec (3562.047 average)\n",
      "\n",
      " ****** Running generation 3 ****** \n",
      "\n"
     ]
    },
    {
     "name": "stderr",
     "output_type": "stream",
     "text": [
      "100%|██████████| 30/30 [42:07<00:00, 84.26s/it]  \n"
     ]
    },
    {
     "name": "stdout",
     "output_type": "stream",
     "text": [
      "Population's average fitness: 0.30000 stdev: 0.45826\n",
      "Best fitness: 1.00000 - size: (1, 5) - species 1 - id 71\n",
      "Average adjusted fitness: 0.300\n",
      "Mean genetic distance 1.159, standard deviation 0.505\n",
      "Population of 30 members in 1 species:\n",
      "   ID   age  size  fitness  adj fit  stag\n",
      "  ====  ===  ====  =======  =======  ====\n",
      "     1    3    30      1.0    0.300     3\n",
      "Total extinctions: 0\n",
      "Generation time: 2527.939 sec (3303.520 average)\n",
      "\n",
      " ****** Running generation 4 ****** \n",
      "\n"
     ]
    },
    {
     "name": "stderr",
     "output_type": "stream",
     "text": [
      "100%|██████████| 30/30 [43:10<00:00, 86.36s/it] \n"
     ]
    },
    {
     "name": "stdout",
     "output_type": "stream",
     "text": [
      "Population's average fitness: 0.30000 stdev: 0.45826\n",
      "Best fitness: 1.00000 - size: (1, 5) - species 1 - id 120\n",
      "Average adjusted fitness: 0.300\n",
      "Mean genetic distance 1.409, standard deviation 0.414\n",
      "Population of 30 members in 1 species:\n",
      "   ID   age  size  fitness  adj fit  stag\n",
      "  ====  ===  ====  =======  =======  ====\n",
      "     1    4    30      1.0    0.300     4\n",
      "Total extinctions: 0\n",
      "Generation time: 2590.716 sec (3160.959 average)\n",
      "\n",
      " ****** Running generation 5 ****** \n",
      "\n"
     ]
    },
    {
     "name": "stderr",
     "output_type": "stream",
     "text": [
      "100%|██████████| 30/30 [52:19<00:00, 104.64s/it]\n"
     ]
    },
    {
     "name": "stdout",
     "output_type": "stream",
     "text": [
      "Population's average fitness: 0.30000 stdev: 0.45826\n",
      "Best fitness: 1.00000 - size: (1, 3) - species 1 - id 147\n",
      "Average adjusted fitness: 0.300\n",
      "Mean genetic distance 1.557, standard deviation 0.486\n",
      "Population of 30 members in 1 species:\n",
      "   ID   age  size  fitness  adj fit  stag\n",
      "  ====  ===  ====  =======  =======  ====\n",
      "     1    5    30      1.0    0.300     5\n",
      "Total extinctions: 0\n",
      "Generation time: 3139.162 sec (3157.327 average)\n",
      "\n",
      " ****** Running generation 6 ****** \n",
      "\n"
     ]
    },
    {
     "name": "stderr",
     "output_type": "stream",
     "text": [
      "100%|██████████| 30/30 [52:34<00:00, 105.15s/it]\n"
     ]
    },
    {
     "name": "stdout",
     "output_type": "stream",
     "text": [
      "Population's average fitness: 0.30000 stdev: 0.45826\n",
      "Best fitness: 1.00000 - size: (1, 3) - species 1 - id 147\n",
      "Average adjusted fitness: 0.300\n",
      "Mean genetic distance 1.623, standard deviation 0.487\n",
      "Population of 30 members in 1 species:\n",
      "   ID   age  size  fitness  adj fit  stag\n",
      "  ====  ===  ====  =======  =======  ====\n",
      "     1    6    30      1.0    0.300     6\n",
      "Total extinctions: 0\n",
      "Generation time: 3154.602 sec (3156.937 average)\n",
      "\n",
      " ****** Running generation 7 ****** \n",
      "\n"
     ]
    },
    {
     "name": "stderr",
     "output_type": "stream",
     "text": [
      "100%|██████████| 30/30 [39:36<00:00, 79.21s/it]\n"
     ]
    },
    {
     "name": "stdout",
     "output_type": "stream",
     "text": [
      "Population's average fitness: 0.30000 stdev: 0.45826\n",
      "Best fitness: 1.00000 - size: (1, 3) - species 1 - id 147\n",
      "Average adjusted fitness: 0.300\n",
      "Mean genetic distance 1.499, standard deviation 0.523\n",
      "Population of 30 members in 1 species:\n",
      "   ID   age  size  fitness  adj fit  stag\n",
      "  ====  ===  ====  =======  =======  ====\n",
      "     1    7    30      1.0    0.300     7\n",
      "Total extinctions: 0\n",
      "Generation time: 2376.250 sec (3059.351 average)\n",
      "\n",
      " ****** Running generation 8 ****** \n",
      "\n"
     ]
    },
    {
     "name": "stderr",
     "output_type": "stream",
     "text": [
      "100%|██████████| 30/30 [3:09:52<00:00, 379.75s/it]   \n"
     ]
    },
    {
     "name": "stdout",
     "output_type": "stream",
     "text": [
      "Population's average fitness: 0.30000 stdev: 0.45826\n",
      "Best fitness: 1.00000 - size: (1, 3) - species 1 - id 147\n",
      "Average adjusted fitness: 0.300\n",
      "Mean genetic distance 1.483, standard deviation 0.500\n",
      "Population of 30 members in 1 species:\n",
      "   ID   age  size  fitness  adj fit  stag\n",
      "  ====  ===  ====  =======  =======  ====\n",
      "     1    8    30      1.0    0.300     8\n",
      "Total extinctions: 0\n",
      "Generation time: 11392.594 sec (3985.267 average)\n",
      "\n",
      " ****** Running generation 9 ****** \n",
      "\n"
     ]
    },
    {
     "name": "stderr",
     "output_type": "stream",
     "text": [
      "100%|██████████| 30/30 [36:40<00:00, 73.36s/it]\n"
     ]
    },
    {
     "name": "stdout",
     "output_type": "stream",
     "text": [
      "Population's average fitness: 0.30000 stdev: 0.45826\n",
      "Best fitness: 1.00000 - size: (1, 1) - species 1 - id 263\n",
      "Average adjusted fitness: 0.300\n",
      "Mean genetic distance 1.844, standard deviation 0.508\n",
      "Population of 30 members in 1 species:\n",
      "   ID   age  size  fitness  adj fit  stag\n",
      "  ====  ===  ====  =======  =======  ====\n",
      "     1    9    30      1.0    0.300     9\n",
      "Total extinctions: 0\n",
      "Generation time: 2200.716 sec (3806.812 average)\n",
      "\n",
      " ****** Running generation 10 ****** \n",
      "\n"
     ]
    },
    {
     "name": "stderr",
     "output_type": "stream",
     "text": [
      "100%|██████████| 30/30 [44:59<00:00, 89.99s/it] \n"
     ]
    },
    {
     "name": "stdout",
     "output_type": "stream",
     "text": [
      "Population's average fitness: 0.30000 stdev: 0.45826\n",
      "Best fitness: 1.00000 - size: (1, 1) - species 1 - id 263\n",
      "Average adjusted fitness: 0.300\n",
      "Mean genetic distance 1.846, standard deviation 0.422\n",
      "Population of 30 members in 1 species:\n",
      "   ID   age  size  fitness  adj fit  stag\n",
      "  ====  ===  ====  =======  =======  ====\n",
      "     1   10    30      1.0    0.300    10\n",
      "Total extinctions: 0\n",
      "Generation time: 2699.830 sec (3697.020 average)\n",
      "\n",
      " ****** Running generation 11 ****** \n",
      "\n"
     ]
    },
    {
     "name": "stderr",
     "output_type": "stream",
     "text": [
      "100%|██████████| 30/30 [55:27<00:00, 110.90s/it]\n"
     ]
    },
    {
     "name": "stdout",
     "output_type": "stream",
     "text": [
      "Population's average fitness: 0.30000 stdev: 0.45826\n",
      "Best fitness: 1.00000 - size: (1, 1) - species 1 - id 263\n",
      "Average adjusted fitness: 0.300\n",
      "Mean genetic distance 2.208, standard deviation 0.700\n",
      "Population of 30 members in 2 species:\n",
      "   ID   age  size  fitness  adj fit  stag\n",
      "  ====  ===  ====  =======  =======  ====\n",
      "     1   11    27      1.0    0.300    11\n",
      "     2    0     3       --       --     0\n",
      "Total extinctions: 0\n",
      "Generation time: 3327.027 sec (3661.479 average)\n",
      "\n",
      " ****** Running generation 12 ****** \n",
      "\n"
     ]
    },
    {
     "name": "stderr",
     "output_type": "stream",
     "text": [
      "100%|██████████| 30/30 [1:07:39<00:00, 135.32s/it]\n"
     ]
    },
    {
     "name": "stdout",
     "output_type": "stream",
     "text": [
      "Population's average fitness: 0.30000 stdev: 0.45826\n",
      "Best fitness: 1.00000 - size: (1, 0) - species 1 - id 350\n",
      "Average adjusted fitness: 0.611\n",
      "Mean genetic distance 2.193, standard deviation 0.833\n",
      "Population of 30 members in 2 species:\n",
      "   ID   age  size  fitness  adj fit  stag\n",
      "  ====  ===  ====  =======  =======  ====\n",
      "     1   12    14      1.0    0.222    12\n",
      "     2    1    16      1.0    1.000     0\n",
      "Total extinctions: 0\n",
      "Generation time: 4059.478 sec (3746.831 average)\n",
      "\n",
      " ****** Running generation 13 ****** \n",
      "\n"
     ]
    },
    {
     "name": "stderr",
     "output_type": "stream",
     "text": [
      "100%|██████████| 30/30 [59:14<00:00, 118.49s/it]\n"
     ]
    },
    {
     "name": "stdout",
     "output_type": "stream",
     "text": [
      "Population's average fitness: 0.30000 stdev: 0.45826\n",
      "Best fitness: 1.00000 - size: (1, 0) - species 1 - id 350\n",
      "Average adjusted fitness: 0.312\n",
      "Mean genetic distance 2.321, standard deviation 0.609\n",
      "Population of 30 members in 2 species:\n",
      "   ID   age  size  fitness  adj fit  stag\n",
      "  ====  ===  ====  =======  =======  ====\n",
      "     1   13    19      1.0    0.500    13\n",
      "     2    2    11      1.0    0.125     1\n",
      "Total extinctions: 0\n",
      "Generation time: 3554.804 sec (3849.518 average)\n",
      "\n",
      " ****** Running generation 14 ****** \n",
      "\n"
     ]
    },
    {
     "name": "stderr",
     "output_type": "stream",
     "text": [
      "100%|██████████| 30/30 [1:02:01<00:00, 124.05s/it]"
     ]
    },
    {
     "name": "stdout",
     "output_type": "stream",
     "text": [
      "Population's average fitness: 0.30000 stdev: 0.45826\n",
      "Best fitness: 1.00000 - size: (3, 4) - species 1 - id 384\n",
      "Average adjusted fitness: 0.275\n",
      "Mean genetic distance 2.286, standard deviation 0.666\n",
      "Population of 30 members in 2 species:\n",
      "   ID   age  size  fitness  adj fit  stag\n",
      "  ====  ===  ====  =======  =======  ====\n",
      "     1   14    17      1.0    0.368    14\n",
      "     2    3    13      1.0    0.182     2\n",
      "Total extinctions: 0\n",
      "Generation time: 3721.481 sec (3962.594 average)\n",
      "\n",
      "Best individual in generation 14 meets fitness threshold - complexity: (1, 4)\n",
      "directory name: c:\\Users\\archi\\Documents\\Research\\SunSight\\Models\\Neat\\models\\06-17-25\n",
      "making directory\n"
     ]
    },
    {
     "name": "stderr",
     "output_type": "stream",
     "text": [
      "\n"
     ]
    }
   ],
   "source": [
    "print(\"Running\")\n",
    "config_path = dir1 + \"\\\\Models\\\\Neat\\\\neat-config\"\n",
    "\n",
    "# combined_df = make_dataset(remove_outliers=True)\n",
    "objectives = create_paper_objectives()\n",
    "trainer = NeatTrainer(pop_size = 30, num_generations=15, objectives=objectives, overall_threshold=0.3)\n",
    "# paper weightings: [2 CO,2.5 EG,1.5 RE,1 IE]\n",
    "lexicase = LexicaseEval(zips_df, data_manager, objectives, 2000000, [1,1,1,1])\n",
    "\n",
    "network = trainer.run(config_path, lexicase.eval)\n",
    "save_model(network, None, model_name=\"NEAT_model_lexicase_base_weights.pkl\", base_directory=dir1 + \"\\\\Models\\\\Neat\\\\models\")"
   ]
  },
  {
   "cell_type": "code",
   "execution_count": null,
   "id": "f0cdefe0",
   "metadata": {},
   "outputs": [],
   "source": []
  }
 ],
 "metadata": {
  "kernelspec": {
   "display_name": "Python 3",
   "language": "python",
   "name": "python3"
  },
  "language_info": {
   "codemirror_mode": {
    "name": "ipython",
    "version": 3
   },
   "file_extension": ".py",
   "mimetype": "text/x-python",
   "name": "python",
   "nbconvert_exporter": "python",
   "pygments_lexer": "ipython3",
   "version": "3.11.9"
  }
 },
 "nbformat": 4,
 "nbformat_minor": 5
}
