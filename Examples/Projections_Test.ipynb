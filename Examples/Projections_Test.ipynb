{
 "cells": [
  {
   "cell_type": "code",
   "execution_count": 1,
   "id": "9f5f7095",
   "metadata": {},
   "outputs": [
    {
     "name": "stdout",
     "output_type": "stream",
     "text": [
      "Status: Optimization terminated successfully. (HiGHS Status 7: Optimal)\n",
      "Objective value: 7.0\n",
      "x = [3. 4.]\n"
     ]
    }
   ],
   "source": [
    "%matplotlib tk\n",
    "\n",
    "# Directory manipulation for relative notebook imports\n",
    "import os, sys\n",
    "dir2 = os.path.abspath('')\n",
    "dir1 = os.path.dirname(dir2)\n",
    "if not dir1 in sys.path: sys.path.append(dir1)\n",
    "\n",
    "# Relative import for relevant methods\n",
    "from Visualization.plot_util import *\n",
    "from Visualization.projection_plots import *\n",
    "from Data.data_load_util import *\n",
    "from Simulation.projections_util import *\n",
    "from Models.Neat.neat_util import *\n",
    "from Simulation.projections import *\n",
    "\n",
    "import pickle"
   ]
  },
  {
   "cell_type": "code",
   "execution_count": 2,
   "id": "db102e19",
   "metadata": {},
   "outputs": [],
   "source": [
    "# Loading the datasets \n",
    "zips_df, state_df, pos_df = make_dataset(granularity='both', remove_outliers=False, load_dir_prefix='../Data/')\n",
    "\n",
    "data_manager = DataManager(zips_df, fields=['Median_income', 'carbon_offset_kg_per_panel', 'yearly_sunlight_kwh_kw_threshold_avg', 'panel_utilization', 'black_prop'])\n"
   ]
  },
  {
   "cell_type": "code",
   "execution_count": null,
   "id": "114ee76e",
   "metadata": {},
   "outputs": [
    {
     "ename": "TypeError",
     "evalue": "object of type '_io.BufferedReader' has no len()",
     "output_type": "error",
     "traceback": [
      "\u001b[1;31m---------------------------------------------------------------------------\u001b[0m",
      "\u001b[1;31mTypeError\u001b[0m                                 Traceback (most recent call last)",
      "Cell \u001b[1;32mIn[3], line 10\u001b[0m\n\u001b[0;32m      7\u001b[0m \u001b[38;5;28;01mwith\u001b[39;00m \u001b[38;5;28mopen\u001b[39m(\u001b[38;5;124m\"\u001b[39m\u001b[38;5;124mtest_milp_placement.pkl\u001b[39m\u001b[38;5;124m\"\u001b[39m, \u001b[38;5;124m'\u001b[39m\u001b[38;5;124mrb\u001b[39m\u001b[38;5;124m'\u001b[39m) \u001b[38;5;28;01mas\u001b[39;00m f:\n\u001b[0;32m      8\u001b[0m     milp_placement \u001b[38;5;241m=\u001b[39m f\n\u001b[1;32m---> 10\u001b[0m milp_proj \u001b[38;5;241m=\u001b[39m \u001b[43mcreate_projection_from_panels\u001b[49m\u001b[43m(\u001b[49m\u001b[43mzips_df\u001b[49m\u001b[43m,\u001b[49m\u001b[43m \u001b[49m\u001b[43mmilp_placement\u001b[49m\u001b[43m,\u001b[49m\u001b[43m \u001b[49m\u001b[43mcreate_paper_objectives\u001b[49m\u001b[43m(\u001b[49m\u001b[43m)\u001b[49m\u001b[43m)\u001b[49m\n",
      "File \u001b[1;32mc:\\Users\\archi\\Documents\\Research\\SunSight\\Simulation\\projections_util.py:254\u001b[0m, in \u001b[0;36mcreate_projection_from_panels\u001b[1;34m(zip_df, panel_placements, objectives, name)\u001b[0m\n\u001b[0;32m    253\u001b[0m \u001b[38;5;28;01mdef\u001b[39;00m\u001b[38;5;250m \u001b[39m\u001b[38;5;21mcreate_projection_from_panels\u001b[39m(zip_df, panel_placements:\u001b[38;5;28mdict\u001b[39m, objectives:\u001b[38;5;28mlist\u001b[39m[Objective]\u001b[38;5;241m=\u001b[39m[], name\u001b[38;5;241m=\u001b[39m\u001b[38;5;124m\"\u001b[39m\u001b[38;5;124mArbitrary Placement\u001b[39m\u001b[38;5;124m\"\u001b[39m):\n\u001b[1;32m--> 254\u001b[0m     \u001b[38;5;28;01mif\u001b[39;00m \u001b[38;5;28;43mlen\u001b[39;49m\u001b[43m(\u001b[49m\u001b[43mpanel_placements\u001b[49m\u001b[43m)\u001b[49m \u001b[38;5;241m!=\u001b[39m \u001b[38;5;28mlen\u001b[39m(zip_df):\n\u001b[0;32m    255\u001b[0m         \u001b[38;5;28mprint\u001b[39m(\u001b[38;5;124m\"\u001b[39m\u001b[38;5;124mwarning: panel dict length does not match zip_df length\u001b[39m\u001b[38;5;124m\"\u001b[39m)\n\u001b[0;32m    257\u001b[0m     \u001b[38;5;66;03m# Initialize the projections dictionary\u001b[39;00m\n",
      "\u001b[1;31mTypeError\u001b[0m: object of type '_io.BufferedReader' has no len()"
     ]
    }
   ],
   "source": [
    "#test the milf vs regular model\n",
    "with open(dir1 + \"\\\\Models\\\\Neat\\\\models\\\\NEAT_model_lexicase_base_weights.pkl\", 'rb') as f:\n",
    "    network = pickle.load(f)\n",
    "\n",
    "neat_proj = create_neat_proj(data_manager, 100000, NeatModel(network), create_paper_objectives())\n"
   ]
  },
  {
   "cell_type": "code",
   "execution_count": 7,
   "id": "67aba037",
   "metadata": {},
   "outputs": [],
   "source": [
    "\n",
    "with open(\"test_milp_placement.pkl\", 'rb') as f:\n",
    "    milp_placement = pickle.load(f)\n",
    "# print (milp_placement)\n",
    "milp_proj = create_projection_from_panels(zips_df, milp_placement, create_paper_objectives())"
   ]
  },
  {
   "cell_type": "code",
   "execution_count": null,
   "id": "f536547c",
   "metadata": {},
   "outputs": [],
   "source": []
  },
  {
   "cell_type": "code",
   "execution_count": null,
   "id": "a6c34191",
   "metadata": {},
   "outputs": [],
   "source": [
    "\n",
    "num_panels = 10000000\n",
    "#get the NEAT projection\n",
    "with open(dir1 + \"\\\\Models\\\\Neat\\\\models\\\\05-30-25\\\\NEAT_model_lexicase_weighted_3.pkl\", 'rb') as f:\n",
    "    network = pickle.load(f)\n",
    "\n",
    "#2 million panels\n",
    "neat_proj_path_2m = \"../Simulation/Projection_Saves/projections_neat_2m.pkl\"\n",
    "neat_proj_new_2m = create_neat_proj(data_manager, 2000000, NeatModel(network), create_paper_objectives(), save=neat_proj_path_2m, load=neat_proj_path_2m)\n",
    "\n",
    "\n",
    "#10 million panels\n",
    "neat_proj_path_10m = \"../Simulation/Projection_Saves/projections_neat_10m.pkl\"\n",
    "neat_proj_new_10m = create_neat_proj(data_manager, 10000000, NeatModel(network), create_paper_objectives(), save=neat_proj_path_10m, load=neat_proj_path_10m)\n",
    "\n",
    "#original model\n",
    "# with open(dir1+\"/Models/Neat/models/01-09-25/NEAT_model2M_lexicase.pkl\", 'rb') as f:\n",
    "#     network = pickle.load(f)\n",
    "\n",
    "\n",
    "# proj_path2 = \"../Simulation/Projection_Saves/projections_neat_1m.pkl\"\n",
    "# neat_proj_original = create_neat_proj(data_manager, num_panels, NeatModel(network), create_paper_objectives(), save=proj_path2, load=proj_path2)\n",
    "\n"
   ]
  },
  {
   "cell_type": "code",
   "execution_count": null,
   "id": "7ab05bfe",
   "metadata": {},
   "outputs": [],
   "source": [
    "#Get all other projections\n",
    "proj_path_2m = \"../Simulation/Projection_Saves/projections_2m.pkl\"\n",
    "projections_2m = create_projections(zips_df, state_df, n_panels=2000000, save=proj_path_2m, load=proj_path_2m)\n",
    "\n",
    "proj_path_10m = \"../Simulation/Projection_Saves/projections_10m.pkl\"\n",
    "projections_10m = create_projections(zips_df, state_df, n_panels=10000000, save=proj_path_10m, load=proj_path_10m)"
   ]
  },
  {
   "cell_type": "code",
   "execution_count": null,
   "id": "821e7a62",
   "metadata": {},
   "outputs": [],
   "source": [
    "#code to edit a projection\n",
    "# projections[1] = create_future_estimate_projection(zips_df, state_df, n_panels=num_panels, objectives=create_paper_objectives())\n",
    "# #save\n",
    "# with open(proj_path2, 'wb') as dir:\n",
    "#     pickle.dump(projections, dir, pickle.HIGHEST_PROTOCOL)"
   ]
  },
  {
   "cell_type": "code",
   "execution_count": null,
   "id": "b67ece43",
   "metadata": {},
   "outputs": [],
   "source": [
    "compared_projections_2m = [projections_2m[1], projections_2m[2], projections_2m[3]] + [neat_proj_new_2m] #includes future installs, carbon-optimal, energy-optimal, and neat\n",
    "compared_projections_10m = [projections_10m[1], projections_10m[2], projections_10m[3]] + [neat_proj_new_10m] #includes future installs, carbon-optimal, energy-optimal, and neat"
   ]
  },
  {
   "cell_type": "code",
   "execution_count": null,
   "id": "3b96240a",
   "metadata": {},
   "outputs": [],
   "source": [
    "#color palettes\n",
    "\n",
    "# methods_colorpalette = sns.color_palette(\"colorblind\")[0:3] + sns.color_palette(\"colorblind\")[4:] #skip the other orange color\n",
    "\n",
    "# methods_colorpalette = sns.color_palette(\"colorblind\")[0:1] + sns.color_palette(\"Set2\")[0:2] + sns.color_palette(\"Set2\")[3:4]\n",
    "\n",
    "# methods_colorpalette = [\"#0000a2\",\"#bc272d\", \"#e9c716\",\"#50ad9f\"]\n",
    "\n",
    "methods_colorpalette = [\"#4a2377\",\"#8cc5e3\",\"#0d7d87\", \"#f55f74\"]\n",
    "\n",
    "# methods_colorpalette = [\"#d31f11\",\"#f47a00\", \"#62c8d3\",\"#007191\"]\n",
    "\n",
    "# methods_colorpalette = [\"#d31f11\",\"#00a303ba\", \"#a14ca26a\",\"#077A9A\"]"
   ]
  },
  {
   "cell_type": "code",
   "execution_count": null,
   "id": "9d0da893",
   "metadata": {},
   "outputs": [],
   "source": [
    "#fig 3\n",
    "plot_projections(compared_projections_2m, \"Carbon Offset\", color_palette=methods_colorpalette, interval=100000)\n",
    "plot_projections(compared_projections_2m, \"Energy Potential\", color_palette=methods_colorpalette, interval=100000)"
   ]
  },
  {
   "cell_type": "code",
   "execution_count": null,
   "id": "0dbca211",
   "metadata": {},
   "outputs": [],
   "source": [
    "# plot_comparison_ratio(projections_10m[1], neat_proj_new_10m, \"base\",\"comp\", interval=100000) "
   ]
  },
  {
   "cell_type": "code",
   "execution_count": null,
   "id": "43639d91",
   "metadata": {},
   "outputs": [],
   "source": [
    "annual_new_panels = [720000 * 1.09**i for i in range(3)]\n",
    "for num_panels in [sum(annual_new_panels[:i]) for i in range(1,4)]:\n",
    "    plot_bar_comparison_ratio(projections_2m[1], [projections_2m[2], projections_2m[3], neat_proj_new_2m], panel_count=num_panels, color_palette = methods_colorpalette, hatches=[\"\\\\\",\"/\",\"x\"], hatch_size=0.5, fontsize=22)\n",
    "# plot_bar_comparison_ratio(projections_2m[1], [projections_2m[2], projections_2m[3], neat_proj_new_2m], panel_count=1000000, color_palette = methods_colorpalette, hatches=[\"\\\\\",\"/\",\"x\"], hatch_size=0.5, fontsize=22)\n",
    "# plot_bar_comparison_ratio(projections_2m[1], [projections_2m[2], projections_2m[3], neat_proj_new_2m], panel_count=2000000, color_palette = methods_colorpalette, hatches=[\"\\\\\",\"/\",\"x\"], hatch_size=0.5, fontsize=22)\n",
    "# plot_bar_comparison_ratio(projections_10m[1], [projections_10m[2], projections_10m[3], neat_proj_new_10m], panel_count=10000000, color_palette = methods_colorpalette, hatches=[\"\\\\\",\"/\",\"x\"], hatch_size=0.5)"
   ]
  },
  {
   "cell_type": "code",
   "execution_count": null,
   "id": "43251fde",
   "metadata": {},
   "outputs": [],
   "source": [
    "# plot_equity_comparison(neat_proj_new, create_equity_objectives(), panel_counts = [0,100000,1000000], color_palette=sns.color_palette(\"Greens\", 3)) #fig 4"
   ]
  },
  {
   "cell_type": "code",
   "execution_count": null,
   "id": "dc6e57d2",
   "metadata": {},
   "outputs": [],
   "source": [
    "# palette = sns.color_palette(\"Set1\")\n",
    "# sns.palplot(palette)"
   ]
  },
  {
   "cell_type": "code",
   "execution_count": null,
   "id": "deb8e9e9",
   "metadata": {},
   "outputs": [],
   "source": []
  }
 ],
 "metadata": {
  "kernelspec": {
   "display_name": "Python 3",
   "language": "python",
   "name": "python3"
  },
  "language_info": {
   "codemirror_mode": {
    "name": "ipython",
    "version": 3
   },
   "file_extension": ".py",
   "mimetype": "text/x-python",
   "name": "python",
   "nbconvert_exporter": "python",
   "pygments_lexer": "ipython3",
   "version": "3.11.9"
  }
 },
 "nbformat": 4,
 "nbformat_minor": 5
}
