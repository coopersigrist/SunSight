{
 "cells": [
  {
   "cell_type": "code",
   "execution_count": null,
   "id": "9f5f7095",
   "metadata": {},
   "outputs": [],
   "source": [
    "%matplotlib tk\n",
    "\n",
    "# Directory manipulation for relative notebook imports\n",
    "import os, sys\n",
    "dir2 = os.path.abspath('')\n",
    "dir1 = os.path.dirname(dir2)\n",
    "if not dir1 in sys.path: sys.path.append(dir1)\n",
    "\n",
    "# Relative import for relevant methods\n",
    "from Visualization.plot_util import *\n",
    "from Visualization.projection_plots import *\n",
    "from Data.data_load_util import *\n",
    "from Simulation.projections_util import *\n",
    "from Models.Neat.neat_util import *\n",
    "from Simulation.projections import *\n",
    "\n",
    "import pickle"
   ]
  },
  {
   "cell_type": "code",
   "execution_count": null,
   "id": "db102e19",
   "metadata": {},
   "outputs": [],
   "source": [
    "# Loading the datasets \n",
    "zips_df, state_df, pos_df = make_dataset(granularity='both', remove_outliers=False, load_dir_prefix='../Data/')\n",
    "\n",
    "data_manager = DataManager(zips_df, fields=['Median_income', 'carbon_offset_kg_per_panel', 'yearly_sunlight_kwh_kw_threshold_avg', 'panel_utilization', 'black_prop'])\n"
   ]
  },
  {
   "cell_type": "code",
   "execution_count": null,
   "id": "a6c34191",
   "metadata": {},
   "outputs": [],
   "source": [
    "\n",
    "num_panels = 2000000\n",
    "#get the NEAT projection\n",
    "with open(dir1 + \"\\\\Models\\\\Neat\\\\models\\\\05-30-25\\\\NEAT_model_lexicase_weighted_3.pkl\", 'rb') as f:\n",
    "    network = pickle.load(f)\n",
    "\n",
    "proj_path1 = \"../Simulation/Projection_Saves/projections_neat_2m.pkl\"\n",
    "neat_proj_new = create_neat_proj(data_manager, num_panels, NeatModel(network), create_paper_objectives(), save=proj_path1, load=proj_path1)\n",
    "\n",
    "#original model\n",
    "# with open(dir1+\"/Models/Neat/models/01-09-25/NEAT_model2M_lexicase.pkl\", 'rb') as f:\n",
    "#     network = pickle.load(f)\n",
    "\n",
    "\n",
    "# proj_path2 = \"../Simulation/Projection_Saves/projections_neat_1m.pkl\"\n",
    "# neat_proj_original = create_neat_proj(data_manager, num_panels, NeatModel(network), create_paper_objectives(), save=proj_path2, load=proj_path2)\n",
    "\n"
   ]
  },
  {
   "cell_type": "code",
   "execution_count": null,
   "id": "7ab05bfe",
   "metadata": {},
   "outputs": [],
   "source": [
    "#Get all other projections\n",
    "#projections = create_projections(zips_df, state_df, save=\"../Simulation/Projection_Saves/test.pkl\", load=\"../Simulation/Projection_Saves/test.pkl\")\n",
    "projections = create_projections(zips_df, state_df, n_panels=num_panels, save=\"../Simulation/Projection_Saves/projections_2m.pkl\", load=\"../Simulation/Projection_Saves/projections_2m.pkl\")"
   ]
  },
  {
   "cell_type": "code",
   "execution_count": null,
   "id": "b67ece43",
   "metadata": {},
   "outputs": [],
   "source": [
    "compared_projections = [projections[1], projections[2], projections[3]] + [neat_proj_new] #includes future installs, carbon-optimal, energy-optimal, and neat"
   ]
  },
  {
   "cell_type": "code",
   "execution_count": null,
   "id": "9d0da893",
   "metadata": {},
   "outputs": [],
   "source": [
    "#fig 3\n",
    "plot_projections(compared_projections, \"Carbon Offset\")\n",
    "plot_projections(compared_projections, \"Energy Potential\")"
   ]
  },
  {
   "cell_type": "code",
   "execution_count": null,
   "id": "0dbca211",
   "metadata": {},
   "outputs": [],
   "source": [
    "plot_comparison_ratio(projections[1], neat_proj_new, \"base\",\"comp\", interval=100000) "
   ]
  },
  {
   "cell_type": "code",
   "execution_count": null,
   "id": "43639d91",
   "metadata": {},
   "outputs": [],
   "source": [
    "plot_bar_comparison_ratio(projections[1], [projections[1], projections[0], projections[2], projections[3], projections[4], projections[5], neat_proj_new], panel_count=num_panels, color_palette = sns.color_palette(\"tab10\"))"
   ]
  },
  {
   "cell_type": "code",
   "execution_count": null,
   "id": "43251fde",
   "metadata": {},
   "outputs": [],
   "source": [
    "plot_equity_comparison(neat_proj_new, create_equity_objectives(), panel_counts = [0,100000,1000000], color_palette=sns.color_palette(\"Greens\", 3)) #fig 4"
   ]
  }
 ],
 "metadata": {
  "language_info": {
   "name": "python"
  }
 },
 "nbformat": 4,
 "nbformat_minor": 5
}
