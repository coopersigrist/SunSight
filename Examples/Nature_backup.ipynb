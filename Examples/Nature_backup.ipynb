{
 "cells": [
  {
   "cell_type": "code",
   "execution_count": null,
   "id": "bb033181",
   "metadata": {},
   "outputs": [],
   "source": []
  },
  {
   "cell_type": "code",
   "execution_count": null,
   "id": "5eda18c4",
   "metadata": {},
   "outputs": [],
   "source": [
    "# Directory manipulation for relative notebook imports\n",
    "import os, sys\n",
    "dir2 = os.path.abspath('')\n",
    "dir1 = os.path.dirname(dir2)\n",
    "if not dir1 in sys.path: sys.path.append(dir1)\n",
    "\n",
    "# Relative import for relevant methods\n",
    "from Visualization.plot_util import *\n",
    "from Visualization.projection_plots import *\n",
    "from Data.data_load_util import *\n",
    "from Simulation.projections_util import *\n",
    "from Models.Neat.neat_util import *\n",
    "from Simulation.projections import *\n",
    "\n",
    "\n",
    "# Imports for ipynb visualization\n",
    "import plotly.io as pio\n",
    "\n"
   ]
  },
  {
   "cell_type": "code",
   "execution_count": null,
   "id": "a97f6972",
   "metadata": {},
   "outputs": [],
   "source": [
    "# Data loading (including projections)\n",
    "zips_df, state_df, pos_df = make_dataset(granularity='both', remove_outliers=False, load_dir_prefix='../Data/')\n",
    "\n",
    "#update zips_df with 2025 panels\n",
    "projection2025 = get_baseline_2025(zips_df, state_df, save=\"../Data/Baseline_2025/baseline.pkl\", load=\"../Data/Baseline_2025/baseline.pkl\")\n",
    "zips_df = updated_df_with_picks(zips_df, projection2025.panel_placements)\n",
    "\n",
    "#process data for EVA\n",
    "data_manager = DataManager(zips_df, fields=['Median_income', 'carbon_offset_kg_per_panel', 'yearly_sunlight_kwh_kw_threshold_avg', 'panel_utilization', 'black_prop'])\n",
    "\n",
    "proj_path_2m = \"../Simulation/Projection_Saves/projections_2m_from_2025.pkl\"\n",
    "projections_2m = create_projections(zips_df, state_df, n_panels=2000000, save=proj_path_2m, load=proj_path_2m)\n",
    "# projections = create_projections(zips_df, state_df, n_panels=2000000, save=\"../Simulation/Projection_Saves/projections_2mil.pkl\", load=\"../Simulation/Projection_Saves/projections_2mil.pkl\")"
   ]
  },
  {
   "cell_type": "code",
   "execution_count": null,
   "id": "0b555d3e",
   "metadata": {},
   "outputs": [],
   "source": [
    "#get the EVA projection\n",
    "with open(dir1 + \"\\\\Models\\\\Neat\\\\models\\\\05-30-25\\\\NEAT_model_lexicase_weighted_3.pkl\", 'rb') as f:\n",
    "    network = pickle.load(f)\n",
    "\n",
    "#2 million panels\n",
    "neat_proj_path_2m = \"../Simulation/Projection_Saves/projections_neat_2m_from_2025.pkl\"\n",
    "neat_proj_new_2m = create_neat_proj(data_manager, 2000000, NeatModel(network), create_paper_objectives(), save=neat_proj_path_2m, load=neat_proj_path_2m)\n"
   ]
  },
  {
   "cell_type": "code",
   "execution_count": null,
   "id": "3cca95d0",
   "metadata": {},
   "outputs": [],
   "source": [
    "# State map of carbon offset per panel added\n",
    "plot_state_map(state_df, key='carbon_offset_metric_tons_per_panel', fill_color='Blues', legend_name=\"Carbon Offset Metric Tons Per Panel\", save_dir_prefix=\"../Visualization/\")\n"
   ]
  },
  {
   "cell_type": "code",
   "execution_count": null,
   "id": "e7fccd00",
   "metadata": {},
   "outputs": [],
   "source": [
    "pio.renderers.default = \"notebook\"\n",
    "geo_plot(zips_df['carbon_offset_metric_tons_per_panel'], 'mint', \"Carbon Offset Per Panel\", pos_df)"
   ]
  },
  {
   "cell_type": "code",
   "execution_count": null,
   "id": "204c269c",
   "metadata": {},
   "outputs": [],
   "source": [
    "#fig 3\n",
    "methods_colorpalette = [\"#4a2377\",\"#8cc5e3\",\"#0d7d87\", \"#f55f74\"]\n",
    "\n",
    "compared_projections_2m = [projections_2m[1], projections_2m[2], projections_2m[3]] + [neat_proj_new_2m]\n",
    "plot_projections(compared_projections_2m, \"Carbon Offset\", color_palette=methods_colorpalette, interval=100000)\n",
    "plot_projections(compared_projections_2m, \"Energy Potential\", color_palette=methods_colorpalette, interval=100000)"
   ]
  },
  {
   "cell_type": "code",
   "execution_count": null,
   "id": "70118cb4",
   "metadata": {},
   "outputs": [],
   "source": [
    "#fig 4\n",
    "coverage_ratio = 674914/1600000 #ratio of panels covered by our dataset\n",
    "annual_new_panels = [coverage_ratio * 720000 * 1.09**i for i in range(11)]\n",
    "\n",
    "#get the baseline\n",
    "installations2025 = 1973556\n",
    "baseline2025 = {key: projection2025.objective_projections[key][installations2025] for key in projection2025.objective_projections.keys()}\n",
    "\n",
    "for num_panels in [sum(annual_new_panels[:i]) for i in [1,2,5]]:\n",
    "    plot_bar_comparison_baseline_ratio(baseline2025, [projections_2m[2], projections_2m[3], neat_proj_new_2m], panel_count=num_panels, color_palette = methods_colorpalette, hatches=[\"\\\\\",\"/\",\"x\"], hatch_size=0.5, fontsize=22)\n"
   ]
  },
  {
   "cell_type": "code",
   "execution_count": null,
   "id": "87ef8f05",
   "metadata": {},
   "outputs": [],
   "source": [
    "#get absolute projected objectives from EVA after 5 years (2030) and 10 years (2035)\n",
    "for i in [5,10]:\n",
    "    num_panels = sum(annual_new_panels[:i])\n",
    "    proj1 = projections_2m[1].interpolateObjectiveProjections(num_panels)\n",
    "    proj2 = neat_proj_new_2m.interpolateObjectiveProjections(num_panels)\n",
    "    print(\"Years:\", i)\n",
    "    print(\"SQ Carbon offset:\",proj1['Carbon Offset'])\n",
    "    print(\"EVA Carbon offset:\",proj2['Carbon Offset'])\n",
    "    print(\"Carbon ratio:\", proj2['Carbon Offset']/proj1['Carbon Offset'])\n",
    "\n",
    "    print(\"SQ Energy Potential:\",proj1['Energy Potential'])\n",
    "    print(\"EVA Energy Potential:\",proj2['Energy Potential'])\n",
    "    print(\"Energy ratio:\", proj2['Energy Potential']/proj1['Energy Potential'])\n",
    "    print(\"----\")"
   ]
  },
  {
   "cell_type": "code",
   "execution_count": null,
   "id": "cc39ecdf",
   "metadata": {},
   "outputs": [],
   "source": []
  },
  {
   "cell_type": "code",
   "execution_count": null,
   "id": "fea3510f",
   "metadata": {},
   "outputs": [],
   "source": []
  }
 ],
 "metadata": {
  "language_info": {
   "name": "python"
  }
 },
 "nbformat": 4,
 "nbformat_minor": 5
}
